{
  "nbformat": 4,
  "nbformat_minor": 0,
  "metadata": {
    "colab": {
      "name": "0603_LSTM_Modeling",
      "provenance": [],
      "collapsed_sections": [],
      "toc_visible": true
    },
    "kernelspec": {
      "name": "python3",
      "display_name": "Python 3"
    },
    "accelerator": "GPU"
  },
  "cells": [
    {
      "cell_type": "code",
      "metadata": {
        "id": "ah4nMFqkGGb-",
        "colab_type": "code",
        "colab": {}
      },
      "source": [
        "import pandas as pd # 데이터 전처리\n",
        "import numpy as np # 데이터 전처리\n",
        "import random #데이터 전처리\n",
        "from pandas import DataFrame #데이터 전처리\n",
        "from collections import Counter #데이터 전처리\n",
        "\n",
        "from tqdm import tqdm #시간 측정용\n",
        "\n",
        "from sklearn.feature_extraction.text import CountVectorizer # model setting\n",
        "from sklearn.model_selection import train_test_split  # model setting\n",
        "\n",
        "from sklearn.naive_bayes import MultinomialNB  # model 관련\n",
        "from sklearn.metrics import roc_auc_score  # model 성능 확인\n",
        "\n",
        "import joblib\n",
        "import re\n",
        "from tqdm import tqdm_notebook\n",
        "import os\n",
        "import pickle\n",
        "\n",
        "from sklearn.model_selection import train_test_split\n",
        "from sklearn.model_selection import KFold\n",
        "import joblib"
      ],
      "execution_count": null,
      "outputs": []
    },
    {
      "cell_type": "code",
      "metadata": {
        "id": "pZ0HVknOAvX1",
        "colab_type": "code",
        "colab": {
          "base_uri": "https://localhost:8080/",
          "height": 127
        },
        "outputId": "d1851bc5-53c1-4f7d-911b-c8938401d8ee"
      },
      "source": [
        "from google.colab import drive\n",
        "\n",
        "drive.mount('/content/gdrive')"
      ],
      "execution_count": null,
      "outputs": [
        {
          "output_type": "stream",
          "text": [
            "Go to this URL in a browser: https://accounts.google.com/o/oauth2/auth?client_id=947318989803-6bn6qk8qdgf4n4g3pfee6491hc0brc4i.apps.googleusercontent.com&redirect_uri=urn%3aietf%3awg%3aoauth%3a2.0%3aoob&response_type=code&scope=email%20https%3a%2f%2fwww.googleapis.com%2fauth%2fdocs.test%20https%3a%2f%2fwww.googleapis.com%2fauth%2fdrive%20https%3a%2f%2fwww.googleapis.com%2fauth%2fdrive.photos.readonly%20https%3a%2f%2fwww.googleapis.com%2fauth%2fpeopleapi.readonly\n",
            "\n",
            "Enter your authorization code:\n",
            "··········\n",
            "Mounted at /content/gdrive\n"
          ],
          "name": "stdout"
        }
      ]
    },
    {
      "cell_type": "code",
      "metadata": {
        "id": "pcQtTmq9jVtm",
        "colab_type": "code",
        "colab": {
          "base_uri": "https://localhost:8080/",
          "height": 35
        },
        "outputId": "d3e67b3d-8527-45e2-99d5-62490fffb8b2"
      },
      "source": [
        "cd gdrive/My\\ Drive/kb_data"
      ],
      "execution_count": null,
      "outputs": [
        {
          "output_type": "stream",
          "text": [
            "/content/gdrive/My Drive/kb_data\n"
          ],
          "name": "stdout"
        }
      ]
    },
    {
      "cell_type": "markdown",
      "metadata": {
        "id": "1ak003zwMV48",
        "colab_type": "text"
      },
      "source": [
        "# LSTM Classification"
      ]
    },
    {
      "cell_type": "code",
      "metadata": {
        "colab_type": "code",
        "id": "XhyMLACHbvMG",
        "colab": {}
      },
      "source": [
        "prepared_train = pd.read_csv('prepared_train.csv', encoding='utf-8')"
      ],
      "execution_count": null,
      "outputs": []
    },
    {
      "cell_type": "code",
      "metadata": {
        "colab_type": "code",
        "id": "73-CibYCbvMX",
        "colab": {}
      },
      "source": [
        "del prepared_train['Unnamed: 0']"
      ],
      "execution_count": null,
      "outputs": []
    },
    {
      "cell_type": "code",
      "metadata": {
        "id": "2JLmAS_XjVww",
        "colab_type": "code",
        "colab": {}
      },
      "source": [
        "prepared_train = pd.read_csv('prepared_train.csv', encoding='utf-8')"
      ],
      "execution_count": null,
      "outputs": []
    },
    {
      "cell_type": "code",
      "metadata": {
        "id": "QtOotiDxjVz8",
        "colab_type": "code",
        "colab": {}
      },
      "source": [
        "#X_train = prepared_train.drop(['year_month', 'text', 'morph', 'orgin', 'smishing'], axis='columns')\n",
        "X_origin = prepared_train['text']\n",
        "Y_label = prepared_train['smishing']"
      ],
      "execution_count": null,
      "outputs": []
    },
    {
      "cell_type": "code",
      "metadata": {
        "id": "fijch-UKjV28",
        "colab_type": "code",
        "colab": {
          "base_uri": "https://localhost:8080/",
          "height": 53
        },
        "outputId": "484eee07-cb1e-4b73-aa27-8a8361903e77"
      },
      "source": [
        "#train - test 분류\n",
        "# 인덱싱 문제로 순서대로 train / test split\n",
        "%%time\n",
        "X_train, X_test, Y_train, Y_test = train_test_split(X_origin,\n",
        "                                                    Y_label,\n",
        "                                                    test_size = 0.2,\n",
        "                                                    shuffle = False)\n",
        "                                                    # random_state = 1825)"
      ],
      "execution_count": null,
      "outputs": [
        {
          "output_type": "stream",
          "text": [
            "CPU times: user 32.4 ms, sys: 0 ns, total: 32.4 ms\n",
            "Wall time: 32.4 ms\n"
          ],
          "name": "stdout"
        }
      ]
    },
    {
      "cell_type": "markdown",
      "metadata": {
        "id": "C_n_FDt1LkZx",
        "colab_type": "text"
      },
      "source": [
        "## tokenizer"
      ]
    },
    {
      "cell_type": "code",
      "metadata": {
        "id": "fOG-fg-pjV6U",
        "colab_type": "code",
        "colab": {
          "base_uri": "https://localhost:8080/",
          "height": 424
        },
        "outputId": "a0729194-be2e-4e31-e379-01e069c8f848"
      },
      "source": [
        "%%time\n",
        "from keras.preprocessing.text import Tokenizer\n",
        "\n",
        "# tokenizer\n",
        "max_words = 10000\n",
        "tokenizer = Tokenizer(num_words = max_words)\n",
        "tokenizer.fit_on_texts(X_train)\n",
        "X_train = tokenizer.texts_to_sequences(X_train)\n",
        "X_test = tokenizer.texts_to_sequences(X_test)"
      ],
      "execution_count": null,
      "outputs": [
        {
          "output_type": "stream",
          "text": [
            "Using TensorFlow backend.\n"
          ],
          "name": "stderr"
        },
        {
          "output_type": "error",
          "ename": "KeyboardInterrupt",
          "evalue": "ignored",
          "traceback": [
            "\u001b[0;31m---------------------------------------------------------------------------\u001b[0m",
            "\u001b[0;31mKeyboardInterrupt\u001b[0m                         Traceback (most recent call last)",
            "\u001b[0;32m<ipython-input-11-b10de4f4e308>\u001b[0m in \u001b[0;36m<module>\u001b[0;34m()\u001b[0m\n\u001b[0;32m----> 1\u001b[0;31m \u001b[0mget_ipython\u001b[0m\u001b[0;34m(\u001b[0m\u001b[0;34m)\u001b[0m\u001b[0;34m.\u001b[0m\u001b[0mrun_cell_magic\u001b[0m\u001b[0;34m(\u001b[0m\u001b[0;34m'time'\u001b[0m\u001b[0;34m,\u001b[0m \u001b[0;34m''\u001b[0m\u001b[0;34m,\u001b[0m \u001b[0;34m'from keras.preprocessing.text import Tokenizer\\n\\n# tokenizer\\nmax_words = 10000\\ntokenizer = Tokenizer(num_words = max_words)\\ntokenizer.fit_on_texts(X_train)\\nX_train = tokenizer.texts_to_sequences(X_train)\\nX_test = tokenizer.texts_to_sequences(X_test)'\u001b[0m\u001b[0;34m)\u001b[0m\u001b[0;34m\u001b[0m\u001b[0;34m\u001b[0m\u001b[0m\n\u001b[0m",
            "\u001b[0;32m/usr/local/lib/python3.6/dist-packages/IPython/core/interactiveshell.py\u001b[0m in \u001b[0;36mrun_cell_magic\u001b[0;34m(self, magic_name, line, cell)\u001b[0m\n\u001b[1;32m   2115\u001b[0m             \u001b[0mmagic_arg_s\u001b[0m \u001b[0;34m=\u001b[0m \u001b[0mself\u001b[0m\u001b[0;34m.\u001b[0m\u001b[0mvar_expand\u001b[0m\u001b[0;34m(\u001b[0m\u001b[0mline\u001b[0m\u001b[0;34m,\u001b[0m \u001b[0mstack_depth\u001b[0m\u001b[0;34m)\u001b[0m\u001b[0;34m\u001b[0m\u001b[0;34m\u001b[0m\u001b[0m\n\u001b[1;32m   2116\u001b[0m             \u001b[0;32mwith\u001b[0m \u001b[0mself\u001b[0m\u001b[0;34m.\u001b[0m\u001b[0mbuiltin_trap\u001b[0m\u001b[0;34m:\u001b[0m\u001b[0;34m\u001b[0m\u001b[0;34m\u001b[0m\u001b[0m\n\u001b[0;32m-> 2117\u001b[0;31m                 \u001b[0mresult\u001b[0m \u001b[0;34m=\u001b[0m \u001b[0mfn\u001b[0m\u001b[0;34m(\u001b[0m\u001b[0mmagic_arg_s\u001b[0m\u001b[0;34m,\u001b[0m \u001b[0mcell\u001b[0m\u001b[0;34m)\u001b[0m\u001b[0;34m\u001b[0m\u001b[0;34m\u001b[0m\u001b[0m\n\u001b[0m\u001b[1;32m   2118\u001b[0m             \u001b[0;32mreturn\u001b[0m \u001b[0mresult\u001b[0m\u001b[0;34m\u001b[0m\u001b[0;34m\u001b[0m\u001b[0m\n\u001b[1;32m   2119\u001b[0m \u001b[0;34m\u001b[0m\u001b[0m\n",
            "\u001b[0;32m<decorator-gen-60>\u001b[0m in \u001b[0;36mtime\u001b[0;34m(self, line, cell, local_ns)\u001b[0m\n",
            "\u001b[0;32m/usr/local/lib/python3.6/dist-packages/IPython/core/magic.py\u001b[0m in \u001b[0;36m<lambda>\u001b[0;34m(f, *a, **k)\u001b[0m\n\u001b[1;32m    186\u001b[0m     \u001b[0;31m# but it's overkill for just that one bit of state.\u001b[0m\u001b[0;34m\u001b[0m\u001b[0;34m\u001b[0m\u001b[0;34m\u001b[0m\u001b[0m\n\u001b[1;32m    187\u001b[0m     \u001b[0;32mdef\u001b[0m \u001b[0mmagic_deco\u001b[0m\u001b[0;34m(\u001b[0m\u001b[0marg\u001b[0m\u001b[0;34m)\u001b[0m\u001b[0;34m:\u001b[0m\u001b[0;34m\u001b[0m\u001b[0;34m\u001b[0m\u001b[0m\n\u001b[0;32m--> 188\u001b[0;31m         \u001b[0mcall\u001b[0m \u001b[0;34m=\u001b[0m \u001b[0;32mlambda\u001b[0m \u001b[0mf\u001b[0m\u001b[0;34m,\u001b[0m \u001b[0;34m*\u001b[0m\u001b[0ma\u001b[0m\u001b[0;34m,\u001b[0m \u001b[0;34m**\u001b[0m\u001b[0mk\u001b[0m\u001b[0;34m:\u001b[0m \u001b[0mf\u001b[0m\u001b[0;34m(\u001b[0m\u001b[0;34m*\u001b[0m\u001b[0ma\u001b[0m\u001b[0;34m,\u001b[0m \u001b[0;34m**\u001b[0m\u001b[0mk\u001b[0m\u001b[0;34m)\u001b[0m\u001b[0;34m\u001b[0m\u001b[0;34m\u001b[0m\u001b[0m\n\u001b[0m\u001b[1;32m    189\u001b[0m \u001b[0;34m\u001b[0m\u001b[0m\n\u001b[1;32m    190\u001b[0m         \u001b[0;32mif\u001b[0m \u001b[0mcallable\u001b[0m\u001b[0;34m(\u001b[0m\u001b[0marg\u001b[0m\u001b[0;34m)\u001b[0m\u001b[0;34m:\u001b[0m\u001b[0;34m\u001b[0m\u001b[0;34m\u001b[0m\u001b[0m\n",
            "\u001b[0;32m/usr/local/lib/python3.6/dist-packages/IPython/core/magics/execution.py\u001b[0m in \u001b[0;36mtime\u001b[0;34m(self, line, cell, local_ns)\u001b[0m\n\u001b[1;32m   1191\u001b[0m         \u001b[0;32melse\u001b[0m\u001b[0;34m:\u001b[0m\u001b[0;34m\u001b[0m\u001b[0;34m\u001b[0m\u001b[0m\n\u001b[1;32m   1192\u001b[0m             \u001b[0mst\u001b[0m \u001b[0;34m=\u001b[0m \u001b[0mclock2\u001b[0m\u001b[0;34m(\u001b[0m\u001b[0;34m)\u001b[0m\u001b[0;34m\u001b[0m\u001b[0;34m\u001b[0m\u001b[0m\n\u001b[0;32m-> 1193\u001b[0;31m             \u001b[0mexec\u001b[0m\u001b[0;34m(\u001b[0m\u001b[0mcode\u001b[0m\u001b[0;34m,\u001b[0m \u001b[0mglob\u001b[0m\u001b[0;34m,\u001b[0m \u001b[0mlocal_ns\u001b[0m\u001b[0;34m)\u001b[0m\u001b[0;34m\u001b[0m\u001b[0;34m\u001b[0m\u001b[0m\n\u001b[0m\u001b[1;32m   1194\u001b[0m             \u001b[0mend\u001b[0m \u001b[0;34m=\u001b[0m \u001b[0mclock2\u001b[0m\u001b[0;34m(\u001b[0m\u001b[0;34m)\u001b[0m\u001b[0;34m\u001b[0m\u001b[0;34m\u001b[0m\u001b[0m\n\u001b[1;32m   1195\u001b[0m             \u001b[0mout\u001b[0m \u001b[0;34m=\u001b[0m \u001b[0;32mNone\u001b[0m\u001b[0;34m\u001b[0m\u001b[0;34m\u001b[0m\u001b[0m\n",
            "\u001b[0;32m<timed exec>\u001b[0m in \u001b[0;36m<module>\u001b[0;34m()\u001b[0m\n",
            "\u001b[0;32m/usr/local/lib/python3.6/dist-packages/keras_preprocessing/text.py\u001b[0m in \u001b[0;36mtexts_to_sequences\u001b[0;34m(self, texts)\u001b[0m\n\u001b[1;32m    279\u001b[0m             \u001b[0mA\u001b[0m \u001b[0mlist\u001b[0m \u001b[0mof\u001b[0m \u001b[0msequences\u001b[0m\u001b[0;34m.\u001b[0m\u001b[0;34m\u001b[0m\u001b[0;34m\u001b[0m\u001b[0m\n\u001b[1;32m    280\u001b[0m         \"\"\"\n\u001b[0;32m--> 281\u001b[0;31m         \u001b[0;32mreturn\u001b[0m \u001b[0mlist\u001b[0m\u001b[0;34m(\u001b[0m\u001b[0mself\u001b[0m\u001b[0;34m.\u001b[0m\u001b[0mtexts_to_sequences_generator\u001b[0m\u001b[0;34m(\u001b[0m\u001b[0mtexts\u001b[0m\u001b[0;34m)\u001b[0m\u001b[0;34m)\u001b[0m\u001b[0;34m\u001b[0m\u001b[0;34m\u001b[0m\u001b[0m\n\u001b[0m\u001b[1;32m    282\u001b[0m \u001b[0;34m\u001b[0m\u001b[0m\n\u001b[1;32m    283\u001b[0m     \u001b[0;32mdef\u001b[0m \u001b[0mtexts_to_sequences_generator\u001b[0m\u001b[0;34m(\u001b[0m\u001b[0mself\u001b[0m\u001b[0;34m,\u001b[0m \u001b[0mtexts\u001b[0m\u001b[0;34m)\u001b[0m\u001b[0;34m:\u001b[0m\u001b[0;34m\u001b[0m\u001b[0;34m\u001b[0m\u001b[0m\n",
            "\u001b[0;32m/usr/local/lib/python3.6/dist-packages/keras_preprocessing/text.py\u001b[0m in \u001b[0;36mtexts_to_sequences_generator\u001b[0;34m(self, texts)\u001b[0m\n\u001b[1;32m    319\u001b[0m                             \u001b[0mvect\u001b[0m\u001b[0;34m.\u001b[0m\u001b[0mappend\u001b[0m\u001b[0;34m(\u001b[0m\u001b[0moov_token_index\u001b[0m\u001b[0;34m)\u001b[0m\u001b[0;34m\u001b[0m\u001b[0;34m\u001b[0m\u001b[0m\n\u001b[1;32m    320\u001b[0m                     \u001b[0;32melse\u001b[0m\u001b[0;34m:\u001b[0m\u001b[0;34m\u001b[0m\u001b[0;34m\u001b[0m\u001b[0m\n\u001b[0;32m--> 321\u001b[0;31m                         \u001b[0mvect\u001b[0m\u001b[0;34m.\u001b[0m\u001b[0mappend\u001b[0m\u001b[0;34m(\u001b[0m\u001b[0mi\u001b[0m\u001b[0;34m)\u001b[0m\u001b[0;34m\u001b[0m\u001b[0;34m\u001b[0m\u001b[0m\n\u001b[0m\u001b[1;32m    322\u001b[0m                 \u001b[0;32melif\u001b[0m \u001b[0mself\u001b[0m\u001b[0;34m.\u001b[0m\u001b[0moov_token\u001b[0m \u001b[0;32mis\u001b[0m \u001b[0;32mnot\u001b[0m \u001b[0;32mNone\u001b[0m\u001b[0;34m:\u001b[0m\u001b[0;34m\u001b[0m\u001b[0;34m\u001b[0m\u001b[0m\n\u001b[1;32m    323\u001b[0m                     \u001b[0mvect\u001b[0m\u001b[0;34m.\u001b[0m\u001b[0mappend\u001b[0m\u001b[0;34m(\u001b[0m\u001b[0moov_token_index\u001b[0m\u001b[0;34m)\u001b[0m\u001b[0;34m\u001b[0m\u001b[0;34m\u001b[0m\u001b[0m\n",
            "\u001b[0;31mKeyboardInterrupt\u001b[0m: "
          ]
        }
      ]
    },
    {
      "cell_type": "code",
      "metadata": {
        "id": "F4WZO3q3aLFG",
        "colab_type": "code",
        "colab": {}
      },
      "source": [
        "import matplotlib.pyplot as plt\n",
        "\n",
        "print(\"문자의 최대 길이 :\" , max(len(l) for l in X_train))\n",
        "print(\"문자의 평균 길이 : \", sum(map(len, X_train))/ len(X_train))\n",
        "plt.hist([len(s) for s in X_train], bins=50)\n",
        "plt.xlabel('length of Data')\n",
        "plt.ylabel('number of Data')\n",
        "plt.show()"
      ],
      "execution_count": null,
      "outputs": []
    },
    {
      "cell_type": "code",
      "metadata": {
        "id": "z4h9wyG_deT9",
        "colab_type": "code",
        "colab": {}
      },
      "source": [
        "print(\"문자의 최대 길이 : \", max(len(l) for l in X_test))\n",
        "print(\"문자의 평균 길이 : \", sum(map(len, X_test))/ len(X_test))\n",
        "plt.hist([len(s) for s in X_test], bins=50)\n",
        "plt.xlabel('length of Data')\n",
        "plt.ylabel('number of Data')\n",
        "plt.show()"
      ],
      "execution_count": null,
      "outputs": []
    },
    {
      "cell_type": "markdown",
      "metadata": {
        "id": "KmtRLu26s45e",
        "colab_type": "text"
      },
      "source": [
        "## max_len 기준에 따라 맞추기 (max_len = 264)"
      ]
    },
    {
      "cell_type": "code",
      "metadata": {
        "id": "O93flv73s_2z",
        "colab_type": "code",
        "colab": {}
      },
      "source": [
        "from keras.layers import Embedding, Dense, LSTM\n",
        "from keras.models import Sequential\n",
        "from keras.preprocessing.sequence import pad_sequences"
      ],
      "execution_count": null,
      "outputs": []
    },
    {
      "cell_type": "code",
      "metadata": {
        "id": "ppw3Vb5Vs_6Q",
        "colab_type": "code",
        "colab": {}
      },
      "source": [
        "%%time\n",
        "max_len = 264\n",
        "\n",
        "X_train = pad_sequences(X_train, maxlen=max_len)\n",
        "X_test = pad_sequences(X_test, maxlen=max_len)"
      ],
      "execution_count": null,
      "outputs": []
    },
    {
      "cell_type": "markdown",
      "metadata": {
        "id": "aGs09oWApI3d",
        "colab_type": "text"
      },
      "source": [
        "## label_data onehotencoding\n",
        "- smishing: 0 1\n",
        "- normal : 1 0 "
      ]
    },
    {
      "cell_type": "code",
      "metadata": {
        "id": "PJTNB-4UpI6d",
        "colab_type": "code",
        "colab": {
          "base_uri": "https://localhost:8080/",
          "height": 195
        },
        "outputId": "2680c2f5-0632-47d1-9e61-2040aceb8b00"
      },
      "source": [
        "YY_train = pd.DataFrame(Y_train)\n",
        "YY_train['smishing0'] = 1\n",
        "\n",
        "for idx in YY_train.index:\n",
        "    if YY_train['smishing'][idx] == 1:\n",
        "        YY_train['smishing0'][idx] = 0\n",
        "YY_train.head()\n"
      ],
      "execution_count": null,
      "outputs": [
        {
          "output_type": "execute_result",
          "data": {
            "text/html": [
              "<div>\n",
              "<style scoped>\n",
              "    .dataframe tbody tr th:only-of-type {\n",
              "        vertical-align: middle;\n",
              "    }\n",
              "\n",
              "    .dataframe tbody tr th {\n",
              "        vertical-align: top;\n",
              "    }\n",
              "\n",
              "    .dataframe thead th {\n",
              "        text-align: right;\n",
              "    }\n",
              "</style>\n",
              "<table border=\"1\" class=\"dataframe\">\n",
              "  <thead>\n",
              "    <tr style=\"text-align: right;\">\n",
              "      <th></th>\n",
              "      <th>smishing</th>\n",
              "      <th>smishing0</th>\n",
              "    </tr>\n",
              "  </thead>\n",
              "  <tbody>\n",
              "    <tr>\n",
              "      <th>0</th>\n",
              "      <td>0</td>\n",
              "      <td>1</td>\n",
              "    </tr>\n",
              "    <tr>\n",
              "      <th>1</th>\n",
              "      <td>0</td>\n",
              "      <td>1</td>\n",
              "    </tr>\n",
              "    <tr>\n",
              "      <th>2</th>\n",
              "      <td>0</td>\n",
              "      <td>1</td>\n",
              "    </tr>\n",
              "    <tr>\n",
              "      <th>3</th>\n",
              "      <td>0</td>\n",
              "      <td>1</td>\n",
              "    </tr>\n",
              "    <tr>\n",
              "      <th>4</th>\n",
              "      <td>0</td>\n",
              "      <td>1</td>\n",
              "    </tr>\n",
              "  </tbody>\n",
              "</table>\n",
              "</div>"
            ],
            "text/plain": [
              "   smishing  smishing0\n",
              "0         0          1\n",
              "1         0          1\n",
              "2         0          1\n",
              "3         0          1\n",
              "4         0          1"
            ]
          },
          "metadata": {
            "tags": []
          },
          "execution_count": 14
        }
      ]
    },
    {
      "cell_type": "code",
      "metadata": {
        "id": "ylu_JSqIpI9d",
        "colab_type": "code",
        "colab": {}
      },
      "source": [
        "YY_train = YY_train[['smishing0', 'smishing']]"
      ],
      "execution_count": null,
      "outputs": []
    },
    {
      "cell_type": "code",
      "metadata": {
        "id": "o3tlS_Zvq5zz",
        "colab_type": "code",
        "colab": {
          "base_uri": "https://localhost:8080/",
          "height": 195
        },
        "outputId": "8c69e8bb-40ef-4081-f1a6-6a171bbeffe0"
      },
      "source": [
        "YY_train.head()"
      ],
      "execution_count": null,
      "outputs": [
        {
          "output_type": "execute_result",
          "data": {
            "text/html": [
              "<div>\n",
              "<style scoped>\n",
              "    .dataframe tbody tr th:only-of-type {\n",
              "        vertical-align: middle;\n",
              "    }\n",
              "\n",
              "    .dataframe tbody tr th {\n",
              "        vertical-align: top;\n",
              "    }\n",
              "\n",
              "    .dataframe thead th {\n",
              "        text-align: right;\n",
              "    }\n",
              "</style>\n",
              "<table border=\"1\" class=\"dataframe\">\n",
              "  <thead>\n",
              "    <tr style=\"text-align: right;\">\n",
              "      <th></th>\n",
              "      <th>smishing0</th>\n",
              "      <th>smishing</th>\n",
              "    </tr>\n",
              "  </thead>\n",
              "  <tbody>\n",
              "    <tr>\n",
              "      <th>0</th>\n",
              "      <td>1</td>\n",
              "      <td>0</td>\n",
              "    </tr>\n",
              "    <tr>\n",
              "      <th>1</th>\n",
              "      <td>1</td>\n",
              "      <td>0</td>\n",
              "    </tr>\n",
              "    <tr>\n",
              "      <th>2</th>\n",
              "      <td>1</td>\n",
              "      <td>0</td>\n",
              "    </tr>\n",
              "    <tr>\n",
              "      <th>3</th>\n",
              "      <td>1</td>\n",
              "      <td>0</td>\n",
              "    </tr>\n",
              "    <tr>\n",
              "      <th>4</th>\n",
              "      <td>1</td>\n",
              "      <td>0</td>\n",
              "    </tr>\n",
              "  </tbody>\n",
              "</table>\n",
              "</div>"
            ],
            "text/plain": [
              "   smishing0  smishing\n",
              "0          1         0\n",
              "1          1         0\n",
              "2          1         0\n",
              "3          1         0\n",
              "4          1         0"
            ]
          },
          "metadata": {
            "tags": []
          },
          "execution_count": 16
        }
      ]
    },
    {
      "cell_type": "markdown",
      "metadata": {
        "id": "e0jV8RzbLn10",
        "colab_type": "text"
      },
      "source": [
        "## lstm modeling"
      ]
    },
    {
      "cell_type": "code",
      "metadata": {
        "id": "Cl2nzqN2jV9p",
        "colab_type": "code",
        "colab": {
          "base_uri": "https://localhost:8080/",
          "height": 706
        },
        "outputId": "e043dc87-1c85-4707-e10c-c81251c529e7"
      },
      "source": [
        "%%time\n",
        "# 4FOLD, 3SEED ENSEMBLE\n",
        "# 총 12개의 모델을 평균내어 예측한다\n",
        "\n",
        "lucky_seed=[1996]\n",
        "\n",
        "\n",
        "# enumerate: 인덱스와 값을 둘다 반복시킬 때 사용\n",
        "for num,rs in tqdm(enumerate(lucky_seed)):\n",
        "\n",
        "    kfold = KFold(n_splits=4, random_state = rs, shuffle = True)\n",
        "\n",
        "    # numpy.zeros((row,col))\n",
        "    # row*col size 영행렬 생성\n",
        "    # train.shape[0],198 -> trainset 41400개, target값:198개\n",
        "    cv=np.zeros((len(X_train),2))\n",
        "\n",
        "    for n, (train_idx, validation_idx) in tqdm(enumerate(kfold.split(X_train))):\n",
        "        \n",
        "        x_train, x_validation = X_train[train_idx], X_train[validation_idx]\n",
        "        y_train, y_validation = YY_train.loc[train_idx], YY_train.loc[validation_idx]\n",
        "        \n",
        "        lstm_model = Sequential()\n",
        "        lstm_model.add(Embedding(max_words, 100))\n",
        "        \n",
        "        lstm_model.add(LSTM(128))\n",
        "        lstm_model.add(Dense(2, activation='sigmoid'))\n",
        "        lstm_model.compile(optimizer='adam', loss='binary_crossentropy', metrics=['accuracy'])\n",
        "        \n",
        "        try:\n",
        "            lstm_history = lstm_model.fit(x_train, y_train, epochs=2, batch_size=32, validation_split=0.1)\n",
        "\n",
        "            fig, loss_ax = plt.subplots()\n",
        "            acc_ax = loss_ax.twinx()\n",
        "\n",
        "            loss_ax.plot(lstm_history.history['loss'], 'y', label='train loss')\n",
        "            loss_ax.plot(lstm_history.history['val_loss'], 'r', label='val loss')\n",
        "            loss_ax.set_xlabel('epoch')\n",
        "            loss_ax.set_ylabel('loss')\n",
        "            loss_ax.legend(loc='upper left')\n",
        "\n",
        "            acc_ax.plot(lstm_history.history['acc'], 'b', label='train acc')\n",
        "            acc_ax.plot(lstm_history.history['val_acc'], 'g', label='val acc')\n",
        "            acc_ax.set_ylabel('accuracy')\n",
        "            acc_ax.legend(loc='upper left')\n",
        "\n",
        "            plt.show()\n",
        "        except:\n",
        "            print('cant express')\n",
        "\n",
        "        lstm_model.save(\"lstm_models/%s_%s_lstm_model.h5\"%(n, rs))\n",
        "        # 모델결과 저장 lib\n",
        "        try:\n",
        "            joblib.dump(lstm_model, 'lstm_models2/%s_fold_model_%s.pkl'%(n,rs))\n",
        "        except:\n",
        "            pass\n",
        "        # numpy.zeros((row,col))로 만들어주었던 영행렬: cv\n",
        "        # data object에 X_validation 예측 값을 넣어줌\n",
        "        # CROSS-VALIDATION , EVALUATE CV\n",
        "        try: \n",
        "            cv[validation_idx,:] = lstm_model.predict(x_validation)\n",
        "        except:\n",
        "            pass"
      ],
      "execution_count": null,
      "outputs": [
        {
          "output_type": "stream",
          "text": [
            "0it [00:00, ?it/s]\n",
            "0it [00:00, ?it/s]\u001b[A/usr/local/lib/python3.6/dist-packages/tensorflow/python/framework/indexed_slices.py:434: UserWarning: Converting sparse IndexedSlices to a dense Tensor of unknown shape. This may consume a large amount of memory.\n",
            "  \"Converting sparse IndexedSlices to a dense Tensor of unknown shape. \"\n"
          ],
          "name": "stderr"
        },
        {
          "output_type": "stream",
          "text": [
            "Train on 159810 samples, validate on 17757 samples\n",
            "Epoch 1/2\n",
            "159810/159810 [==============================] - 3991s 25ms/step - loss: 0.0050 - accuracy: 0.9990 - val_loss: 0.0037 - val_accuracy: 0.9989\n",
            "Epoch 2/2\n",
            "159810/159810 [==============================] - 4039s 25ms/step - loss: 9.6415e-04 - accuracy: 0.9998 - val_loss: 0.0066 - val_accuracy: 0.9992\n",
            "cant express\n"
          ],
          "name": "stdout"
        },
        {
          "output_type": "stream",
          "text": [
            "\n",
            "1it [2:15:29, 8129.54s/it]\u001b[A"
          ],
          "name": "stderr"
        },
        {
          "output_type": "stream",
          "text": [
            "Train on 159810 samples, validate on 17757 samples\n",
            "Epoch 1/2\n",
            "159810/159810 [==============================] - 4165s 26ms/step - loss: 0.0066 - accuracy: 0.9986 - val_loss: 0.0014 - val_accuracy: 0.9998\n",
            "Epoch 2/2\n",
            "159810/159810 [==============================] - 4098s 26ms/step - loss: 0.0013 - accuracy: 0.9997 - val_loss: 0.0018 - val_accuracy: 0.9996\n",
            "cant express\n"
          ],
          "name": "stdout"
        },
        {
          "output_type": "stream",
          "text": [
            "\n",
            "2it [4:34:44, 8197.19s/it]\u001b[A"
          ],
          "name": "stderr"
        },
        {
          "output_type": "stream",
          "text": [
            "Train on 159810 samples, validate on 17757 samples\n",
            "Epoch 1/2\n",
            "159810/159810 [==============================] - 4109s 26ms/step - loss: 0.0062 - accuracy: 0.9987 - val_loss: 0.0023 - val_accuracy: 0.9992\n",
            "Epoch 2/2\n",
            "159810/159810 [==============================] - 3991s 25ms/step - loss: 0.0012 - accuracy: 0.9998 - val_loss: 0.0038 - val_accuracy: 0.9992\n",
            "cant express\n"
          ],
          "name": "stdout"
        },
        {
          "output_type": "stream",
          "text": [
            "\n",
            "3it [6:51:08, 8193.10s/it]\u001b[A"
          ],
          "name": "stderr"
        },
        {
          "output_type": "stream",
          "text": [
            "Train on 159810 samples, validate on 17757 samples\n",
            "Epoch 1/2\n",
            "159810/159810 [==============================] - 3596s 23ms/step - loss: 0.0076 - accuracy: 0.9983 - val_loss: 0.0026 - val_accuracy: 0.9990\n",
            "Epoch 2/2\n",
            "159810/159810 [==============================] - 3466s 22ms/step - loss: 0.0012 - accuracy: 0.9997 - val_loss: 0.0028 - val_accuracy: 0.9990\n",
            "cant express\n"
          ],
          "name": "stdout"
        },
        {
          "output_type": "stream",
          "text": [
            "\n",
            "4it [8:50:05, 7951.40s/it]\n",
            "1it [8:50:05, 31805.59s/it]\n",
            "0it [00:00, ?it/s]\u001b[A"
          ],
          "name": "stderr"
        },
        {
          "output_type": "stream",
          "text": [
            "Train on 159810 samples, validate on 17757 samples\n",
            "Epoch 1/2\n",
            "159810/159810 [==============================] - 3462s 22ms/step - loss: 0.0064 - accuracy: 0.9986 - val_loss: 0.0034 - val_accuracy: 0.9991\n",
            "Epoch 2/2\n",
            " 29920/159810 [====>.........................] - ETA: 47:02 - loss: 0.0011 - accuracy: 0.9998"
          ],
          "name": "stdout"
        }
      ]
    },
    {
      "cell_type": "code",
      "metadata": {
        "id": "5efIqjDM-ewO",
        "colab_type": "code",
        "colab": {
          "base_uri": "https://localhost:8080/",
          "height": 1000
        },
        "outputId": "b5b1bab1-1fca-4876-d583-d1b4fb35bb59"
      },
      "source": [
        "%%time\n",
        "# 4FOLD, 3SEED ENSEMBLE\n",
        "# 총 12개의 모델을 평균내어 예측한다\n",
        "\n",
        "lucky_seed=[8]\n",
        "\n",
        "\n",
        "# enumerate: 인덱스와 값을 둘다 반복시킬 때 사용\n",
        "for num,rs in tqdm(enumerate(lucky_seed)):\n",
        "\n",
        "    kfold = KFold(n_splits=4, random_state = rs, shuffle = True)\n",
        "\n",
        "    # numpy.zeros((row,col))\n",
        "    # row*col size 영행렬 생성\n",
        "    # train.shape[0],198 -> trainset 41400개, target값:198개\n",
        "    cv=np.zeros((len(X_train),2))\n",
        "\n",
        "    for n, (train_idx, validation_idx) in tqdm(enumerate(kfold.split(X_train))):\n",
        "        \n",
        "        x_train, x_validation = X_train[train_idx], X_train[validation_idx]\n",
        "        y_train, y_validation = YY_train.loc[train_idx], YY_train.loc[validation_idx]\n",
        "        \n",
        "        lstm_model = Sequential()\n",
        "        lstm_model.add(Embedding(max_words, 100))\n",
        "        \n",
        "        lstm_model.add(LSTM(128))\n",
        "        lstm_model.add(Dense(2, activation='sigmoid'))\n",
        "        lstm_model.compile(optimizer='adam', loss='binary_crossentropy', metrics=['accuracy'])\n",
        "        \n",
        "        try:\n",
        "            lstm_history = lstm_model.fit(x_train, y_train, epochs=2, batch_size=32, validation_split=0.1)\n",
        "\n",
        "            fig, loss_ax = plt.subplots()\n",
        "            acc_ax = loss_ax.twinx()\n",
        "\n",
        "            loss_ax.plot(lstm_history.history['loss'], 'y', label='train loss')\n",
        "            loss_ax.plot(lstm_history.history['val_loss'], 'r', label='val loss')\n",
        "            loss_ax.set_xlabel('epoch')\n",
        "            loss_ax.set_ylabel('loss')\n",
        "            loss_ax.legend(loc='upper left')\n",
        "\n",
        "            acc_ax.plot(lstm_history.history['acc'], 'b', label='train acc')\n",
        "            acc_ax.plot(lstm_history.history['val_acc'], 'g', label='val acc')\n",
        "            acc_ax.set_ylabel('accuracy')\n",
        "            acc_ax.legend(loc='upper left')\n",
        "\n",
        "            plt.show()\n",
        "        except:\n",
        "            print('cant express')\n",
        "\n",
        "        lstm_model.save(\"lstm_models/%s_%s_lstm_model.h5\"%(n, rs))\n",
        "        # 모델결과 저장 lib\n",
        "        try:\n",
        "            joblib.dump(lstm_model, 'lstm_models2/%s_fold_model_%s.pkl'%(n,rs))\n",
        "        except:\n",
        "            pass\n",
        "        # numpy.zeros((row,col))로 만들어주었던 영행렬: cv\n",
        "        # data object에 X_validation 예측 값을 넣어줌\n",
        "        # CROSS-VALIDATION , EVALUATE CV\n",
        "        try: \n",
        "            cv[validation_idx,:] = lstm_model.predict(x_validation)\n",
        "        except:\n",
        "            pass"
      ],
      "execution_count": null,
      "outputs": [
        {
          "output_type": "stream",
          "text": [
            "0it [00:00, ?it/s]\n",
            "0it [00:00, ?it/s]\u001b[A/usr/local/lib/python3.6/dist-packages/tensorflow/python/framework/indexed_slices.py:434: UserWarning: Converting sparse IndexedSlices to a dense Tensor of unknown shape. This may consume a large amount of memory.\n",
            "  \"Converting sparse IndexedSlices to a dense Tensor of unknown shape. \"\n"
          ],
          "name": "stderr"
        },
        {
          "output_type": "stream",
          "text": [
            "Train on 159810 samples, validate on 17757 samples\n",
            "Epoch 1/2\n",
            "159810/159810 [==============================] - 2146s 13ms/step - loss: 0.0072 - accuracy: 0.9984 - val_loss: 0.0030 - val_accuracy: 0.9994\n",
            "Epoch 2/2\n",
            "159810/159810 [==============================] - 2091s 13ms/step - loss: 0.0011 - accuracy: 0.9998 - val_loss: 0.0016 - val_accuracy: 0.9993\n",
            "cant express\n"
          ],
          "name": "stdout"
        },
        {
          "output_type": "stream",
          "text": [
            "\n",
            "1it [1:11:48, 4308.51s/it]\u001b[A"
          ],
          "name": "stderr"
        },
        {
          "output_type": "stream",
          "text": [
            "Train on 159810 samples, validate on 17757 samples\n",
            "Epoch 1/2\n",
            "159810/159810 [==============================] - 2125s 13ms/step - loss: 0.0074 - accuracy: 0.9984 - val_loss: 0.0025 - val_accuracy: 0.9994\n",
            "Epoch 2/2\n",
            "159810/159810 [==============================] - 2156s 13ms/step - loss: 0.0012 - accuracy: 0.9998 - val_loss: 0.0038 - val_accuracy: 0.9993\n",
            "cant express\n"
          ],
          "name": "stdout"
        },
        {
          "output_type": "stream",
          "text": [
            "\n",
            "2it [2:24:11, 4318.87s/it]\u001b[A"
          ],
          "name": "stderr"
        },
        {
          "output_type": "stream",
          "text": [
            "Train on 159810 samples, validate on 17757 samples\n",
            "Epoch 1/2\n",
            "159810/159810 [==============================] - 2130s 13ms/step - loss: 0.0078 - accuracy: 0.9981 - val_loss: 0.0054 - val_accuracy: 0.9991\n",
            "Epoch 2/2\n",
            "159810/159810 [==============================] - 2120s 13ms/step - loss: 0.0011 - accuracy: 0.9998 - val_loss: 0.0054 - val_accuracy: 0.9990\n",
            "cant express\n"
          ],
          "name": "stdout"
        },
        {
          "output_type": "stream",
          "text": [
            "\n",
            "3it [3:36:03, 4316.91s/it]\u001b[A"
          ],
          "name": "stderr"
        },
        {
          "output_type": "stream",
          "text": [
            "Train on 159810 samples, validate on 17757 samples\n",
            "Epoch 1/2\n",
            "159810/159810 [==============================] - 2107s 13ms/step - loss: 0.0054 - accuracy: 0.9988 - val_loss: 0.0026 - val_accuracy: 0.9993\n",
            "Epoch 2/2\n",
            "159810/159810 [==============================] - 2115s 13ms/step - loss: 0.0011 - accuracy: 0.9998 - val_loss: 0.0059 - val_accuracy: 0.9987\n",
            "cant express\n"
          ],
          "name": "stdout"
        },
        {
          "output_type": "stream",
          "text": [
            "\n",
            "4it [4:47:28, 4312.07s/it]\n",
            "1it [4:47:28, 17248.30s/it]\n"
          ],
          "name": "stderr"
        },
        {
          "output_type": "stream",
          "text": [
            "CPU times: user 6h 40min 55s, sys: 56min 38s, total: 7h 37min 33s\n",
            "Wall time: 4h 47min 28s\n"
          ],
          "name": "stdout"
        },
        {
          "output_type": "display_data",
          "data": {
            "image/png": "[encoded data removed]",
            "text/plain": [
              "<Figure size 432x288 with 2 Axes>"
            ]
          },
          "metadata": {
            "tags": [],
            "needs_background": "light"
          }
        },
        {
          "output_type": "display_data",
          "data": {
            "image/png": "[encoded data removed]",
            "text/plain": [
              "<Figure size 432x288 with 2 Axes>"
            ]
          },
          "metadata": {
            "tags": [],
            "needs_background": "light"
          }
        },
        {
          "output_type": "display_data",
          "data": {
            "image/png": "[encoded data removed]",
            "text/plain": [
              "<Figure size 432x288 with 2 Axes>"
            ]
          },
          "metadata": {
            "tags": [],
            "needs_background": "light"
          }
        },
        {
          "output_type": "display_data",
          "data": {
            "image/png": "[encoded data removed]",
            "text/plain": [
              "<Figure size 432x288 with 2 Axes>"
            ]
          },
          "metadata": {
            "tags": [],
            "needs_background": "light"
          }
        }
      ]
    },
    {
      "cell_type": "code",
      "metadata": {
        "id": "4-RwVTlm-izH",
        "colab_type": "code",
        "colab": {
          "base_uri": "https://localhost:8080/",
          "height": 1000
        },
        "outputId": "41f1d7b6-d06b-4d7f-9f99-c8d084ebb0d5"
      },
      "source": [
        "%%time\n",
        "# 4FOLD, 3SEED ENSEMBLE\n",
        "# 총 12개의 모델을 평균내어 예측한다\n",
        "\n",
        "lucky_seed=[25]\n",
        "\n",
        "\n",
        "# enumerate: 인덱스와 값을 둘다 반복시킬 때 사용\n",
        "for num,rs in tqdm(enumerate(lucky_seed)):\n",
        "\n",
        "    kfold = KFold(n_splits=4, random_state = rs, shuffle = True)\n",
        "\n",
        "    # numpy.zeros((row,col))\n",
        "    # row*col size 영행렬 생성\n",
        "    # train.shape[0],198 -> trainset 41400개, target값:198개\n",
        "    cv=np.zeros((len(X_train),2))\n",
        "\n",
        "    for n, (train_idx, validation_idx) in tqdm(enumerate(kfold.split(X_train))):\n",
        "        \n",
        "        x_train, x_validation = X_train[train_idx], X_train[validation_idx]\n",
        "        y_train, y_validation = YY_train.loc[train_idx], YY_train.loc[validation_idx]\n",
        "        \n",
        "        lstm_model = Sequential()\n",
        "        lstm_model.add(Embedding(max_words, 100))\n",
        "        \n",
        "        lstm_model.add(LSTM(128))\n",
        "        lstm_model.add(Dense(2, activation='sigmoid'))\n",
        "        lstm_model.compile(optimizer='adam', loss='binary_crossentropy', metrics=['accuracy'])\n",
        "        \n",
        "        try:\n",
        "            lstm_history = lstm_model.fit(x_train, y_train, epochs=2, batch_size=32, validation_split=0.1)\n",
        "\n",
        "            fig, loss_ax = plt.subplots()\n",
        "            acc_ax = loss_ax.twinx()\n",
        "\n",
        "            loss_ax.plot(lstm_history.history['loss'], 'y', label='train loss')\n",
        "            loss_ax.plot(lstm_history.history['val_loss'], 'r', label='val loss')\n",
        "            loss_ax.set_xlabel('epoch')\n",
        "            loss_ax.set_ylabel('loss')\n",
        "            loss_ax.legend(loc='upper left')\n",
        "\n",
        "            acc_ax.plot(lstm_history.history['acc'], 'b', label='train acc')\n",
        "            acc_ax.plot(lstm_history.history['val_acc'], 'g', label='val acc')\n",
        "            acc_ax.set_ylabel('accuracy')\n",
        "            acc_ax.legend(loc='upper left')\n",
        "\n",
        "            plt.show()\n",
        "        except:\n",
        "            print('cant express')\n",
        "\n",
        "        lstm_model.save(\"lstm_models/%s_%s_lstm_model.h5\"%(n, rs))\n",
        "        # 모델결과 저장 lib\n",
        "        try:\n",
        "            joblib.dump(lstm_model, 'lstm_models2/%s_fold_model_%s.pkl'%(n,rs))\n",
        "        except:\n",
        "            pass\n",
        "        # numpy.zeros((row,col))로 만들어주었던 영행렬: cv\n",
        "        # data object에 X_validation 예측 값을 넣어줌\n",
        "        # CROSS-VALIDATION , EVALUATE CV\n",
        "        try: \n",
        "            cv[validation_idx,:] = lstm_model.predict(x_validation)\n",
        "        except:\n",
        "            pass"
      ],
      "execution_count": null,
      "outputs": [
        {
          "output_type": "stream",
          "text": [
            "0it [00:00, ?it/s]\n",
            "0it [00:00, ?it/s]\u001b[A/usr/local/lib/python3.6/dist-packages/tensorflow/python/framework/indexed_slices.py:434: UserWarning: Converting sparse IndexedSlices to a dense Tensor of unknown shape. This may consume a large amount of memory.\n",
            "  \"Converting sparse IndexedSlices to a dense Tensor of unknown shape. \"\n"
          ],
          "name": "stderr"
        },
        {
          "output_type": "stream",
          "text": [
            "Train on 159810 samples, validate on 17757 samples\n",
            "Epoch 1/2\n",
            "159810/159810 [==============================] - 2137s 13ms/step - loss: 0.0047 - accuracy: 0.9992 - val_loss: 0.0015 - val_accuracy: 0.9995\n",
            "Epoch 2/2\n",
            "159810/159810 [==============================] - 2132s 13ms/step - loss: 0.0014 - accuracy: 0.9997 - val_loss: 0.0019 - val_accuracy: 0.9994\n",
            "cant express\n"
          ],
          "name": "stdout"
        },
        {
          "output_type": "stream",
          "text": [
            "\n",
            "1it [1:12:12, 4332.13s/it]\u001b[A"
          ],
          "name": "stderr"
        },
        {
          "output_type": "stream",
          "text": [
            "Train on 159810 samples, validate on 17757 samples\n",
            "Epoch 1/2\n",
            "159810/159810 [==============================] - 2115s 13ms/step - loss: 0.0066 - accuracy: 0.9987 - val_loss: 0.0027 - val_accuracy: 0.9989\n",
            "Epoch 2/2\n",
            "159810/159810 [==============================] - 2109s 13ms/step - loss: 0.0012 - accuracy: 0.9998 - val_loss: 0.0022 - val_accuracy: 0.9989\n",
            "cant express\n"
          ],
          "name": "stdout"
        },
        {
          "output_type": "stream",
          "text": [
            "\n",
            "2it [2:23:40, 4318.89s/it]\u001b[A"
          ],
          "name": "stderr"
        },
        {
          "output_type": "stream",
          "text": [
            "Train on 159810 samples, validate on 17757 samples\n",
            "Epoch 1/2\n",
            "159810/159810 [==============================] - 2164s 14ms/step - loss: 0.0077 - accuracy: 0.9983 - val_loss: 0.0052 - val_accuracy: 0.9987\n",
            "Epoch 2/2\n",
            "159810/159810 [==============================] - 2149s 13ms/step - loss: 0.0013 - accuracy: 0.9998 - val_loss: 0.0033 - val_accuracy: 0.9991\n",
            "cant express\n"
          ],
          "name": "stdout"
        },
        {
          "output_type": "stream",
          "text": [
            "\n",
            "3it [3:36:36, 4336.12s/it]\u001b[A"
          ],
          "name": "stderr"
        },
        {
          "output_type": "stream",
          "text": [
            "Train on 159810 samples, validate on 17757 samples\n",
            "Epoch 1/2\n",
            "159810/159810 [==============================] - 2139s 13ms/step - loss: 0.0056 - accuracy: 0.9988 - val_loss: 0.0027 - val_accuracy: 0.9993\n",
            "Epoch 2/2\n",
            "159810/159810 [==============================] - 2123s 13ms/step - loss: 8.0716e-04 - accuracy: 0.9999 - val_loss: 0.0031 - val_accuracy: 0.9993\n",
            "cant express\n"
          ],
          "name": "stdout"
        },
        {
          "output_type": "stream",
          "text": [
            "\n",
            "4it [4:48:40, 4330.13s/it]\n",
            "1it [4:48:40, 17320.53s/it]\n"
          ],
          "name": "stderr"
        },
        {
          "output_type": "stream",
          "text": [
            "CPU times: user 6h 43min 42s, sys: 57min 2s, total: 7h 40min 45s\n",
            "Wall time: 4h 48min 40s\n"
          ],
          "name": "stdout"
        },
        {
          "output_type": "display_data",
          "data": {
            "image/png": "[encoded data removed]",
            "text/plain": [
              "<Figure size 432x288 with 2 Axes>"
            ]
          },
          "metadata": {
            "tags": [],
            "needs_background": "light"
          }
        },
        {
          "output_type": "display_data",
          "data": {
            "image/png": "[encoded data removed]",
            "text/plain": [
              "<Figure size 432x288 with 2 Axes>"
            ]
          },
          "metadata": {
            "tags": [],
            "needs_background": "light"
          }
        },
        {
          "output_type": "display_data",
          "data": {
            "image/png": "[encoded data removed]",
            "text/plain": [
              "<Figure size 432x288 with 2 Axes>"
            ]
          },
          "metadata": {
            "tags": [],
            "needs_background": "light"
          }
        },
        {
          "output_type": "display_data",
          "data": {
            "image/png": "[encoded data removed]",
            "text/plain": [
              "<Figure size 432x288 with 2 Axes>"
            ]
          },
          "metadata": {
            "tags": [],
            "needs_background": "light"
          }
        }
      ]
    },
    {
      "cell_type": "code",
      "metadata": {
        "id": "DcFH7gCYd1TX",
        "colab_type": "code",
        "colab": {}
      },
      "source": [
        "from keras.models import load_model"
      ],
      "execution_count": null,
      "outputs": []
    },
    {
      "cell_type": "code",
      "metadata": {
        "id": "C89qx6wCEBRB",
        "colab_type": "code",
        "colab": {}
      },
      "source": [
        "models = os.listdir('lstm_models/')\n",
        "models_list = [x for x in models if x.endswith(\".h5\")]"
      ],
      "execution_count": null,
      "outputs": []
    },
    {
      "cell_type": "code",
      "metadata": {
        "id": "kHPLSSukEB_y",
        "colab_type": "code",
        "colab": {
          "base_uri": "https://localhost:8080/",
          "height": 228
        },
        "outputId": "fa2ccfcf-647c-438b-8d12-8aaea2020880"
      },
      "source": [
        "models_list"
      ],
      "execution_count": null,
      "outputs": [
        {
          "output_type": "execute_result",
          "data": {
            "text/plain": [
              "['0_1996_lstm_model.h5',\n",
              " '1_1996_lstm_model.h5',\n",
              " '2_1996_lstm_model.h5',\n",
              " '3_1996_lstm_model.h5',\n",
              " '0_8_lstm_model.h5',\n",
              " '1_8_lstm_model.h5',\n",
              " '2_8_lstm_model.h5',\n",
              " '3_8_lstm_model.h5',\n",
              " '0_25_lstm_model.h5',\n",
              " '1_25_lstm_model.h5',\n",
              " '2_25_lstm_model.h5',\n",
              " '3_25_lstm_model.h5']"
            ]
          },
          "metadata": {
            "tags": []
          },
          "execution_count": 30
        }
      ]
    },
    {
      "cell_type": "markdown",
      "metadata": {
        "id": "DKykhhztLvZi",
        "colab_type": "text"
      },
      "source": [
        "## lstm prediction"
      ]
    },
    {
      "cell_type": "code",
      "metadata": {
        "id": "_o3AUhp8jWAx",
        "colab_type": "code",
        "colab": {
          "base_uri": "https://localhost:8080/",
          "height": 125
        },
        "outputId": "1fa0e8b5-6741-4d6f-f580-5c85a328d059"
      },
      "source": [
        "# MODEL LOAD & TEST PREDICT\n",
        "# 12 MODELS 평균 사용\n",
        "%%time\n",
        "models = os.listdir('lstm_models/')\n",
        "models_list = [x for x in models if x.endswith(\".h5\")]\n",
        "\n",
        "# 모델결과가 잘 나왔는지 check\n",
        "# assert: 좌항과 우항의 값이 같으면 정상 작동, 다르면 오류 발생\n",
        "assert len(models_list) ==12\n",
        "\n",
        "\n",
        "temp_predictions = np.zeros((X_test.shape[0],2))\n",
        "\n",
        "# 12개 모델을 반복시켜서 결과산출 -> 12로 나눠서 평균값 계산\n",
        "for model in tqdm(models_list):\n",
        "    model = load_model('lstm_models/'+model)\n",
        "    predict_proba = model.predict(X_test)\n",
        "    temp_predictions += predict_proba/12"
      ],
      "execution_count": null,
      "outputs": [
        {
          "output_type": "stream",
          "text": [
            "\r  0%|          | 0/12 [00:00<?, ?it/s]/usr/local/lib/python3.6/dist-packages/tensorflow/python/framework/indexed_slices.py:434: UserWarning: Converting sparse IndexedSlices to a dense Tensor of unknown shape. This may consume a large amount of memory.\n",
            "  \"Converting sparse IndexedSlices to a dense Tensor of unknown shape. \"\n",
            "100%|██████████| 12/12 [12:55<00:00, 64.64s/it]"
          ],
          "name": "stderr"
        },
        {
          "output_type": "stream",
          "text": [
            "CPU times: user 12min 34s, sys: 2.33 s, total: 12min 36s\n",
            "Wall time: 12min 55s\n"
          ],
          "name": "stdout"
        },
        {
          "output_type": "stream",
          "text": [
            "\n"
          ],
          "name": "stderr"
        }
      ]
    },
    {
      "cell_type": "code",
      "metadata": {
        "id": "uRu1e4qyjWEK",
        "colab_type": "code",
        "colab": {}
      },
      "source": [
        "\n",
        "submission = pd.DataFrame(data=np.zeros((X_test.shape[0],2)))\n",
        "submission.index = Y_test.index \n",
        "submission.index.name = 'id'\n",
        "submission+=temp_predictions\n",
        "\n",
        "submission = submission.sort_index()\n",
        "submission = submission.groupby('id').mean()\n",
        "submission.set_index('id', inplace = True)\n",
        "\n",
        "submission['pred'] = 0\n",
        "for idx in submission.index:\n",
        "    if submission['1'][idx] > submission['0'][idx]:\n",
        "        submission['pred'][idx] = 1\n",
        "\n",
        "\n",
        "submission.to_csv(\"lstm_submission/lstm_submission.csv\")"
      ],
      "execution_count": null,
      "outputs": []
    },
    {
      "cell_type": "markdown",
      "metadata": {
        "id": "j1ptPC-5Lz5U",
        "colab_type": "text"
      },
      "source": [
        "## classification report"
      ]
    },
    {
      "cell_type": "code",
      "metadata": {
        "id": "2NTR65xojWN2",
        "colab_type": "code",
        "colab": {}
      },
      "source": [
        "from sklearn.metrics import classification_report"
      ],
      "execution_count": null,
      "outputs": []
    },
    {
      "cell_type": "code",
      "metadata": {
        "id": "INT21iSrLDgQ",
        "colab_type": "code",
        "colab": {}
      },
      "source": [
        "result = classification_report(Y_test, submission['pred'], target_names=['normal','smishing'])"
      ],
      "execution_count": null,
      "outputs": []
    },
    {
      "cell_type": "code",
      "metadata": {
        "id": "CB74OQjlLDtj",
        "colab_type": "code",
        "colab": {
          "base_uri": "https://localhost:8080/",
          "height": 179
        },
        "outputId": "acaa751d-7c50-46c7-cd79-224d762fd2cb"
      },
      "source": [
        "print(result)"
      ],
      "execution_count": null,
      "outputs": [
        {
          "output_type": "stream",
          "text": [
            "              precision    recall  f1-score   support\n",
            "\n",
            "      normal       1.00      1.00      1.00     51205\n",
            "    smishing       0.99      0.98      0.98      7984\n",
            "\n",
            "    accuracy                           1.00     59189\n",
            "   macro avg       0.99      0.99      0.99     59189\n",
            "weighted avg       1.00      1.00      1.00     59189\n",
            "\n"
          ],
          "name": "stdout"
        }
      ]
    },
    {
      "cell_type": "markdown",
      "metadata": {
        "id": "uzHyYqHPLDz9",
        "colab_type": "text"
      },
      "source": [
        "# SVM, LGBM, LSTM False record 비교"
      ]
    },
    {
      "cell_type": "markdown",
      "metadata": {
        "id": "iZG9k0kELD2j",
        "colab_type": "text"
      },
      "source": [
        "## 1. SVM   - 속도:상  F-meause: 상\n",
        "    - 속도: 상  \n",
        "    - F-meausure: 상\n",
        "    - false negative: 79개\n",
        "    - false positive: 1개"
      ]
    },
    {
      "cell_type": "code",
      "metadata": {
        "id": "V6dnZALaOhJ8",
        "colab_type": "code",
        "colab": {}
      },
      "source": [
        "submissions_list= os.listdir('svm_models/submissions')"
      ],
      "execution_count": null,
      "outputs": []
    },
    {
      "cell_type": "code",
      "metadata": {
        "id": "eiXjv8A_rhuT",
        "colab_type": "code",
        "colab": {}
      },
      "source": [
        "# 모델마다 false record 탐색\n",
        "neg_dict = dict()\n",
        "for sub in submissions_list:\n",
        "    try:\n",
        "        df = pd.read_csv('svm_models/submissions/'+sub, engine='python')\n",
        "        df.set_index('id', inplace= True)\n",
        "        # 각 모델마다 false record를 담은 임시 리스트\n",
        "        temp_list = list()\n",
        "        for idx in df.index:\n",
        "            if (df['pred'][idx] != Y_test[idx]):\n",
        "                # 없을 때만 추가\n",
        "                temp_list.append(idx)\n",
        "        neg_dict[str(sub)] = temp_list\n",
        "    except:\n",
        "        pass\n",
        "    \n"
      ],
      "execution_count": null,
      "outputs": []
    },
    {
      "cell_type": "code",
      "metadata": {
        "id": "6lHcFUUUsxxy",
        "colab_type": "code",
        "colab": {}
      },
      "source": [
        "# 30개 모델이 공통적으로 틀린 record 파악 share_neg = list()\n",
        "temp_list = list()\n",
        "share_neg = list()\n",
        "\n",
        "for csv_list in neg_dict:\n",
        "    for r in neg_dict[csv_list]:\n",
        "        temp_list.append(r)\n",
        "\n",
        "temp_list.sort()\n",
        "\n",
        "# 틀린 record 중복 제거: total_list\n",
        "total_list = set(temp_list)\n",
        "# id_num = dict()\n",
        "# key: record ID, value: 틀린 갯수 (0 ~ 30)\n",
        "id_num = dict()\n",
        "for i in total_list:\n",
        "    num = temp_list.count(i)\n",
        "    id_num[i] = num\n"
      ],
      "execution_count": null,
      "outputs": []
    },
    {
      "cell_type": "code",
      "metadata": {
        "id": "zviRsh5zu9Kh",
        "colab_type": "code",
        "colab": {}
      },
      "source": [
        "#over_list: 30개 모델 모두 틀린 record\n",
        "over_list = list()\n",
        "for i in id_num:\n",
        "    if (id_num[i] == 30):\n",
        "        over_list.append(i)\n",
        "        "
      ],
      "execution_count": null,
      "outputs": []
    },
    {
      "cell_type": "code",
      "metadata": {
        "id": "4Ucgeu-qB4Dw",
        "colab_type": "code",
        "colab": {}
      },
      "source": [
        "false_pos_text = list()\n",
        "false_neg_text = list()\n",
        "false_pos_idx = list()\n",
        "false_neg_idx = list()\n",
        "\n",
        "for idx in over_list:\n",
        "    # false negative: 실제로는 양성인데, 검사결과 음성\n",
        "    if (prepared_train['smishing'][idx] == 1):\n",
        "        false_neg_idx.append(idx)\n",
        "        false_neg_text.append(prepared_train['orgin'][idx])\n",
        "    # false positve: 실제로는 음성인데, 검사결과 양성\n",
        "    elif (prepared_train['smishing'][idx] == 0):\n",
        "        false_pos_idx.append(idx)\n",
        "        false_pos_text.append(prepared_train['orgin'][idx])"
      ],
      "execution_count": null,
      "outputs": []
    },
    {
      "cell_type": "code",
      "metadata": {
        "id": "865V_p2N5e7y",
        "colab_type": "code",
        "colab": {
          "base_uri": "https://localhost:8080/",
          "height": 35
        },
        "outputId": "5f6fd41c-d6f9-4bf3-d9a3-1d95663be669"
      },
      "source": [
        "len(false_pos_idx)"
      ],
      "execution_count": null,
      "outputs": [
        {
          "output_type": "execute_result",
          "data": {
            "text/plain": [
              "1"
            ]
          },
          "metadata": {
            "tags": []
          },
          "execution_count": 21
        }
      ]
    },
    {
      "cell_type": "code",
      "metadata": {
        "id": "IO4ZvBnk5fB-",
        "colab_type": "code",
        "colab": {
          "base_uri": "https://localhost:8080/",
          "height": 35
        },
        "outputId": "804d9da9-42bf-487a-c4b9-047a50de208b"
      },
      "source": [
        "len(false_neg_idx)"
      ],
      "execution_count": null,
      "outputs": [
        {
          "output_type": "execute_result",
          "data": {
            "text/plain": [
              "79"
            ]
          },
          "metadata": {
            "tags": []
          },
          "execution_count": 22
        }
      ]
    },
    {
      "cell_type": "code",
      "metadata": {
        "id": "UKjln5jDQnRx",
        "colab_type": "code",
        "colab": {}
      },
      "source": [
        "false_record_svm = false_pos_idx + false_neg_idx"
      ],
      "execution_count": null,
      "outputs": []
    },
    {
      "cell_type": "markdown",
      "metadata": {
        "id": "Wq3vrUOhLD5y",
        "colab_type": "text"
      },
      "source": [
        "## 2. LGBM  - 속도:중  F-meause: 중\n",
        "    - 속도: 중\n",
        "    - F-measure: 중\n",
        "\n",
        "    - false negative: 196개\n",
        "    - false positive: 6개"
      ]
    },
    {
      "cell_type": "code",
      "metadata": {
        "colab_type": "code",
        "id": "e03WvdlGt6v3",
        "colab": {}
      },
      "source": [
        "submissions_list= os.listdir('lgbm_models/submissions')[:30]"
      ],
      "execution_count": null,
      "outputs": []
    },
    {
      "cell_type": "code",
      "metadata": {
        "colab_type": "code",
        "id": "miNFHBngt6wA",
        "colab": {}
      },
      "source": [
        "# 모델마다 false record 탐색\n",
        "neg_dict = dict()\n",
        "for sub in submissions_list:\n",
        "    try:\n",
        "        df = pd.read_csv('lgbm_models/submissions/'+sub, engine='python')\n",
        "        df.set_index('id', inplace= True)\n",
        "        # 각 모델마다 false record를 담은 임시 리스트\n",
        "        temp_list = list()\n",
        "        for idx in df.index:\n",
        "            if (df['pred'][idx] != Y_test[idx]):\n",
        "                # 없을 때만 추가\n",
        "                temp_list.append(idx)\n",
        "        neg_dict[str(sub)] = temp_list\n",
        "    except:\n",
        "        pass\n",
        "    \n"
      ],
      "execution_count": null,
      "outputs": []
    },
    {
      "cell_type": "code",
      "metadata": {
        "colab_type": "code",
        "id": "hEqDdepwt6wD",
        "colab": {}
      },
      "source": [
        "# 30개 모델이 공통적으로 틀린 record 파악 share_neg = list()\n",
        "temp_list = list()\n",
        "share_neg = list()\n",
        "\n",
        "for csv_list in neg_dict:\n",
        "    for r in neg_dict[csv_list]:\n",
        "        temp_list.append(r)\n",
        "\n",
        "temp_list.sort()\n",
        "\n",
        "# 틀린 record 중복 제거: total_list\n",
        "total_list = set(temp_list)\n",
        "# id_num = dict()\n",
        "# key: record ID, value: 틀린 갯수 (0 ~ 30)\n",
        "id_num = dict()\n",
        "for i in total_list:\n",
        "    num = temp_list.count(i)\n",
        "    id_num[i] = num\n"
      ],
      "execution_count": null,
      "outputs": []
    },
    {
      "cell_type": "code",
      "metadata": {
        "colab_type": "code",
        "id": "fl1GdV0Ut6wG",
        "colab": {}
      },
      "source": [
        "#over_list: 30개 모델 틀린 record\n",
        "over_list2 = list()\n",
        "for i in id_num:\n",
        "    if (id_num[i] == 30):\n",
        "        over_list2.append(i)"
      ],
      "execution_count": null,
      "outputs": []
    },
    {
      "cell_type": "code",
      "metadata": {
        "id": "3JCB3iYh6r-a",
        "colab_type": "code",
        "colab": {}
      },
      "source": [
        "false_pos_text2 = list()\n",
        "false_neg_text2 = list()\n",
        "false_pos_idx2 = list()\n",
        "false_neg_idx2 = list()\n",
        "\n",
        "for idx in over_list2:\n",
        "    # false negative: 실제로는 양성인데, 검사결과 음성\n",
        "    if (prepared_train['smishing'][idx] == 1):\n",
        "        false_neg_idx2.append(idx)\n",
        "        false_neg_text2.append(prepared_train['orgin'][idx])\n",
        "    # false positve: 실제로는 음성인데, 검사결과 양성\n",
        "    elif (prepared_train['smishing'][idx] == 0):\n",
        "        false_pos_idx2.append(idx)\n",
        "        false_pos_text2.append(prepared_train['orgin'][idx])"
      ],
      "execution_count": null,
      "outputs": []
    },
    {
      "cell_type": "code",
      "metadata": {
        "id": "CHaLeB_mQfF4",
        "colab_type": "code",
        "colab": {}
      },
      "source": [
        "false_record_lgbm = false_pos_idx2 + false_neg_idx2"
      ],
      "execution_count": null,
      "outputs": []
    },
    {
      "cell_type": "code",
      "metadata": {
        "id": "65GOJ6iywy4u",
        "colab_type": "code",
        "colab": {
          "base_uri": "https://localhost:8080/",
          "height": 35
        },
        "outputId": "42cdaf56-a792-4c33-f855-93bc115e2224"
      },
      "source": [
        "len(false_pos_idx2)"
      ],
      "execution_count": null,
      "outputs": [
        {
          "output_type": "execute_result",
          "data": {
            "text/plain": [
              "6"
            ]
          },
          "metadata": {
            "tags": []
          },
          "execution_count": 30
        }
      ]
    },
    {
      "cell_type": "code",
      "metadata": {
        "id": "mzWd2bQW62BC",
        "colab_type": "code",
        "colab": {
          "base_uri": "https://localhost:8080/",
          "height": 35
        },
        "outputId": "fe2ea983-c901-4ad5-f8c7-9702b5057502"
      },
      "source": [
        "len(false_neg_idx2)"
      ],
      "execution_count": null,
      "outputs": [
        {
          "output_type": "execute_result",
          "data": {
            "text/plain": [
              "196"
            ]
          },
          "metadata": {
            "tags": []
          },
          "execution_count": 31
        }
      ]
    },
    {
      "cell_type": "markdown",
      "metadata": {
        "id": "Cl-NsuDKMj8n",
        "colab_type": "text"
      },
      "source": [
        "## 3. LSTM   - 속도:하  F-meause: 하\n",
        "    - 속도: 중\n",
        "    - F-meausre: 하\n",
        "\n",
        "    - false negative: 166개\n",
        "    - false positive: 117개\n",
        "    - 참고: LSTM은 1번만 모델링함 (시간이 너무 오래 걸림)"
      ]
    },
    {
      "cell_type": "code",
      "metadata": {
        "id": "z3gLcRC8MoZ1",
        "colab_type": "code",
        "colab": {}
      },
      "source": [
        "false_pos_text3 = list()\n",
        "false_neg_text3 = list()\n",
        "false_pos_idx3 = list()\n",
        "false_neg_idx3 = list()"
      ],
      "execution_count": null,
      "outputs": []
    },
    {
      "cell_type": "code",
      "metadata": {
        "id": "iLNt5xelL-8a",
        "colab_type": "code",
        "colab": {}
      },
      "source": [
        ""
      ],
      "execution_count": null,
      "outputs": []
    },
    {
      "cell_type": "code",
      "metadata": {
        "id": "bAezfSIFMkAK",
        "colab_type": "code",
        "colab": {}
      },
      "source": [
        "for idx in submission.index:\n",
        "    if (submission['pred'][idx] != Y_test[idx]):\n",
        "        # false negative: 실제로는 양성인데, 검사결과 음성\n",
        "        if Y_test[idx] == 1:\n",
        "            false_neg_idx3.append(idx)\n",
        "            false_neg_text3.append(prepared_train['orgin'][idx])\n",
        "        # false positive: 실제로는 음성인데, 검사결과 양성\n",
        "        elif Y_test[idx] == 0:\n",
        "            false_pos_idx3.append(idx)\n",
        "            false_pos_text3.append(prepared_train['orgin'][idx])"
      ],
      "execution_count": null,
      "outputs": []
    },
    {
      "cell_type": "code",
      "metadata": {
        "id": "A-LVzaBbQYbb",
        "colab_type": "code",
        "colab": {}
      },
      "source": [
        "false_record_lstm = false_pos_idx3 + false_neg_idx3"
      ],
      "execution_count": null,
      "outputs": []
    },
    {
      "cell_type": "code",
      "metadata": {
        "id": "7h9jM1ErQctU",
        "colab_type": "code",
        "colab": {
          "base_uri": "https://localhost:8080/",
          "height": 35
        },
        "outputId": "6da44feb-9d79-49da-9bb9-a8231327b430"
      },
      "source": [
        "len(false_record_lstm)"
      ],
      "execution_count": null,
      "outputs": [
        {
          "output_type": "execute_result",
          "data": {
            "text/plain": [
              "283"
            ]
          },
          "metadata": {
            "tags": []
          },
          "execution_count": 48
        }
      ]
    },
    {
      "cell_type": "code",
      "metadata": {
        "colab_type": "code",
        "id": "uwSMPGOmQOoU",
        "colab": {
          "base_uri": "https://localhost:8080/",
          "height": 35
        },
        "outputId": "6d6a3a7e-a387-467e-aa68-fa206a4cffe4"
      },
      "source": [
        "len(false_pos_idx3)"
      ],
      "execution_count": null,
      "outputs": [
        {
          "output_type": "execute_result",
          "data": {
            "text/plain": [
              "117"
            ]
          },
          "metadata": {
            "tags": []
          },
          "execution_count": 49
        }
      ]
    },
    {
      "cell_type": "code",
      "metadata": {
        "colab_type": "code",
        "id": "RCPiGuO8QOog",
        "colab": {
          "base_uri": "https://localhost:8080/",
          "height": 35
        },
        "outputId": "18246944-6a7e-489a-e360-2955605986c1"
      },
      "source": [
        "len(false_neg_idx3)"
      ],
      "execution_count": null,
      "outputs": [
        {
          "output_type": "execute_result",
          "data": {
            "text/plain": [
              "166"
            ]
          },
          "metadata": {
            "tags": []
          },
          "execution_count": 50
        }
      ]
    },
    {
      "cell_type": "markdown",
      "metadata": {
        "id": "heI-qKy_MkGK",
        "colab_type": "text"
      },
      "source": [
        "# 세 모델 모두 공통적으로 틀린 record: 37개\n"
      ]
    },
    {
      "cell_type": "code",
      "metadata": {
        "id": "V7JiHaLuMkI2",
        "colab_type": "code",
        "colab": {}
      },
      "source": [
        "three = list()\n",
        "\n",
        "for i in false_record_svm:\n",
        "    for k in false_record_lgbm:\n",
        "        for j in false_record_lstm:\n",
        "            if (i == k == j):\n",
        "                three.append(i)"
      ],
      "execution_count": null,
      "outputs": []
    },
    {
      "cell_type": "code",
      "metadata": {
        "id": "YRn9taobMkMA",
        "colab_type": "code",
        "colab": {
          "base_uri": "https://localhost:8080/",
          "height": 35
        },
        "outputId": "5a1133e4-91f7-4c1f-8ed9-eb845f74ecd0"
      },
      "source": [
        "len(three)"
      ],
      "execution_count": null,
      "outputs": [
        {
          "output_type": "execute_result",
          "data": {
            "text/plain": [
              "37"
            ]
          },
          "metadata": {
            "tags": []
          },
          "execution_count": 41
        }
      ]
    },
    {
      "cell_type": "code",
      "metadata": {
        "id": "wfbKL3dUK93N",
        "colab_type": "code",
        "colab": {
          "base_uri": "https://localhost:8080/",
          "height": 55
        },
        "outputId": "cbbf4034-3fc7-48ed-dec5-15c02bc2be2e"
      },
      "source": [
        "print(three)"
      ],
      "execution_count": null,
      "outputs": [
        {
          "output_type": "stream",
          "text": [
            "[256005, 287239, 257551, 292368, 275522, 255064, 259673, 282717, 275060, 287888, 258711, 293527, 257704, 259761, 260286, 283839, 255179, 280781, 258259, 259805, 250099, 255764, 258851, 270633, 257893, 259432, 289651, 258933, 253852, 258462, 257966, 257463, 260036, 258012, 256990, 242668, 255484]\n"
          ],
          "name": "stdout"
        }
      ]
    },
    {
      "cell_type": "markdown",
      "metadata": {
        "id": "RK0Hiic0RMg2",
        "colab_type": "text"
      },
      "source": [
        "# Main Model: SVM\n",
        "- SVM의 false record를 보완해줄 수 있는 모델 선택 (LGBM or LSTM)"
      ]
    },
    {
      "cell_type": "markdown",
      "metadata": {
        "id": "wV-uWcZJRr1j",
        "colab_type": "text"
      },
      "source": [
        "## SVM 틀린 record 예측 확률 EDA"
      ]
    },
    {
      "cell_type": "code",
      "metadata": {
        "id": "B8FGy5EjRzMD",
        "colab_type": "code",
        "colab": {}
      },
      "source": [
        ""
      ],
      "execution_count": null,
      "outputs": []
    },
    {
      "cell_type": "markdown",
      "metadata": {
        "id": "4iJ6ryZERzT3",
        "colab_type": "text"
      },
      "source": [
        "## LGBM 틀린 record 예측 확률 EDA"
      ]
    },
    {
      "cell_type": "code",
      "metadata": {
        "id": "8u2RdlwbRsb5",
        "colab_type": "code",
        "colab": {}
      },
      "source": [
        ""
      ],
      "execution_count": null,
      "outputs": []
    },
    {
      "cell_type": "markdown",
      "metadata": {
        "id": "H3ijMybNRsgF",
        "colab_type": "text"
      },
      "source": [
        "## LSTM 틀린 record 예측 확률 EDA"
      ]
    },
    {
      "cell_type": "code",
      "metadata": {
        "id": "JzBvEbRvO3zU",
        "colab_type": "code",
        "colab": {}
      },
      "source": [
        "submission = pd.read_csv(\"lstm_submission/lstm_submission.csv\")\n",
        "submission.set_index('id', inplace = True)"
      ],
      "execution_count": null,
      "outputs": []
    },
    {
      "cell_type": "code",
      "metadata": {
        "id": "GhF0frl8NJR5",
        "colab_type": "code",
        "colab": {
          "base_uri": "https://localhost:8080/",
          "height": 1000
        },
        "outputId": "05185210-3b75-4a77-bf47-c40a40b25d2a"
      },
      "source": [
        "for lstm in false_record_lstm:\n",
        "    print(lstm)\n",
        "    print(\"실측 값: \", Y_test[lstm], \"  예측 값: \", submission['pred'][lstm])\n",
        "    print(submission['0'][lstm], submission['1'][lstm])\n",
        "    print()"
      ],
      "execution_count": null,
      "outputs": [
        {
          "output_type": "stream",
          "text": [
            "237337\n",
            "실측 값:  0   예측 값:  1\n",
            "0.22189368681210908 0.795226339250803\n",
            "\n",
            "237789\n",
            "실측 값:  0   예측 값:  1\n",
            "0.24290498734245602 0.7811980992555618\n",
            "\n",
            "238551\n",
            "실측 값:  0   예측 값:  1\n",
            "0.26813035809482244 0.7465920131653547\n",
            "\n",
            "238552\n",
            "실측 값:  0   예측 값:  1\n",
            "0.27918280059566314 0.7370259705930948\n",
            "\n",
            "239287\n",
            "실측 값:  0   예측 값:  1\n",
            "0.2254267011214779 0.7906258013099432\n",
            "\n",
            "239969\n",
            "실측 값:  0   예측 값:  1\n",
            "0.2124096646507496 0.8036982081830502\n",
            "\n",
            "240252\n",
            "실측 값:  0   예측 값:  1\n",
            "0.24933945988129835 0.7792294528335333\n",
            "\n",
            "240359\n",
            "실측 값:  0   예측 값:  1\n",
            "0.2519690561430252 0.7732776589691639\n",
            "\n",
            "240525\n",
            "실측 값:  0   예측 값:  1\n",
            "0.272091287348303 0.7490008622407913\n",
            "\n",
            "240690\n",
            "실측 값:  0   예측 값:  1\n",
            "0.2932532761133189 0.7307644877582788\n",
            "\n",
            "240748\n",
            "실측 값:  0   예측 값:  1\n",
            "0.3510671557787646 0.6629912490025163\n",
            "\n",
            "241662\n",
            "실측 값:  0   예측 값:  1\n",
            "0.23309103876590603 0.7823681998997927\n",
            "\n",
            "241780\n",
            "실측 값:  0   예측 값:  1\n",
            "0.2348906287737691 0.7902814932167529\n",
            "\n",
            "242338\n",
            "실측 값:  0   예측 값:  1\n",
            "0.21659045436490487 0.803943058475852\n",
            "\n",
            "242723\n",
            "실측 값:  0   예측 값:  1\n",
            "0.20935503489022267 0.8071782402694225\n",
            "\n",
            "242741\n",
            "실측 값:  0   예측 값:  1\n",
            "0.2649174283099001 0.7495089527219534\n",
            "\n",
            "242788\n",
            "실측 값:  0   예측 값:  1\n",
            "0.2138487714216808 0.8060179259628057\n",
            "\n",
            "243846\n",
            "실측 값:  0   예측 값:  1\n",
            "0.2251700770800653 0.7981408759951591\n",
            "\n",
            "244274\n",
            "실측 값:  0   예측 값:  1\n",
            "0.2760686399324186 0.7453631684184074\n",
            "\n",
            "244807\n",
            "실측 값:  0   예측 값:  1\n",
            "0.18897956021555729 0.8171742931008339\n",
            "\n",
            "244978\n",
            "실측 값:  0   예측 값:  1\n",
            "0.2306549108789113 0.7938327789306641\n",
            "\n",
            "244999\n",
            "실측 값:  0   예측 값:  1\n",
            "0.25683207329825564 0.7572307623922825\n",
            "\n",
            "245267\n",
            "실측 값:  0   예측 값:  1\n",
            "0.2601739309832283 0.7597388066351414\n",
            "\n",
            "245534\n",
            "실측 값:  0   예측 값:  1\n",
            "0.2934060852639959 0.7282014079391956\n",
            "\n",
            "245558\n",
            "실측 값:  0   예측 값:  1\n",
            "0.22961756500012598 0.7947197593748571\n",
            "\n",
            "246004\n",
            "실측 값:  0   예측 값:  1\n",
            "0.29885762579215225 0.71499446593225\n",
            "\n",
            "246327\n",
            "실측 값:  0   예측 값:  1\n",
            "0.19778185766881504 0.8301742039620876\n",
            "\n",
            "246879\n",
            "실측 값:  0   예측 값:  1\n",
            "0.3555654084148045 0.6576371053233743\n",
            "\n",
            "247235\n",
            "실측 값:  0   예측 값:  1\n",
            "0.2569713368166049 0.7591683734208345\n",
            "\n",
            "247302\n",
            "실측 값:  0   예측 값:  1\n",
            "0.2382568160082883 0.766631169244647\n",
            "\n",
            "247577\n",
            "실측 값:  0   예측 값:  1\n",
            "0.2263896664605909 0.7904378287494183\n",
            "\n",
            "247608\n",
            "실측 값:  0   예측 값:  1\n",
            "0.3019988478954474 0.7113933376967907\n",
            "\n",
            "247912\n",
            "실측 값:  0   예측 값:  1\n",
            "0.18897956021555729 0.8171742931008339\n",
            "\n",
            "248319\n",
            "실측 값:  0   예측 값:  1\n",
            "0.2263515648853627 0.7972976304590702\n",
            "\n",
            "248890\n",
            "실측 값:  0   예측 값:  1\n",
            "0.2331351318646284 0.7948136273771524\n",
            "\n",
            "249116\n",
            "실측 값:  0   예측 값:  1\n",
            "0.19400592182137189 0.8338817656040192\n",
            "\n",
            "249198\n",
            "실측 값:  0   예측 값:  1\n",
            "0.2330616764556908 0.7949400693178177\n",
            "\n",
            "249738\n",
            "실측 값:  0   예측 값:  1\n",
            "0.30155447774632194 0.7133319126442075\n",
            "\n",
            "249813\n",
            "실측 값:  0   예측 값:  1\n",
            "0.22950489583433864 0.7956717535853386\n",
            "\n",
            "249832\n",
            "실측 값:  0   예측 값:  1\n",
            "0.22095220838150453 0.7957957293838263\n",
            "\n",
            "250449\n",
            "실측 값:  0   예측 값:  1\n",
            "0.289770176280399 0.734402846544981\n",
            "\n",
            "250672\n",
            "실측 값:  0   예측 값:  1\n",
            "0.2601092660270297 0.7540662009268999\n",
            "\n",
            "250842\n",
            "실측 값:  0   예측 값:  1\n",
            "0.22091435606125745 0.7958709485828876\n",
            "\n",
            "251071\n",
            "실측 값:  0   예측 값:  1\n",
            "0.289770176280399 0.734402846544981\n",
            "\n",
            "251763\n",
            "실측 값:  0   예측 값:  1\n",
            "0.22197617460028599 0.8011526502668858\n",
            "\n",
            "251931\n",
            "실측 값:  0   예측 값:  1\n",
            "0.07109105141375949 0.9439500123262404\n",
            "\n",
            "252095\n",
            "실측 값:  0   예측 값:  1\n",
            "0.3271264492359478 0.6946654096245766\n",
            "\n",
            "253061\n",
            "실측 값:  0   예측 값:  1\n",
            "0.2393578466269446 0.7845862656831741\n",
            "\n",
            "253096\n",
            "실측 값:  0   예측 값:  1\n",
            "0.21299001277702695 0.8033901862800121\n",
            "\n",
            "253138\n",
            "실측 값:  0   예측 값:  1\n",
            "0.29752005623595323 0.7168667167425156\n",
            "\n",
            "253173\n",
            "실측 값:  0   예측 값:  1\n",
            "0.20766223035161605 0.8079947084188461\n",
            "\n",
            "253465\n",
            "실측 값:  0   예측 값:  1\n",
            "0.29752005623595323 0.7168667167425156\n",
            "\n",
            "253539\n",
            "실측 값:  0   예측 값:  1\n",
            "0.22053508987528408 0.8061441127210855\n",
            "\n",
            "253853\n",
            "실측 값:  0   예측 값:  1\n",
            "0.19400592182137189 0.8338817656040192\n",
            "\n",
            "253921\n",
            "실측 값:  0   예측 값:  1\n",
            "0.21291143475309585 0.8033521808683872\n",
            "\n",
            "254067\n",
            "실측 값:  0   예측 값:  1\n",
            "0.2600937201186753 0.7517867386341095\n",
            "\n",
            "254068\n",
            "실측 값:  0   예측 값:  1\n",
            "0.22950489583433864 0.7956717535853386\n",
            "\n",
            "254086\n",
            "실측 값:  0   예측 값:  1\n",
            "0.22095220838150453 0.7957957293838263\n",
            "\n",
            "254177\n",
            "실측 값:  0   예측 값:  1\n",
            "0.39659193634270207 0.6127570916432887\n",
            "\n",
            "254463\n",
            "실측 값:  0   예측 값:  1\n",
            "0.22102612341586791 0.7957283817231655\n",
            "\n",
            "255178\n",
            "실측 값:  0   예측 값:  1\n",
            "0.2108155638863991 0.8092873021960258\n",
            "\n",
            "256120\n",
            "실측 값:  0   예측 값:  1\n",
            "0.2108155638863991 0.8092873021960258\n",
            "\n",
            "256497\n",
            "실측 값:  0   예측 값:  1\n",
            "0.22143009682076809 0.7952958270907402\n",
            "\n",
            "257224\n",
            "실측 값:  0   예측 값:  1\n",
            "0.21112079747922508 0.8088319562375546\n",
            "\n",
            "257728\n",
            "실측 값:  0   예측 값:  1\n",
            "0.2108155638863991 0.8092873021960258\n",
            "\n",
            "258120\n",
            "실측 값:  0   예측 값:  1\n",
            "0.20929725977157432 0.8062123693525791\n",
            "\n",
            "258692\n",
            "실측 값:  0   예측 값:  1\n",
            "0.2954440216899457 0.7191294059157372\n",
            "\n",
            "259222\n",
            "실측 값:  0   예측 값:  1\n",
            "0.22102612341586791 0.7957283817231655\n",
            "\n",
            "259719\n",
            "실측 값:  0   예측 값:  1\n",
            "0.2531287552762933 0.766224279999733\n",
            "\n",
            "261358\n",
            "실측 값:  0   예측 값:  1\n",
            "0.288486137495056 0.7298739794641733\n",
            "\n",
            "261571\n",
            "실측 값:  0   예측 값:  1\n",
            "0.20991349217365496 0.8189579918980598\n",
            "\n",
            "262691\n",
            "실측 값:  0   예측 값:  1\n",
            "0.20126338073123407 0.8231284096837044\n",
            "\n",
            "262771\n",
            "실측 값:  0   예측 값:  1\n",
            "0.2320188785115533 0.7908137887716293\n",
            "\n",
            "266030\n",
            "실측 값:  0   예측 값:  1\n",
            "0.288486137495056 0.7298739794641733\n",
            "\n",
            "266874\n",
            "실측 값:  0   예측 값:  1\n",
            "0.19971215379746354 0.8244526870548725\n",
            "\n",
            "267182\n",
            "실측 값:  0   예측 값:  1\n",
            "0.21322001969372195 0.8164792731404305\n",
            "\n",
            "267194\n",
            "실측 값:  0   예측 값:  1\n",
            "0.20324612242234247 0.8179349005222321\n",
            "\n",
            "268568\n",
            "실측 값:  0   예측 값:  1\n",
            "0.20259628675648853 0.8216435555368662\n",
            "\n",
            "269049\n",
            "실측 값:  0   예측 값:  1\n",
            "0.3145917737620039 0.7019083239138126\n",
            "\n",
            "271450\n",
            "실측 값:  0   예측 값:  1\n",
            "0.4410000193165615 0.5479016258032061\n",
            "\n",
            "271503\n",
            "실측 값:  0   예측 값:  1\n",
            "0.20774323363400526 0.8266413062810898\n",
            "\n",
            "272917\n",
            "실측 값:  0   예측 값:  1\n",
            "0.2023970974732947 0.8062333445996046\n",
            "\n",
            "275224\n",
            "실측 값:  0   예측 값:  1\n",
            "0.19564896809640686 0.835891842842102\n",
            "\n",
            "275633\n",
            "실측 값:  0   예측 값:  1\n",
            "0.2109459107668954 0.8181452564895153\n",
            "\n",
            "278052\n",
            "실측 값:  0   예측 값:  1\n",
            "0.19106490122067046 0.8171148803085089\n",
            "\n",
            "279144\n",
            "실측 값:  0   예측 값:  1\n",
            "0.2482120529293752 0.7778997980058193\n",
            "\n",
            "279393\n",
            "실측 값:  0   예측 값:  1\n",
            "0.19106490122067046 0.8171148803085089\n",
            "\n",
            "279437\n",
            "실측 값:  0   예측 값:  1\n",
            "0.21083227148824327 0.8182307705283165\n",
            "\n",
            "279738\n",
            "실측 값:  0   예측 값:  1\n",
            "0.2023970974732947 0.8062333445996046\n",
            "\n",
            "280138\n",
            "실측 값:  0   예측 값:  1\n",
            "0.4410000193165615 0.5479016258032061\n",
            "\n",
            "283312\n",
            "실측 값:  0   예측 값:  1\n",
            "0.1903747299988936 0.8322988077998161\n",
            "\n",
            "286137\n",
            "실측 값:  0   예측 값:  1\n",
            "0.1963074829177458 0.8270089738070965\n",
            "\n",
            "287583\n",
            "실측 값:  0   예측 값:  1\n",
            "0.19759831917144768 0.8259265273809433\n",
            "\n",
            "289495\n",
            "실측 값:  0   예측 값:  1\n",
            "0.2005679929809503 0.8208271898329258\n",
            "\n",
            "290372\n",
            "실측 값:  0   예측 값:  1\n",
            "0.060785635050706326 0.9545430243015288\n",
            "\n",
            "290567\n",
            "실측 값:  0   예측 값:  1\n",
            "0.2396890499103393 0.7815141249448061\n",
            "\n",
            "290661\n",
            "실측 값:  0   예측 값:  1\n",
            "0.22865337150938106 0.7919996939599514\n",
            "\n",
            "290774\n",
            "실측 값:  0   예측 값:  1\n",
            "0.2034404495589115 0.8206683937460184\n",
            "\n",
            "290883\n",
            "실측 값:  0   예측 값:  1\n",
            "0.2041039895639188 0.8169939704239368\n",
            "\n",
            "290993\n",
            "실측 값:  0   예측 값:  1\n",
            "0.20364354806383744 0.8204054050147533\n",
            "\n",
            "291050\n",
            "실측 값:  0   예측 값:  1\n",
            "0.1997553490377868 0.8243625685572624\n",
            "\n",
            "291433\n",
            "실측 값:  0   예측 값:  1\n",
            "0.2006794294811698 0.8235032558441162\n",
            "\n",
            "291856\n",
            "실측 값:  0   예측 값:  1\n",
            "0.1997553490377868 0.8243625685572624\n",
            "\n",
            "291907\n",
            "실측 값:  0   예측 값:  1\n",
            "0.1997553490377868 0.8243625685572624\n",
            "\n",
            "292099\n",
            "실측 값:  0   예측 값:  1\n",
            "0.1997553490377868 0.8243625685572624\n",
            "\n",
            "292431\n",
            "실측 값:  0   예측 값:  1\n",
            "0.19318718190106665 0.8292283825576305\n",
            "\n",
            "292464\n",
            "실측 값:  0   예측 값:  1\n",
            "0.2892105001883465 0.7291327659040691\n",
            "\n",
            "292496\n",
            "실측 값:  0   예측 값:  1\n",
            "0.20364354806383744 0.8204054050147533\n",
            "\n",
            "292528\n",
            "실측 값:  0   예측 값:  1\n",
            "0.2430482974241385 0.7790144924074411\n",
            "\n",
            "292955\n",
            "실측 값:  0   예측 값:  1\n",
            "0.2006794294811698 0.8235032558441162\n",
            "\n",
            "293254\n",
            "실측 값:  0   예측 값:  1\n",
            "0.2430482974241385 0.7790144924074411\n",
            "\n",
            "293327\n",
            "실측 값:  0   예측 값:  1\n",
            "0.28926794524977595 0.7290552221238613\n",
            "\n",
            "294482\n",
            "실측 값:  0   예측 값:  1\n",
            "0.23209992260558465 0.7894479464739561\n",
            "\n",
            "294867\n",
            "실측 값:  0   예측 값:  1\n",
            "0.28926794524977595 0.7290552221238613\n",
            "\n",
            "295345\n",
            "실측 값:  0   예측 값:  1\n",
            "0.20010229817808067 0.8240772597491741\n",
            "\n",
            "295359\n",
            "실측 값:  0   예측 값:  1\n",
            "0.2338511427726644 0.7884306274354458\n",
            "\n",
            "295455\n",
            "실측 값:  0   예측 값:  1\n",
            "0.20364354806383744 0.8204054050147533\n",
            "\n",
            "242668\n",
            "실측 값:  1   예측 값:  0\n",
            "0.7151583330705762 0.2891903955314774\n",
            "\n",
            "249509\n",
            "실측 값:  1   예측 값:  0\n",
            "0.987318716943264 0.016919640846708717\n",
            "\n",
            "250099\n",
            "실측 값:  1   예측 값:  0\n",
            "0.8860047515481709 0.11805459098832215\n",
            "\n",
            "250145\n",
            "실측 값:  1   예측 값:  0\n",
            "0.91583898186218 0.08435237408411922\n",
            "\n",
            "252122\n",
            "실측 값:  1   예측 값:  0\n",
            "0.9796660840511322 0.015738230959868815\n",
            "\n",
            "252625\n",
            "실측 값:  1   예측 값:  0\n",
            "0.8586411122232676 0.1390534725960606\n",
            "\n",
            "253852\n",
            "실측 값:  1   예측 값:  0\n",
            "0.6951900170170121 0.2919130658265203\n",
            "\n",
            "253998\n",
            "실측 값:  1   예측 값:  0\n",
            "0.7603821441880427 0.2559936791658401\n",
            "\n",
            "254453\n",
            "실측 값:  1   예측 값:  0\n",
            "0.8794362358748913 0.1457281871844316\n",
            "\n",
            "254815\n",
            "실측 값:  1   예측 값:  0\n",
            "0.8794362358748913 0.1457281871844316\n",
            "\n",
            "255040\n",
            "실측 값:  1   예측 값:  0\n",
            "0.9709987491369249 0.04255677109176759\n",
            "\n",
            "255064\n",
            "실측 값:  1   예측 값:  0\n",
            "0.7688508601859212 0.2581474488833919\n",
            "\n",
            "255168\n",
            "실측 값:  1   예측 값:  0\n",
            "0.9709987491369249 0.04255677109176759\n",
            "\n",
            "255179\n",
            "실측 값:  1   예측 값:  0\n",
            "0.998912326991558 0.0019479637471420121\n",
            "\n",
            "255220\n",
            "실측 값:  1   예측 값:  0\n",
            "0.8997875899076462 0.11366905848262833\n",
            "\n",
            "255353\n",
            "실측 값:  1   예측 값:  0\n",
            "0.9743644595146179 0.038932439101699856\n",
            "\n",
            "255387\n",
            "실측 값:  1   예측 값:  0\n",
            "0.998933881521225 0.001388523144953524\n",
            "\n",
            "255484\n",
            "실측 값:  1   예측 값:  0\n",
            "0.8830847814679146 0.12751855541137047\n",
            "\n",
            "255497\n",
            "실측 값:  1   예측 값:  0\n",
            "0.993759773671627 0.0070484548657532295\n",
            "\n",
            "255527\n",
            "실측 값:  1   예측 값:  0\n",
            "0.7984126918017864 0.21959376108134165\n",
            "\n",
            "255546\n",
            "실측 값:  1   예측 값:  0\n",
            "0.9236465990543364 0.0966418553616677\n",
            "\n",
            "255737\n",
            "실측 값:  1   예측 값:  0\n",
            "0.8694192096590996 0.1399935434164945\n",
            "\n",
            "255764\n",
            "실측 값:  1   예측 값:  0\n",
            "0.9991836994886398 0.0015274320013531904\n",
            "\n",
            "255846\n",
            "실측 값:  1   예측 값:  0\n",
            "0.7984126918017864 0.21959376108134165\n",
            "\n",
            "255883\n",
            "실측 값:  1   예측 값:  0\n",
            "0.9374036565423012 0.07602051537833178\n",
            "\n",
            "255894\n",
            "실측 값:  1   예측 값:  0\n",
            "0.9236465990543364 0.0966418553616677\n",
            "\n",
            "256005\n",
            "실측 값:  1   예측 값:  0\n",
            "0.8830847814679146 0.12751855541137047\n",
            "\n",
            "256020\n",
            "실측 값:  1   예측 값:  0\n",
            "0.909682746976614 0.1128272890127846\n",
            "\n",
            "256177\n",
            "실측 값:  1   예측 값:  0\n",
            "0.7683798242360353 0.2605390694807284\n",
            "\n",
            "256306\n",
            "실측 값:  1   예측 값:  0\n",
            "0.8391618891619146 0.1619856221950613\n",
            "\n",
            "256338\n",
            "실측 값:  1   예측 값:  0\n",
            "0.9989091604948044 0.001327175585402074\n",
            "\n",
            "256376\n",
            "실측 값:  1   예측 값:  0\n",
            "0.9966369420289992 0.0038291476180347672\n",
            "\n",
            "256510\n",
            "실측 값:  1   예측 값:  0\n",
            "0.8694192096590996 0.1399935434164945\n",
            "\n",
            "256536\n",
            "실측 값:  1   예측 값:  0\n",
            "0.8694192096590996 0.1399935434164945\n",
            "\n",
            "256576\n",
            "실측 값:  1   예측 값:  0\n",
            "0.8794362358748913 0.1457281871844316\n",
            "\n",
            "256736\n",
            "실측 값:  1   예측 값:  0\n",
            "0.909682746976614 0.1128272890127846\n",
            "\n",
            "256743\n",
            "실측 값:  1   예측 값:  0\n",
            "0.7984126918017864 0.21959376108134165\n",
            "\n",
            "256760\n",
            "실측 값:  1   예측 값:  0\n",
            "0.9709987491369249 0.04255677109176759\n",
            "\n",
            "256819\n",
            "실측 값:  1   예측 값:  0\n",
            "0.9709987491369249 0.04255677109176759\n",
            "\n",
            "256932\n",
            "실측 값:  1   예측 값:  0\n",
            "0.8694192096590996 0.1399935434164945\n",
            "\n",
            "256990\n",
            "실측 값:  1   예측 값:  0\n",
            "0.999201275408268 0.0014463385585514743\n",
            "\n",
            "257080\n",
            "실측 값:  1   예측 값:  0\n",
            "0.7683798242360353 0.2605390694807284\n",
            "\n",
            "257117\n",
            "실측 값:  1   예측 값:  0\n",
            "0.8040560111403465 0.2132866430329159\n",
            "\n",
            "257172\n",
            "실측 값:  1   예측 값:  0\n",
            "0.9374036565423012 0.07602051537833178\n",
            "\n",
            "257195\n",
            "실측 값:  1   예측 값:  0\n",
            "0.7984126918017864 0.21959376108134165\n",
            "\n",
            "257344\n",
            "실측 값:  1   예측 값:  0\n",
            "0.7984126918017864 0.21959376108134165\n",
            "\n",
            "257450\n",
            "실측 값:  1   예측 값:  0\n",
            "0.93968565762043 0.07924167465534993\n",
            "\n",
            "257463\n",
            "실측 값:  1   예측 값:  0\n",
            "0.8981272205710411 0.10925190360285343\n",
            "\n",
            "257519\n",
            "실측 값:  1   예측 값:  0\n",
            "0.973481148481369 0.04005429633980384\n",
            "\n",
            "257551\n",
            "실측 값:  1   예측 값:  0\n",
            "0.8576820679008961 0.16257679188856855\n",
            "\n",
            "257644\n",
            "실측 값:  1   예측 값:  0\n",
            "0.8206265065819025 0.20159965755738085\n",
            "\n",
            "257697\n",
            "실측 값:  1   예측 값:  0\n",
            "0.7984126918017864 0.21959376108134165\n",
            "\n",
            "257704\n",
            "실측 값:  1   예측 값:  0\n",
            "0.7688508601859212 0.2581474488833919\n",
            "\n",
            "257776\n",
            "실측 값:  1   예측 값:  0\n",
            "0.8040560111403465 0.2132866430329159\n",
            "\n",
            "257809\n",
            "실측 값:  1   예측 값:  0\n",
            "0.7984126918017864 0.21959376108134165\n",
            "\n",
            "257813\n",
            "실측 값:  1   예측 값:  0\n",
            "0.9709987491369249 0.04255677109176759\n",
            "\n",
            "257893\n",
            "실측 값:  1   예측 값:  0\n",
            "0.8981272205710411 0.10925190360285343\n",
            "\n",
            "257966\n",
            "실측 값:  1   예측 값:  0\n",
            "0.8576820679008961 0.16257679188856855\n",
            "\n",
            "258012\n",
            "실측 값:  1   예측 값:  0\n",
            "0.8576820679008961 0.16257679188856855\n",
            "\n",
            "258056\n",
            "실측 값:  1   예측 값:  0\n",
            "0.9966369420289992 0.0038291476180347672\n",
            "\n",
            "258259\n",
            "실측 값:  1   예측 값:  0\n",
            "0.6455868776974967 0.3473200971493497\n",
            "\n",
            "258285\n",
            "실측 값:  1   예측 값:  0\n",
            "0.8794362358748913 0.1457281871844316\n",
            "\n",
            "258386\n",
            "실측 값:  1   예측 값:  0\n",
            "0.9709987491369249 0.04255677109176759\n",
            "\n",
            "258422\n",
            "실측 값:  1   예측 값:  0\n",
            "0.993759773671627 0.0070484548657532295\n",
            "\n",
            "258462\n",
            "실측 값:  1   예측 값:  0\n",
            "0.8981272205710411 0.10925190360285343\n",
            "\n",
            "258479\n",
            "실측 값:  1   예측 값:  0\n",
            "0.99887777864933 0.0013820905249417592\n",
            "\n",
            "258572\n",
            "실측 값:  1   예측 값:  0\n",
            "0.7984126918017864 0.21959376108134165\n",
            "\n",
            "258647\n",
            "실측 값:  1   예측 값:  0\n",
            "0.993759773671627 0.0070484548657532295\n",
            "\n",
            "258697\n",
            "실측 값:  1   예측 값:  0\n",
            "0.7984126918017864 0.21959376108134165\n",
            "\n",
            "258711\n",
            "실측 값:  1   예측 값:  0\n",
            "0.9945733770728112 0.006042165224698692\n",
            "\n",
            "258783\n",
            "실측 값:  1   예측 값:  0\n",
            "0.909682746976614 0.1128272890127846\n",
            "\n",
            "258851\n",
            "실측 값:  1   예측 값:  0\n",
            "0.8981272205710411 0.10925190360285343\n",
            "\n",
            "258866\n",
            "실측 값:  1   예측 값:  0\n",
            "0.7984126918017864 0.21959376108134165\n",
            "\n",
            "258933\n",
            "실측 값:  1   예측 값:  0\n",
            "0.7688508601859212 0.2581474488833919\n",
            "\n",
            "259029\n",
            "실측 값:  1   예측 값:  0\n",
            "0.8777338713407516 0.14218423676720704\n",
            "\n",
            "259230\n",
            "실측 값:  1   예측 값:  0\n",
            "0.8206265065819025 0.20159965755738085\n",
            "\n",
            "259357\n",
            "실측 값:  1   예측 값:  0\n",
            "0.8694192096590996 0.1399935434164945\n",
            "\n",
            "259432\n",
            "실측 값:  1   예측 값:  0\n",
            "0.998816967010498 0.0020863403693169857\n",
            "\n",
            "259444\n",
            "실측 값:  1   예측 값:  0\n",
            "0.8694192096590996 0.1399935434164945\n",
            "\n",
            "259547\n",
            "실측 값:  1   예측 값:  0\n",
            "0.8794362358748913 0.1457281871844316\n",
            "\n",
            "259590\n",
            "실측 값:  1   예측 값:  0\n",
            "0.993759773671627 0.0070484548657532295\n",
            "\n",
            "259651\n",
            "실측 값:  1   예측 값:  0\n",
            "0.909682746976614 0.1128272890127846\n",
            "\n",
            "259673\n",
            "실측 값:  1   예측 값:  0\n",
            "0.998816967010498 0.0020863403693169857\n",
            "\n",
            "259761\n",
            "실측 값:  1   예측 값:  0\n",
            "0.9225725270807744 0.09330292526283301\n",
            "\n",
            "259805\n",
            "실측 값:  1   예측 값:  0\n",
            "0.5669963520813326 0.43363690163823776\n",
            "\n",
            "259884\n",
            "실측 값:  1   예측 값:  0\n",
            "0.9709987491369249 0.04255677109176759\n",
            "\n",
            "259932\n",
            "실측 값:  1   예측 값:  0\n",
            "0.9709987491369249 0.04255677109176759\n",
            "\n",
            "259961\n",
            "실측 값:  1   예측 값:  0\n",
            "0.7984126918017864 0.21959376108134165\n",
            "\n",
            "259985\n",
            "실측 값:  1   예측 값:  0\n",
            "0.9743644595146179 0.038932439101699856\n",
            "\n",
            "260023\n",
            "실측 값:  1   예측 값:  0\n",
            "0.9993745014071465 0.0008595882144675214\n",
            "\n",
            "260036\n",
            "실측 값:  1   예측 값:  0\n",
            "0.998912326991558 0.0019479637471420121\n",
            "\n",
            "260286\n",
            "실측 값:  1   예측 값:  0\n",
            "0.8981272205710411 0.10925190360285343\n",
            "\n",
            "260306\n",
            "실측 값:  1   예측 값:  0\n",
            "0.7984126918017864 0.21959376108134165\n",
            "\n",
            "260326\n",
            "실측 값:  1   예측 값:  0\n",
            "0.7984126918017864 0.21959376108134165\n",
            "\n",
            "260332\n",
            "실측 값:  1   예측 값:  0\n",
            "0.9743644595146179 0.038932439101699856\n",
            "\n",
            "260335\n",
            "실측 값:  1   예측 값:  0\n",
            "0.9989091604948044 0.001327175585402074\n",
            "\n",
            "260502\n",
            "실측 값:  1   예측 값:  0\n",
            "0.9919623211026192 0.010593547483949806\n",
            "\n",
            "260822\n",
            "실측 값:  1   예측 값:  0\n",
            "0.9919623211026192 0.010593547483949806\n",
            "\n",
            "261553\n",
            "실측 값:  1   예측 값:  0\n",
            "0.5395860029384494 0.4791584815829992\n",
            "\n",
            "261578\n",
            "실측 값:  1   예측 값:  0\n",
            "0.9968544393777848 0.005304039987549913\n",
            "\n",
            "262122\n",
            "실측 값:  1   예측 값:  0\n",
            "0.8694192096590996 0.1399935434164945\n",
            "\n",
            "262124\n",
            "실측 값:  1   예측 값:  0\n",
            "0.7789013233268633 0.2245172447692312\n",
            "\n",
            "262471\n",
            "실측 값:  1   예측 값:  0\n",
            "0.9709987491369249 0.04255677109176759\n",
            "\n",
            "263630\n",
            "실측 값:  1   예측 값:  0\n",
            "0.9988458976149559 0.0015456669078730554\n",
            "\n",
            "264212\n",
            "실측 값:  1   예측 값:  0\n",
            "0.9988121166825294 0.0014914515694499642\n",
            "\n",
            "265005\n",
            "실측 값:  1   예측 값:  0\n",
            "0.7984126918017864 0.21959376108134165\n",
            "\n",
            "266371\n",
            "실측 값:  1   예측 값:  0\n",
            "0.9970736503601074 0.003470111751539661\n",
            "\n",
            "266904\n",
            "실측 값:  1   예측 값:  0\n",
            "0.9919623211026192 0.010593547483949806\n",
            "\n",
            "266982\n",
            "실측 값:  1   예측 값:  0\n",
            "0.916443721333053 0.08444279330603878\n",
            "\n",
            "267695\n",
            "실측 값:  1   예측 값:  0\n",
            "0.9968544393777848 0.005304039987549913\n",
            "\n",
            "267746\n",
            "실측 값:  1   예측 값:  0\n",
            "0.7984126918017864 0.21959376108134165\n",
            "\n",
            "268525\n",
            "실측 값:  1   예측 값:  0\n",
            "0.7984126918017864 0.21959376108134165\n",
            "\n",
            "269783\n",
            "실측 값:  1   예측 값:  0\n",
            "0.7756051630713046 0.23867687385063616\n",
            "\n",
            "270224\n",
            "실측 값:  1   예측 값:  0\n",
            "0.9988458976149559 0.0015456669078730554\n",
            "\n",
            "270326\n",
            "실측 값:  1   예측 값:  0\n",
            "0.9988121166825294 0.0014914515694499642\n",
            "\n",
            "270539\n",
            "실측 값:  1   예측 값:  0\n",
            "0.9919623211026192 0.010593547483949806\n",
            "\n",
            "270633\n",
            "실측 값:  1   예측 값:  0\n",
            "0.9579505249857904 0.045960779520100914\n",
            "\n",
            "272932\n",
            "실측 값:  1   예측 값:  0\n",
            "0.5395860029384494 0.4791584815829992\n",
            "\n",
            "275060\n",
            "실측 값:  1   예측 값:  0\n",
            "0.9970892518758774 0.005618746138111419\n",
            "\n",
            "275522\n",
            "실측 값:  1   예측 값:  0\n",
            "0.9862688481807708 0.013621581776533276\n",
            "\n",
            "275982\n",
            "실측 값:  1   예측 값:  0\n",
            "0.5395860029384494 0.4791584815829992\n",
            "\n",
            "278320\n",
            "실측 값:  1   예측 값:  0\n",
            "0.9188138693571092 0.07817867283301894\n",
            "\n",
            "279533\n",
            "실측 값:  1   예측 값:  0\n",
            "0.8129031769931316 0.1917946795001626\n",
            "\n",
            "280609\n",
            "실측 값:  1   예측 값:  0\n",
            "0.7637300919741392 0.256732773326803\n",
            "\n",
            "280781\n",
            "실측 값:  1   예측 값:  0\n",
            "0.9911150336265564 0.012445384587408629\n",
            "\n",
            "282127\n",
            "실측 값:  1   예측 값:  0\n",
            "0.6965166982263327 0.3093283155467361\n",
            "\n",
            "282717\n",
            "실측 값:  1   예측 값:  0\n",
            "0.9992799460887908 0.0007605529306147217\n",
            "\n",
            "282765\n",
            "실측 값:  1   예측 값:  0\n",
            "0.9922507107257844 0.008905161241273163\n",
            "\n",
            "283427\n",
            "실측 값:  1   예측 값:  0\n",
            "0.6965166982263327 0.3093283155467361\n",
            "\n",
            "283677\n",
            "실측 값:  1   예측 값:  0\n",
            "0.5395860029384494 0.4791584815829992\n",
            "\n",
            "283839\n",
            "실측 값:  1   예측 값:  0\n",
            "0.9996887892484664 0.0003459958442704192\n",
            "\n",
            "284758\n",
            "실측 값:  1   예측 값:  0\n",
            "0.7777395650628023 0.2488365147582953\n",
            "\n",
            "284767\n",
            "실측 값:  1   예측 값:  0\n",
            "0.6069660726934671 0.4022372490726411\n",
            "\n",
            "285319\n",
            "실측 값:  1   예측 값:  0\n",
            "0.7436360791325569 0.2769545218034182\n",
            "\n",
            "287239\n",
            "실측 값:  1   예측 값:  0\n",
            "0.9996887892484664 0.0003459958442704192\n",
            "\n",
            "287888\n",
            "실측 값:  1   예측 값:  0\n",
            "0.9974643215537072 0.00272763214798033\n",
            "\n",
            "288523\n",
            "실측 값:  1   예측 값:  0\n",
            "0.5405928753316402 0.4798590559512377\n",
            "\n",
            "288757\n",
            "실측 값:  1   예측 값:  0\n",
            "0.5405928753316402 0.4798590559512377\n",
            "\n",
            "289473\n",
            "실측 값:  1   예측 값:  0\n",
            "0.9645712822675704 0.03614499557443196\n",
            "\n",
            "289651\n",
            "실측 값:  1   예측 값:  0\n",
            "0.9584999233484268 0.047493704449152574\n",
            "\n",
            "290600\n",
            "실측 값:  1   예측 값:  0\n",
            "0.7494147063698621 0.2670838801423088\n",
            "\n",
            "290652\n",
            "실측 값:  1   예측 값:  0\n",
            "0.5405928753316402 0.4798590559512377\n",
            "\n",
            "290830\n",
            "실측 값:  1   예측 값:  0\n",
            "0.6654796460043144 0.35552219843702915\n",
            "\n",
            "291256\n",
            "실측 값:  1   예측 값:  0\n",
            "0.6569572467642502 0.3622973020919744\n",
            "\n",
            "291648\n",
            "실측 값:  1   예측 값:  0\n",
            "0.6569572467642502 0.3622973020919744\n",
            "\n",
            "291649\n",
            "실측 값:  1   예측 값:  0\n",
            "0.6678198144363705 0.3476228378422093\n",
            "\n",
            "291692\n",
            "실측 값:  1   예측 값:  0\n",
            "0.5902933673787629 0.420932904467918\n",
            "\n",
            "291712\n",
            "실측 값:  1   예측 값:  0\n",
            "0.8044847501441836 0.18880080144390374\n",
            "\n",
            "292368\n",
            "실측 값:  1   예측 값:  0\n",
            "0.8743655411526561 0.14024555403739214\n",
            "\n",
            "292499\n",
            "실측 값:  1   예측 값:  0\n",
            "0.5938563006639015 0.4224379938677885\n",
            "\n",
            "292711\n",
            "실측 값:  1   예측 값:  0\n",
            "0.9994710832834244 0.0006255397921677286\n",
            "\n",
            "292793\n",
            "실측 값:  1   예측 값:  0\n",
            "0.8863380961120129 0.11973320973902445\n",
            "\n",
            "292915\n",
            "실측 값:  1   예측 값:  0\n",
            "0.988822303712368 0.012352661343356884\n",
            "\n",
            "293043\n",
            "실측 값:  1   예측 값:  0\n",
            "0.988822303712368 0.012352661343356884\n",
            "\n",
            "293097\n",
            "실측 값:  1   예측 값:  0\n",
            "0.8863380961120129 0.11973320973902445\n",
            "\n",
            "293146\n",
            "실측 값:  1   예측 값:  0\n",
            "0.5170371939311735 0.4954041344462894\n",
            "\n",
            "293420\n",
            "실측 값:  1   예측 값:  0\n",
            "0.6159359207667876 0.3860201267689263\n",
            "\n",
            "293470\n",
            "실측 값:  1   예측 값:  0\n",
            "0.8044847501441836 0.18880080144390374\n",
            "\n",
            "293527\n",
            "실측 값:  1   예측 값:  0\n",
            "0.8008080115541816 0.19744905031984672\n",
            "\n",
            "294012\n",
            "실측 값:  1   예측 값:  0\n",
            "0.998175412416458 0.0017745427547311012\n",
            "\n",
            "294242\n",
            "실측 값:  1   예측 값:  0\n",
            "0.6569572467642502 0.3622973020919744\n",
            "\n",
            "294697\n",
            "실측 값:  1   예측 값:  0\n",
            "0.8044847501441836 0.18880080144390374\n",
            "\n",
            "295097\n",
            "실측 값:  1   예측 값:  0\n",
            "0.6569572467642502 0.3622973020919744\n",
            "\n",
            "295324\n",
            "실측 값:  1   예측 값:  0\n",
            "0.7249513060523896 0.2811190330066893\n",
            "\n",
            "295394\n",
            "실측 값:  1   예측 값:  0\n",
            "0.9629441909492016 0.037162988148793374\n",
            "\n",
            "295587\n",
            "실측 값:  1   예측 값:  0\n",
            "0.6018375244675553 0.3853256564507319\n",
            "\n"
          ],
          "name": "stdout"
        }
      ]
    },
    {
      "cell_type": "markdown",
      "metadata": {
        "id": "k66jzW6qTXC3",
        "colab_type": "text"
      },
      "source": [
        "## SVM과 LGBM 비교"
      ]
    },
    {
      "cell_type": "code",
      "metadata": {
        "id": "P63w5HMiTY9n",
        "colab_type": "code",
        "colab": {
          "base_uri": "https://localhost:8080/",
          "height": 72
        },
        "outputId": "4ed66da0-65b2-49db-94fc-29c4287f7380"
      },
      "source": [
        "same_svmNlgbm = list()\n",
        "for svm in false_record_svm:\n",
        "    if svm in false_record_lgbm:\n",
        "        same_svmNlgbm.append(svm)\n",
        "print(len(same_svmNlgbm))\n",
        "print(same_svmNlgbm) "
      ],
      "execution_count": null,
      "outputs": [
        {
          "output_type": "stream",
          "text": [
            "38\n",
            "[256005, 287239, 257551, 292368, 275522, 255064, 259673, 282717, 275060, 287888, 258711, 293527, 257704, 259761, 260286, 283839, 255179, 280781, 258259, 259805, 250099, 255764, 258851, 270633, 257893, 259432, 289651, 258933, 253852, 258462, 257966, 243634, 257463, 260036, 258012, 256990, 242668, 255484]\n"
          ],
          "name": "stdout"
        }
      ]
    },
    {
      "cell_type": "code",
      "metadata": {
        "id": "B7OUNI2HYMk5",
        "colab_type": "code",
        "colab": {}
      },
      "source": [
        "sub_lgbm = pd.read_csv('lgbm_models/submissions/[1024, 1363, 7234]_submission.csv')\n",
        "sub_lgbm.set_index('id', inplace = True)"
      ],
      "execution_count": null,
      "outputs": []
    },
    {
      "cell_type": "code",
      "metadata": {
        "id": "8zw2j3JJZ9Ao",
        "colab_type": "code",
        "colab": {
          "base_uri": "https://localhost:8080/",
          "height": 1000
        },
        "outputId": "e6b5b908-eec0-4a3a-d194-72abe41c719c"
      },
      "source": [
        "for idx in false_record_svm:\n",
        "    print(idx)\n",
        "    print(sub_lgbm['pred'][idx], Y_test[idx])\n",
        "    print(sub_lgbm['1'][idx])\n",
        "    print()"
      ],
      "execution_count": null,
      "outputs": [
        {
          "output_type": "stream",
          "text": [
            "253858\n",
            "0 0\n",
            "0.0063883176180836035\n",
            "\n",
            "256005\n",
            "0 1\n",
            "0.09846394209970782\n",
            "\n",
            "287239\n",
            "0 1\n",
            "2.843121847735089e-05\n",
            "\n",
            "275982\n",
            "1 1\n",
            "0.6503752673931257\n",
            "\n",
            "257551\n",
            "0 1\n",
            "0.14017756860545455\n",
            "\n",
            "292368\n",
            "0 1\n",
            "0.0004048758537406773\n",
            "\n",
            "283677\n",
            "1 1\n",
            "0.6503752673931257\n",
            "\n",
            "271390\n",
            "1 1\n",
            "0.591399608102725\n",
            "\n",
            "280609\n",
            "1 1\n",
            "0.5870267201938572\n",
            "\n",
            "272932\n",
            "1 1\n",
            "0.6503752673931257\n",
            "\n",
            "255546\n",
            "1 1\n",
            "0.9605806896037478\n",
            "\n",
            "255040\n",
            "1 1\n",
            "0.9614511443995106\n",
            "\n",
            "275522\n",
            "0 1\n",
            "0.0008452810902115753\n",
            "\n",
            "284737\n",
            "1 1\n",
            "0.6247333131165007\n",
            "\n",
            "255064\n",
            "0 1\n",
            "0.1414127596969916\n",
            "\n",
            "259673\n",
            "0 1\n",
            "0.15179662071619615\n",
            "\n",
            "282717\n",
            "0 1\n",
            "0.0002669197096708386\n",
            "\n",
            "275557\n",
            "1 1\n",
            "0.591399608102725\n",
            "\n",
            "275060\n",
            "0 1\n",
            "0.00971415967169568\n",
            "\n",
            "287888\n",
            "0 1\n",
            "0.005362045294550554\n",
            "\n",
            "258711\n",
            "0 1\n",
            "0.09096160115331133\n",
            "\n",
            "293527\n",
            "0 1\n",
            "0.014465341844422068\n",
            "\n",
            "285862\n",
            "1 1\n",
            "0.7499642805858012\n",
            "\n",
            "257704\n",
            "0 1\n",
            "0.1414127596969916\n",
            "\n",
            "259761\n",
            "0 1\n",
            "0.14017756860545455\n",
            "\n",
            "260286\n",
            "0 1\n",
            "0.1414127596969916\n",
            "\n",
            "283839\n",
            "0 1\n",
            "2.843121847735089e-05\n",
            "\n",
            "255168\n",
            "1 1\n",
            "0.9365049974603531\n",
            "\n",
            "255179\n",
            "0 1\n",
            "0.15179662071619615\n",
            "\n",
            "280781\n",
            "0 1\n",
            "0.04014912082966575\n",
            "\n",
            "258259\n",
            "0 1\n",
            "0.22199212160974746\n",
            "\n",
            "259805\n",
            "0 1\n",
            "0.21927997448136194\n",
            "\n",
            "281311\n",
            "1 1\n",
            "0.566370099714218\n",
            "\n",
            "283363\n",
            "1 1\n",
            "0.5922910690056078\n",
            "\n",
            "267492\n",
            "1 1\n",
            "0.591399608102725\n",
            "\n",
            "266982\n",
            "1 1\n",
            "0.6569527554073497\n",
            "\n",
            "260332\n",
            "1 1\n",
            "0.9599619370350836\n",
            "\n",
            "260335\n",
            "1 1\n",
            "0.9605806896037478\n",
            "\n",
            "250099\n",
            "0 1\n",
            "0.005390326414625082\n",
            "\n",
            "256760\n",
            "1 1\n",
            "0.9614511443995106\n",
            "\n",
            "286984\n",
            "1 1\n",
            "0.7499642805858012\n",
            "\n",
            "288523\n",
            "1 1\n",
            "0.6299847602327713\n",
            "\n",
            "255764\n",
            "0 1\n",
            "0.15179662071619615\n",
            "\n",
            "257813\n",
            "1 1\n",
            "0.9365049974603531\n",
            "\n",
            "258851\n",
            "0 1\n",
            "0.1414127596969916\n",
            "\n",
            "270633\n",
            "0 1\n",
            "0.0004545843249565949\n",
            "\n",
            "259884\n",
            "1 1\n",
            "0.9614511443995106\n",
            "\n",
            "256819\n",
            "1 1\n",
            "0.9365049974603531\n",
            "\n",
            "262471\n",
            "1 1\n",
            "0.9614511443995106\n",
            "\n",
            "256338\n",
            "1 1\n",
            "0.9605806896037478\n",
            "\n",
            "258386\n",
            "1 1\n",
            "0.9365049974603531\n",
            "\n",
            "259932\n",
            "1 1\n",
            "0.9614511443995106\n",
            "\n",
            "290652\n",
            "1 1\n",
            "0.6299847602327713\n",
            "\n",
            "271715\n",
            "1 1\n",
            "0.591399608102725\n",
            "\n",
            "257893\n",
            "0 1\n",
            "0.1414127596969916\n",
            "\n",
            "259432\n",
            "0 1\n",
            "0.15179662071619615\n",
            "\n",
            "289651\n",
            "0 1\n",
            "0.0015834132564260409\n",
            "\n",
            "258933\n",
            "0 1\n",
            "0.1414127596969916\n",
            "\n",
            "255353\n",
            "1 1\n",
            "0.9599619370350836\n",
            "\n",
            "259985\n",
            "1 1\n",
            "0.9599619370350836\n",
            "\n",
            "255894\n",
            "1 1\n",
            "0.9605806896037478\n",
            "\n",
            "260502\n",
            "1 1\n",
            "0.9513885234543524\n",
            "\n",
            "253852\n",
            "0 1\n",
            "0.2035516197342044\n",
            "\n",
            "258462\n",
            "0 1\n",
            "0.1414127596969916\n",
            "\n",
            "274849\n",
            "1 1\n",
            "0.5922910690056078\n",
            "\n",
            "257966\n",
            "0 1\n",
            "0.14017756860545455\n",
            "\n",
            "267695\n",
            "1 1\n",
            "0.9456899346696396\n",
            "\n",
            "261553\n",
            "1 1\n",
            "0.6503752673931257\n",
            "\n",
            "243634\n",
            "0 1\n",
            "0.2256788898798913\n",
            "\n",
            "257463\n",
            "0 1\n",
            "0.1414127596969916\n",
            "\n",
            "260036\n",
            "0 1\n",
            "0.15179662071619615\n",
            "\n",
            "261578\n",
            "1 1\n",
            "0.9605806896037478\n",
            "\n",
            "258012\n",
            "0 1\n",
            "0.14017756860545455\n",
            "\n",
            "256990\n",
            "0 1\n",
            "0.15124267060759303\n",
            "\n",
            "242668\n",
            "0 1\n",
            "0.004161592791353739\n",
            "\n",
            "279533\n",
            "1 1\n",
            "0.6348574425051716\n",
            "\n",
            "257519\n",
            "1 1\n",
            "0.9687858881336976\n",
            "\n",
            "270326\n",
            "1 1\n",
            "0.9524141940396658\n",
            "\n",
            "288757\n",
            "1 1\n",
            "0.6299847602327713\n",
            "\n",
            "255484\n",
            "0 1\n",
            "0.09846394209970782\n",
            "\n"
          ],
          "name": "stdout"
        }
      ]
    },
    {
      "cell_type": "code",
      "metadata": {
        "id": "Wx6MF-sdZ9GV",
        "colab_type": "code",
        "colab": {}
      },
      "source": [
        ""
      ],
      "execution_count": null,
      "outputs": []
    },
    {
      "cell_type": "markdown",
      "metadata": {
        "id": "mxoY--wTTwOc",
        "colab_type": "text"
      },
      "source": [
        "## SVM과 LSTM 비교"
      ]
    },
    {
      "cell_type": "code",
      "metadata": {
        "id": "yirG-Ds6T23d",
        "colab_type": "code",
        "colab": {
          "base_uri": "https://localhost:8080/",
          "height": 72
        },
        "outputId": "245e6984-87c8-44f8-9265-55485db03479"
      },
      "source": [
        "same_svmNlstm = list()\n",
        "for svm in false_record_svm:\n",
        "    if svm in false_record_lstm:\n",
        "        same_svmNlstm.append(svm)\n",
        "print(len(same_svmNlstm))\n",
        "print(same_svmNlstm) "
      ],
      "execution_count": null,
      "outputs": [
        {
          "output_type": "stream",
          "text": [
            "68\n",
            "[256005, 287239, 275982, 257551, 292368, 283677, 280609, 272932, 255546, 255040, 275522, 255064, 259673, 282717, 275060, 287888, 258711, 293527, 257704, 259761, 260286, 283839, 255168, 255179, 280781, 258259, 259805, 266982, 260332, 260335, 250099, 256760, 288523, 255764, 257813, 258851, 270633, 259884, 256819, 262471, 256338, 258386, 259932, 290652, 257893, 259432, 289651, 258933, 255353, 259985, 255894, 260502, 253852, 258462, 257966, 267695, 261553, 257463, 260036, 261578, 258012, 256990, 242668, 279533, 257519, 270326, 288757, 255484]\n"
          ],
          "name": "stdout"
        }
      ]
    },
    {
      "cell_type": "code",
      "metadata": {
        "id": "NRANoxwvT8uR",
        "colab_type": "code",
        "colab": {
          "base_uri": "https://localhost:8080/",
          "height": 1000
        },
        "outputId": "9748d506-1788-4a04-be04-cdeb601605d9"
      },
      "source": [
        "for idx in false_record_svm:\n",
        "    print(idx)\n",
        "    print(submission['pred'][idx], Y_test[idx])\n",
        "    print(submission['1'][idx])\n",
        "    print()"
      ],
      "execution_count": null,
      "outputs": [
        {
          "output_type": "stream",
          "text": [
            "253858\n",
            "0 0\n",
            "0.04751574502006406\n",
            "\n",
            "256005\n",
            "0 1\n",
            "0.12751855541137047\n",
            "\n",
            "287239\n",
            "0 1\n",
            "0.0003459958442704192\n",
            "\n",
            "275982\n",
            "0 1\n",
            "0.4791584815829992\n",
            "\n",
            "257551\n",
            "0 1\n",
            "0.16257679188856855\n",
            "\n",
            "292368\n",
            "0 1\n",
            "0.14024555403739214\n",
            "\n",
            "283677\n",
            "0 1\n",
            "0.4791584815829992\n",
            "\n",
            "271390\n",
            "1 1\n",
            "0.7879932057112455\n",
            "\n",
            "280609\n",
            "0 1\n",
            "0.256732773326803\n",
            "\n",
            "272932\n",
            "0 1\n",
            "0.4791584815829992\n",
            "\n",
            "255546\n",
            "0 1\n",
            "0.0966418553616677\n",
            "\n",
            "255040\n",
            "0 1\n",
            "0.04255677109176759\n",
            "\n",
            "275522\n",
            "0 1\n",
            "0.013621581776533276\n",
            "\n",
            "284737\n",
            "1 1\n",
            "0.7790665347129107\n",
            "\n",
            "255064\n",
            "0 1\n",
            "0.2581474488833919\n",
            "\n",
            "259673\n",
            "0 1\n",
            "0.0020863403693169857\n",
            "\n",
            "282717\n",
            "0 1\n",
            "0.0007605529306147217\n",
            "\n",
            "275557\n",
            "1 1\n",
            "0.7879932057112455\n",
            "\n",
            "275060\n",
            "0 1\n",
            "0.005618746138111419\n",
            "\n",
            "287888\n",
            "0 1\n",
            "0.00272763214798033\n",
            "\n",
            "258711\n",
            "0 1\n",
            "0.006042165224698692\n",
            "\n",
            "293527\n",
            "0 1\n",
            "0.19744905031984672\n",
            "\n",
            "285862\n",
            "1 1\n",
            "0.8244236763566732\n",
            "\n",
            "257704\n",
            "0 1\n",
            "0.2581474488833919\n",
            "\n",
            "259761\n",
            "0 1\n",
            "0.093302925262833\n",
            "\n",
            "260286\n",
            "0 1\n",
            "0.10925190360285343\n",
            "\n",
            "283839\n",
            "0 1\n",
            "0.0003459958442704192\n",
            "\n",
            "255168\n",
            "0 1\n",
            "0.04255677109176759\n",
            "\n",
            "255179\n",
            "0 1\n",
            "0.0019479637471420121\n",
            "\n",
            "280781\n",
            "0 1\n",
            "0.012445384587408627\n",
            "\n",
            "258259\n",
            "0 1\n",
            "0.3473200971493497\n",
            "\n",
            "259805\n",
            "0 1\n",
            "0.43363690163823776\n",
            "\n",
            "281311\n",
            "1 1\n",
            "0.8931227847933769\n",
            "\n",
            "283363\n",
            "1 1\n",
            "0.8092820793390274\n",
            "\n",
            "267492\n",
            "1 1\n",
            "0.7879932057112455\n",
            "\n",
            "266982\n",
            "0 1\n",
            "0.08444279330603878\n",
            "\n",
            "260332\n",
            "0 1\n",
            "0.038932439101699856\n",
            "\n",
            "260335\n",
            "0 1\n",
            "0.001327175585402074\n",
            "\n",
            "250099\n",
            "0 1\n",
            "0.11805459098832215\n",
            "\n",
            "256760\n",
            "0 1\n",
            "0.04255677109176759\n",
            "\n",
            "286984\n",
            "1 1\n",
            "0.8244236763566732\n",
            "\n",
            "288523\n",
            "0 1\n",
            "0.4798590559512377\n",
            "\n",
            "255764\n",
            "0 1\n",
            "0.0015274320013531904\n",
            "\n",
            "257813\n",
            "0 1\n",
            "0.04255677109176759\n",
            "\n",
            "258851\n",
            "0 1\n",
            "0.10925190360285343\n",
            "\n",
            "270633\n",
            "0 1\n",
            "0.045960779520100914\n",
            "\n",
            "259884\n",
            "0 1\n",
            "0.04255677109176759\n",
            "\n",
            "256819\n",
            "0 1\n",
            "0.04255677109176759\n",
            "\n",
            "262471\n",
            "0 1\n",
            "0.04255677109176759\n",
            "\n",
            "256338\n",
            "0 1\n",
            "0.001327175585402074\n",
            "\n",
            "258386\n",
            "0 1\n",
            "0.04255677109176759\n",
            "\n",
            "259932\n",
            "0 1\n",
            "0.04255677109176759\n",
            "\n",
            "290652\n",
            "0 1\n",
            "0.4798590559512377\n",
            "\n",
            "271715\n",
            "1 1\n",
            "0.7879932057112455\n",
            "\n",
            "257893\n",
            "0 1\n",
            "0.10925190360285343\n",
            "\n",
            "259432\n",
            "0 1\n",
            "0.0020863403693169857\n",
            "\n",
            "289651\n",
            "0 1\n",
            "0.047493704449152574\n",
            "\n",
            "258933\n",
            "0 1\n",
            "0.2581474488833919\n",
            "\n",
            "255353\n",
            "0 1\n",
            "0.038932439101699856\n",
            "\n",
            "259985\n",
            "0 1\n",
            "0.038932439101699856\n",
            "\n",
            "255894\n",
            "0 1\n",
            "0.0966418553616677\n",
            "\n",
            "260502\n",
            "0 1\n",
            "0.010593547483949806\n",
            "\n",
            "253852\n",
            "0 1\n",
            "0.2919130658265203\n",
            "\n",
            "258462\n",
            "0 1\n",
            "0.10925190360285343\n",
            "\n",
            "274849\n",
            "1 1\n",
            "0.7352731167338789\n",
            "\n",
            "257966\n",
            "0 1\n",
            "0.16257679188856855\n",
            "\n",
            "267695\n",
            "0 1\n",
            "0.005304039987549913\n",
            "\n",
            "261553\n",
            "0 1\n",
            "0.4791584815829992\n",
            "\n",
            "243634\n",
            "1 1\n",
            "0.5201564020826481\n",
            "\n",
            "257463\n",
            "0 1\n",
            "0.10925190360285343\n",
            "\n",
            "260036\n",
            "0 1\n",
            "0.0019479637471420121\n",
            "\n",
            "261578\n",
            "0 1\n",
            "0.005304039987549913\n",
            "\n",
            "258012\n",
            "0 1\n",
            "0.16257679188856855\n",
            "\n",
            "256990\n",
            "0 1\n",
            "0.0014463385585514743\n",
            "\n",
            "242668\n",
            "0 1\n",
            "0.2891903955314774\n",
            "\n",
            "279533\n",
            "0 1\n",
            "0.1917946795001626\n",
            "\n",
            "257519\n",
            "0 1\n",
            "0.04005429633980384\n",
            "\n",
            "270326\n",
            "0 1\n",
            "0.0014914515694499642\n",
            "\n",
            "288757\n",
            "0 1\n",
            "0.4798590559512377\n",
            "\n",
            "255484\n",
            "0 1\n",
            "0.12751855541137047\n",
            "\n"
          ],
          "name": "stdout"
        }
      ]
    },
    {
      "cell_type": "code",
      "metadata": {
        "id": "RQ5Ku9HnVF92",
        "colab_type": "code",
        "colab": {
          "base_uri": "https://localhost:8080/",
          "height": 1000
        },
        "outputId": "450b9332-63a8-4133-90b0-75c61f11c26c"
      },
      "source": [
        "for idx in false_record_svm:\n",
        "    if (0.9 > submission['1'][idx] > 0.1):\n",
        "        print(idx)\n",
        "        print(submission['pred'][idx], Y_test[idx])\n",
        "        print(submission['1'][idx])\n",
        "        print()\n"
      ],
      "execution_count": null,
      "outputs": [
        {
          "output_type": "stream",
          "text": [
            "256005\n",
            "0 1\n",
            "0.12751855541137047\n",
            "\n",
            "275982\n",
            "0 1\n",
            "0.4791584815829992\n",
            "\n",
            "257551\n",
            "0 1\n",
            "0.16257679188856855\n",
            "\n",
            "292368\n",
            "0 1\n",
            "0.14024555403739214\n",
            "\n",
            "283677\n",
            "0 1\n",
            "0.4791584815829992\n",
            "\n",
            "271390\n",
            "1 1\n",
            "0.7879932057112455\n",
            "\n",
            "280609\n",
            "0 1\n",
            "0.256732773326803\n",
            "\n",
            "272932\n",
            "0 1\n",
            "0.4791584815829992\n",
            "\n",
            "284737\n",
            "1 1\n",
            "0.7790665347129107\n",
            "\n",
            "255064\n",
            "0 1\n",
            "0.2581474488833919\n",
            "\n",
            "275557\n",
            "1 1\n",
            "0.7879932057112455\n",
            "\n",
            "293527\n",
            "0 1\n",
            "0.19744905031984672\n",
            "\n",
            "285862\n",
            "1 1\n",
            "0.8244236763566732\n",
            "\n",
            "257704\n",
            "0 1\n",
            "0.2581474488833919\n",
            "\n",
            "260286\n",
            "0 1\n",
            "0.10925190360285343\n",
            "\n",
            "258259\n",
            "0 1\n",
            "0.3473200971493497\n",
            "\n",
            "259805\n",
            "0 1\n",
            "0.43363690163823776\n",
            "\n",
            "281311\n",
            "1 1\n",
            "0.8931227847933769\n",
            "\n",
            "283363\n",
            "1 1\n",
            "0.8092820793390274\n",
            "\n",
            "267492\n",
            "1 1\n",
            "0.7879932057112455\n",
            "\n",
            "250099\n",
            "0 1\n",
            "0.11805459098832215\n",
            "\n",
            "286984\n",
            "1 1\n",
            "0.8244236763566732\n",
            "\n",
            "288523\n",
            "0 1\n",
            "0.4798590559512377\n",
            "\n",
            "258851\n",
            "0 1\n",
            "0.10925190360285343\n",
            "\n",
            "290652\n",
            "0 1\n",
            "0.4798590559512377\n",
            "\n",
            "271715\n",
            "1 1\n",
            "0.7879932057112455\n",
            "\n",
            "257893\n",
            "0 1\n",
            "0.10925190360285343\n",
            "\n",
            "258933\n",
            "0 1\n",
            "0.2581474488833919\n",
            "\n",
            "253852\n",
            "0 1\n",
            "0.2919130658265203\n",
            "\n",
            "258462\n",
            "0 1\n",
            "0.10925190360285343\n",
            "\n",
            "274849\n",
            "1 1\n",
            "0.7352731167338789\n",
            "\n",
            "257966\n",
            "0 1\n",
            "0.16257679188856855\n",
            "\n",
            "261553\n",
            "0 1\n",
            "0.4791584815829992\n",
            "\n",
            "243634\n",
            "1 1\n",
            "0.5201564020826481\n",
            "\n",
            "257463\n",
            "0 1\n",
            "0.10925190360285343\n",
            "\n",
            "258012\n",
            "0 1\n",
            "0.16257679188856855\n",
            "\n",
            "242668\n",
            "0 1\n",
            "0.2891903955314774\n",
            "\n",
            "279533\n",
            "0 1\n",
            "0.1917946795001626\n",
            "\n",
            "288757\n",
            "0 1\n",
            "0.4798590559512377\n",
            "\n",
            "255484\n",
            "0 1\n",
            "0.12751855541137047\n",
            "\n"
          ],
          "name": "stdout"
        }
      ]
    },
    {
      "cell_type": "code",
      "metadata": {
        "id": "U0OoDpSwVose",
        "colab_type": "code",
        "colab": {
          "base_uri": "https://localhost:8080/",
          "height": 34
        },
        "outputId": "6c0cfc13-2d5a-4175-c7c6-0919f316e187"
      },
      "source": [
        "t = 0\n",
        "for idx in submission.index:\n",
        "    if (0.95 > submission['1'][idx] > 0.05):\n",
        "        t+=1\n",
        "print(t)"
      ],
      "execution_count": null,
      "outputs": [
        {
          "output_type": "stream",
          "text": [
            "502\n"
          ],
          "name": "stdout"
        }
      ]
    },
    {
      "cell_type": "code",
      "metadata": {
        "id": "46IhHyhAWxsw",
        "colab_type": "code",
        "colab": {}
      },
      "source": [
        ""
      ],
      "execution_count": null,
      "outputs": []
    }
  ]
}