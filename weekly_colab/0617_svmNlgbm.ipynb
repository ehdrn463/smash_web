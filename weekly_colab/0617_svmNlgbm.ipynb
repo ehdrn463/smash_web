{
  "nbformat": 4,
  "nbformat_minor": 0,
  "metadata": {
    "colab": {
      "name": "0617_svmNlgbm.ipynb",
      "provenance": [],
      "collapsed_sections": [],
      "toc_visible": true
    },
    "kernelspec": {
      "name": "python3",
      "display_name": "Python 3"
    },
    "widgets": {
      "application/vnd.jupyter.widget-state+json": {
        "8d5b00cdb20f4f20b4396531ed4636d4": {
          "model_module": "@jupyter-widgets/controls",
          "model_name": "HBoxModel",
          "state": {
            "_view_name": "HBoxView",
            "_dom_classes": [],
            "_model_name": "HBoxModel",
            "_view_module": "@jupyter-widgets/controls",
            "_model_module_version": "1.5.0",
            "_view_count": null,
            "_view_module_version": "1.5.0",
            "box_style": "",
            "layout": "IPY_MODEL_1c8bdf87b8eb4d7d865fad5bd3c023bf",
            "_model_module": "@jupyter-widgets/controls",
            "children": [
              "IPY_MODEL_4204b6beada443e4aa68ad8a09882156",
              "IPY_MODEL_095a4a0eff0e4ea58f75149630e0bf70"
            ]
          }
        },
        "1c8bdf87b8eb4d7d865fad5bd3c023bf": {
          "model_module": "@jupyter-widgets/base",
          "model_name": "LayoutModel",
          "state": {
            "_view_name": "LayoutView",
            "grid_template_rows": null,
            "right": null,
            "justify_content": null,
            "_view_module": "@jupyter-widgets/base",
            "overflow": null,
            "_model_module_version": "1.2.0",
            "_view_count": null,
            "flex_flow": null,
            "width": null,
            "min_width": null,
            "border": null,
            "align_items": null,
            "bottom": null,
            "_model_module": "@jupyter-widgets/base",
            "top": null,
            "grid_column": null,
            "overflow_y": null,
            "overflow_x": null,
            "grid_auto_flow": null,
            "grid_area": null,
            "grid_template_columns": null,
            "flex": null,
            "_model_name": "LayoutModel",
            "justify_items": null,
            "grid_row": null,
            "max_height": null,
            "align_content": null,
            "visibility": null,
            "align_self": null,
            "height": null,
            "min_height": null,
            "padding": null,
            "grid_auto_rows": null,
            "grid_gap": null,
            "max_width": null,
            "order": null,
            "_view_module_version": "1.2.0",
            "grid_template_areas": null,
            "object_position": null,
            "object_fit": null,
            "grid_auto_columns": null,
            "margin": null,
            "display": null,
            "left": null
          }
        },
        "4204b6beada443e4aa68ad8a09882156": {
          "model_module": "@jupyter-widgets/controls",
          "model_name": "FloatProgressModel",
          "state": {
            "_view_name": "ProgressView",
            "style": "IPY_MODEL_f9492acfb2b94df39b9328a1c32f486e",
            "_dom_classes": [],
            "description": "",
            "_model_name": "FloatProgressModel",
            "bar_style": "success",
            "max": 1,
            "_view_module": "@jupyter-widgets/controls",
            "_model_module_version": "1.5.0",
            "value": 1,
            "_view_count": null,
            "_view_module_version": "1.5.0",
            "orientation": "horizontal",
            "min": 0,
            "description_tooltip": null,
            "_model_module": "@jupyter-widgets/controls",
            "layout": "IPY_MODEL_298a5fc2b428414299e3d676ceab4815"
          }
        },
        "095a4a0eff0e4ea58f75149630e0bf70": {
          "model_module": "@jupyter-widgets/controls",
          "model_name": "HTMLModel",
          "state": {
            "_view_name": "HTMLView",
            "style": "IPY_MODEL_99af95ec829445a6aab453ac907d86ee",
            "_dom_classes": [],
            "description": "",
            "_model_name": "HTMLModel",
            "placeholder": "​",
            "_view_module": "@jupyter-widgets/controls",
            "_model_module_version": "1.5.0",
            "value": " 59189/? [06:03&lt;00:00, 162.95it/s]",
            "_view_count": null,
            "_view_module_version": "1.5.0",
            "description_tooltip": null,
            "_model_module": "@jupyter-widgets/controls",
            "layout": "IPY_MODEL_3906b229afeb414fa0aecfb794d71939"
          }
        },
        "f9492acfb2b94df39b9328a1c32f486e": {
          "model_module": "@jupyter-widgets/controls",
          "model_name": "ProgressStyleModel",
          "state": {
            "_view_name": "StyleView",
            "_model_name": "ProgressStyleModel",
            "description_width": "initial",
            "_view_module": "@jupyter-widgets/base",
            "_model_module_version": "1.5.0",
            "_view_count": null,
            "_view_module_version": "1.2.0",
            "bar_color": null,
            "_model_module": "@jupyter-widgets/controls"
          }
        },
        "298a5fc2b428414299e3d676ceab4815": {
          "model_module": "@jupyter-widgets/base",
          "model_name": "LayoutModel",
          "state": {
            "_view_name": "LayoutView",
            "grid_template_rows": null,
            "right": null,
            "justify_content": null,
            "_view_module": "@jupyter-widgets/base",
            "overflow": null,
            "_model_module_version": "1.2.0",
            "_view_count": null,
            "flex_flow": null,
            "width": null,
            "min_width": null,
            "border": null,
            "align_items": null,
            "bottom": null,
            "_model_module": "@jupyter-widgets/base",
            "top": null,
            "grid_column": null,
            "overflow_y": null,
            "overflow_x": null,
            "grid_auto_flow": null,
            "grid_area": null,
            "grid_template_columns": null,
            "flex": null,
            "_model_name": "LayoutModel",
            "justify_items": null,
            "grid_row": null,
            "max_height": null,
            "align_content": null,
            "visibility": null,
            "align_self": null,
            "height": null,
            "min_height": null,
            "padding": null,
            "grid_auto_rows": null,
            "grid_gap": null,
            "max_width": null,
            "order": null,
            "_view_module_version": "1.2.0",
            "grid_template_areas": null,
            "object_position": null,
            "object_fit": null,
            "grid_auto_columns": null,
            "margin": null,
            "display": null,
            "left": null
          }
        },
        "99af95ec829445a6aab453ac907d86ee": {
          "model_module": "@jupyter-widgets/controls",
          "model_name": "DescriptionStyleModel",
          "state": {
            "_view_name": "StyleView",
            "_model_name": "DescriptionStyleModel",
            "description_width": "",
            "_view_module": "@jupyter-widgets/base",
            "_model_module_version": "1.5.0",
            "_view_count": null,
            "_view_module_version": "1.2.0",
            "_model_module": "@jupyter-widgets/controls"
          }
        },
        "3906b229afeb414fa0aecfb794d71939": {
          "model_module": "@jupyter-widgets/base",
          "model_name": "LayoutModel",
          "state": {
            "_view_name": "LayoutView",
            "grid_template_rows": null,
            "right": null,
            "justify_content": null,
            "_view_module": "@jupyter-widgets/base",
            "overflow": null,
            "_model_module_version": "1.2.0",
            "_view_count": null,
            "flex_flow": null,
            "width": null,
            "min_width": null,
            "border": null,
            "align_items": null,
            "bottom": null,
            "_model_module": "@jupyter-widgets/base",
            "top": null,
            "grid_column": null,
            "overflow_y": null,
            "overflow_x": null,
            "grid_auto_flow": null,
            "grid_area": null,
            "grid_template_columns": null,
            "flex": null,
            "_model_name": "LayoutModel",
            "justify_items": null,
            "grid_row": null,
            "max_height": null,
            "align_content": null,
            "visibility": null,
            "align_self": null,
            "height": null,
            "min_height": null,
            "padding": null,
            "grid_auto_rows": null,
            "grid_gap": null,
            "max_width": null,
            "order": null,
            "_view_module_version": "1.2.0",
            "grid_template_areas": null,
            "object_position": null,
            "object_fit": null,
            "grid_auto_columns": null,
            "margin": null,
            "display": null,
            "left": null
          }
        },
        "2f05ade20e964c418b82da99db6ed974": {
          "model_module": "@jupyter-widgets/controls",
          "model_name": "HBoxModel",
          "state": {
            "_view_name": "HBoxView",
            "_dom_classes": [],
            "_model_name": "HBoxModel",
            "_view_module": "@jupyter-widgets/controls",
            "_model_module_version": "1.5.0",
            "_view_count": null,
            "_view_module_version": "1.5.0",
            "box_style": "",
            "layout": "IPY_MODEL_c97c6123440b4ebab3a3aa7731387858",
            "_model_module": "@jupyter-widgets/controls",
            "children": [
              "IPY_MODEL_d43771c45cf54278b5409fe7baf82928",
              "IPY_MODEL_21e88bac8da042168b7a8457e9107918"
            ]
          }
        },
        "c97c6123440b4ebab3a3aa7731387858": {
          "model_module": "@jupyter-widgets/base",
          "model_name": "LayoutModel",
          "state": {
            "_view_name": "LayoutView",
            "grid_template_rows": null,
            "right": null,
            "justify_content": null,
            "_view_module": "@jupyter-widgets/base",
            "overflow": null,
            "_model_module_version": "1.2.0",
            "_view_count": null,
            "flex_flow": null,
            "width": null,
            "min_width": null,
            "border": null,
            "align_items": null,
            "bottom": null,
            "_model_module": "@jupyter-widgets/base",
            "top": null,
            "grid_column": null,
            "overflow_y": null,
            "overflow_x": null,
            "grid_auto_flow": null,
            "grid_area": null,
            "grid_template_columns": null,
            "flex": null,
            "_model_name": "LayoutModel",
            "justify_items": null,
            "grid_row": null,
            "max_height": null,
            "align_content": null,
            "visibility": null,
            "align_self": null,
            "height": null,
            "min_height": null,
            "padding": null,
            "grid_auto_rows": null,
            "grid_gap": null,
            "max_width": null,
            "order": null,
            "_view_module_version": "1.2.0",
            "grid_template_areas": null,
            "object_position": null,
            "object_fit": null,
            "grid_auto_columns": null,
            "margin": null,
            "display": null,
            "left": null
          }
        },
        "d43771c45cf54278b5409fe7baf82928": {
          "model_module": "@jupyter-widgets/controls",
          "model_name": "FloatProgressModel",
          "state": {
            "_view_name": "ProgressView",
            "style": "IPY_MODEL_69b2963f891f4617806d709d97a82e53",
            "_dom_classes": [],
            "description": "",
            "_model_name": "FloatProgressModel",
            "bar_style": "success",
            "max": 1,
            "_view_module": "@jupyter-widgets/controls",
            "_model_module_version": "1.5.0",
            "value": 1,
            "_view_count": null,
            "_view_module_version": "1.5.0",
            "orientation": "horizontal",
            "min": 0,
            "description_tooltip": null,
            "_model_module": "@jupyter-widgets/controls",
            "layout": "IPY_MODEL_6ff934ac18e948f3b809eccc824ebf89"
          }
        },
        "21e88bac8da042168b7a8457e9107918": {
          "model_module": "@jupyter-widgets/controls",
          "model_name": "HTMLModel",
          "state": {
            "_view_name": "HTMLView",
            "style": "IPY_MODEL_5457c9c7c83f4108a3aebc25035dbdd5",
            "_dom_classes": [],
            "description": "",
            "_model_name": "HTMLModel",
            "placeholder": "​",
            "_view_module": "@jupyter-widgets/controls",
            "_model_module_version": "1.5.0",
            "value": " 59189/? [06:00&lt;00:00, 164.36it/s]",
            "_view_count": null,
            "_view_module_version": "1.5.0",
            "description_tooltip": null,
            "_model_module": "@jupyter-widgets/controls",
            "layout": "IPY_MODEL_b987866e3552400593a14e6c8f383fdb"
          }
        },
        "69b2963f891f4617806d709d97a82e53": {
          "model_module": "@jupyter-widgets/controls",
          "model_name": "ProgressStyleModel",
          "state": {
            "_view_name": "StyleView",
            "_model_name": "ProgressStyleModel",
            "description_width": "initial",
            "_view_module": "@jupyter-widgets/base",
            "_model_module_version": "1.5.0",
            "_view_count": null,
            "_view_module_version": "1.2.0",
            "bar_color": null,
            "_model_module": "@jupyter-widgets/controls"
          }
        },
        "6ff934ac18e948f3b809eccc824ebf89": {
          "model_module": "@jupyter-widgets/base",
          "model_name": "LayoutModel",
          "state": {
            "_view_name": "LayoutView",
            "grid_template_rows": null,
            "right": null,
            "justify_content": null,
            "_view_module": "@jupyter-widgets/base",
            "overflow": null,
            "_model_module_version": "1.2.0",
            "_view_count": null,
            "flex_flow": null,
            "width": null,
            "min_width": null,
            "border": null,
            "align_items": null,
            "bottom": null,
            "_model_module": "@jupyter-widgets/base",
            "top": null,
            "grid_column": null,
            "overflow_y": null,
            "overflow_x": null,
            "grid_auto_flow": null,
            "grid_area": null,
            "grid_template_columns": null,
            "flex": null,
            "_model_name": "LayoutModel",
            "justify_items": null,
            "grid_row": null,
            "max_height": null,
            "align_content": null,
            "visibility": null,
            "align_self": null,
            "height": null,
            "min_height": null,
            "padding": null,
            "grid_auto_rows": null,
            "grid_gap": null,
            "max_width": null,
            "order": null,
            "_view_module_version": "1.2.0",
            "grid_template_areas": null,
            "object_position": null,
            "object_fit": null,
            "grid_auto_columns": null,
            "margin": null,
            "display": null,
            "left": null
          }
        },
        "5457c9c7c83f4108a3aebc25035dbdd5": {
          "model_module": "@jupyter-widgets/controls",
          "model_name": "DescriptionStyleModel",
          "state": {
            "_view_name": "StyleView",
            "_model_name": "DescriptionStyleModel",
            "description_width": "",
            "_view_module": "@jupyter-widgets/base",
            "_model_module_version": "1.5.0",
            "_view_count": null,
            "_view_module_version": "1.2.0",
            "_model_module": "@jupyter-widgets/controls"
          }
        },
        "b987866e3552400593a14e6c8f383fdb": {
          "model_module": "@jupyter-widgets/base",
          "model_name": "LayoutModel",
          "state": {
            "_view_name": "LayoutView",
            "grid_template_rows": null,
            "right": null,
            "justify_content": null,
            "_view_module": "@jupyter-widgets/base",
            "overflow": null,
            "_model_module_version": "1.2.0",
            "_view_count": null,
            "flex_flow": null,
            "width": null,
            "min_width": null,
            "border": null,
            "align_items": null,
            "bottom": null,
            "_model_module": "@jupyter-widgets/base",
            "top": null,
            "grid_column": null,
            "overflow_y": null,
            "overflow_x": null,
            "grid_auto_flow": null,
            "grid_area": null,
            "grid_template_columns": null,
            "flex": null,
            "_model_name": "LayoutModel",
            "justify_items": null,
            "grid_row": null,
            "max_height": null,
            "align_content": null,
            "visibility": null,
            "align_self": null,
            "height": null,
            "min_height": null,
            "padding": null,
            "grid_auto_rows": null,
            "grid_gap": null,
            "max_width": null,
            "order": null,
            "_view_module_version": "1.2.0",
            "grid_template_areas": null,
            "object_position": null,
            "object_fit": null,
            "grid_auto_columns": null,
            "margin": null,
            "display": null,
            "left": null
          }
        },
        "1a74e8f52e374b9488081f09f71da4ae": {
          "model_module": "@jupyter-widgets/controls",
          "model_name": "HBoxModel",
          "state": {
            "_view_name": "HBoxView",
            "_dom_classes": [],
            "_model_name": "HBoxModel",
            "_view_module": "@jupyter-widgets/controls",
            "_model_module_version": "1.5.0",
            "_view_count": null,
            "_view_module_version": "1.5.0",
            "box_style": "",
            "layout": "IPY_MODEL_98b24a7a661f4855a461b451dafc9f9f",
            "_model_module": "@jupyter-widgets/controls",
            "children": [
              "IPY_MODEL_9f4b1ccfa12748cfb84c91979de4d860",
              "IPY_MODEL_20cfea42730b415eb7613451e7cea96c"
            ]
          }
        },
        "98b24a7a661f4855a461b451dafc9f9f": {
          "model_module": "@jupyter-widgets/base",
          "model_name": "LayoutModel",
          "state": {
            "_view_name": "LayoutView",
            "grid_template_rows": null,
            "right": null,
            "justify_content": null,
            "_view_module": "@jupyter-widgets/base",
            "overflow": null,
            "_model_module_version": "1.2.0",
            "_view_count": null,
            "flex_flow": null,
            "width": null,
            "min_width": null,
            "border": null,
            "align_items": null,
            "bottom": null,
            "_model_module": "@jupyter-widgets/base",
            "top": null,
            "grid_column": null,
            "overflow_y": null,
            "overflow_x": null,
            "grid_auto_flow": null,
            "grid_area": null,
            "grid_template_columns": null,
            "flex": null,
            "_model_name": "LayoutModel",
            "justify_items": null,
            "grid_row": null,
            "max_height": null,
            "align_content": null,
            "visibility": null,
            "align_self": null,
            "height": null,
            "min_height": null,
            "padding": null,
            "grid_auto_rows": null,
            "grid_gap": null,
            "max_width": null,
            "order": null,
            "_view_module_version": "1.2.0",
            "grid_template_areas": null,
            "object_position": null,
            "object_fit": null,
            "grid_auto_columns": null,
            "margin": null,
            "display": null,
            "left": null
          }
        },
        "9f4b1ccfa12748cfb84c91979de4d860": {
          "model_module": "@jupyter-widgets/controls",
          "model_name": "FloatProgressModel",
          "state": {
            "_view_name": "ProgressView",
            "style": "IPY_MODEL_440d84e43b9541448f083f5217e61340",
            "_dom_classes": [],
            "description": "",
            "_model_name": "FloatProgressModel",
            "bar_style": "success",
            "max": 1,
            "_view_module": "@jupyter-widgets/controls",
            "_model_module_version": "1.5.0",
            "value": 1,
            "_view_count": null,
            "_view_module_version": "1.5.0",
            "orientation": "horizontal",
            "min": 0,
            "description_tooltip": null,
            "_model_module": "@jupyter-widgets/controls",
            "layout": "IPY_MODEL_5c95bc94976a47aeb72a9cf20b4e2874"
          }
        },
        "20cfea42730b415eb7613451e7cea96c": {
          "model_module": "@jupyter-widgets/controls",
          "model_name": "HTMLModel",
          "state": {
            "_view_name": "HTMLView",
            "style": "IPY_MODEL_dad75c24fa3c4f51aa2d15c705ea350f",
            "_dom_classes": [],
            "description": "",
            "_model_name": "HTMLModel",
            "placeholder": "​",
            "_view_module": "@jupyter-widgets/controls",
            "_model_module_version": "1.5.0",
            "value": " 59189/? [05:59&lt;00:00, 164.54it/s]",
            "_view_count": null,
            "_view_module_version": "1.5.0",
            "description_tooltip": null,
            "_model_module": "@jupyter-widgets/controls",
            "layout": "IPY_MODEL_08207fa8c80245b98f043ae94dad8d8b"
          }
        },
        "440d84e43b9541448f083f5217e61340": {
          "model_module": "@jupyter-widgets/controls",
          "model_name": "ProgressStyleModel",
          "state": {
            "_view_name": "StyleView",
            "_model_name": "ProgressStyleModel",
            "description_width": "initial",
            "_view_module": "@jupyter-widgets/base",
            "_model_module_version": "1.5.0",
            "_view_count": null,
            "_view_module_version": "1.2.0",
            "bar_color": null,
            "_model_module": "@jupyter-widgets/controls"
          }
        },
        "5c95bc94976a47aeb72a9cf20b4e2874": {
          "model_module": "@jupyter-widgets/base",
          "model_name": "LayoutModel",
          "state": {
            "_view_name": "LayoutView",
            "grid_template_rows": null,
            "right": null,
            "justify_content": null,
            "_view_module": "@jupyter-widgets/base",
            "overflow": null,
            "_model_module_version": "1.2.0",
            "_view_count": null,
            "flex_flow": null,
            "width": null,
            "min_width": null,
            "border": null,
            "align_items": null,
            "bottom": null,
            "_model_module": "@jupyter-widgets/base",
            "top": null,
            "grid_column": null,
            "overflow_y": null,
            "overflow_x": null,
            "grid_auto_flow": null,
            "grid_area": null,
            "grid_template_columns": null,
            "flex": null,
            "_model_name": "LayoutModel",
            "justify_items": null,
            "grid_row": null,
            "max_height": null,
            "align_content": null,
            "visibility": null,
            "align_self": null,
            "height": null,
            "min_height": null,
            "padding": null,
            "grid_auto_rows": null,
            "grid_gap": null,
            "max_width": null,
            "order": null,
            "_view_module_version": "1.2.0",
            "grid_template_areas": null,
            "object_position": null,
            "object_fit": null,
            "grid_auto_columns": null,
            "margin": null,
            "display": null,
            "left": null
          }
        },
        "dad75c24fa3c4f51aa2d15c705ea350f": {
          "model_module": "@jupyter-widgets/controls",
          "model_name": "DescriptionStyleModel",
          "state": {
            "_view_name": "StyleView",
            "_model_name": "DescriptionStyleModel",
            "description_width": "",
            "_view_module": "@jupyter-widgets/base",
            "_model_module_version": "1.5.0",
            "_view_count": null,
            "_view_module_version": "1.2.0",
            "_model_module": "@jupyter-widgets/controls"
          }
        },
        "08207fa8c80245b98f043ae94dad8d8b": {
          "model_module": "@jupyter-widgets/base",
          "model_name": "LayoutModel",
          "state": {
            "_view_name": "LayoutView",
            "grid_template_rows": null,
            "right": null,
            "justify_content": null,
            "_view_module": "@jupyter-widgets/base",
            "overflow": null,
            "_model_module_version": "1.2.0",
            "_view_count": null,
            "flex_flow": null,
            "width": null,
            "min_width": null,
            "border": null,
            "align_items": null,
            "bottom": null,
            "_model_module": "@jupyter-widgets/base",
            "top": null,
            "grid_column": null,
            "overflow_y": null,
            "overflow_x": null,
            "grid_auto_flow": null,
            "grid_area": null,
            "grid_template_columns": null,
            "flex": null,
            "_model_name": "LayoutModel",
            "justify_items": null,
            "grid_row": null,
            "max_height": null,
            "align_content": null,
            "visibility": null,
            "align_self": null,
            "height": null,
            "min_height": null,
            "padding": null,
            "grid_auto_rows": null,
            "grid_gap": null,
            "max_width": null,
            "order": null,
            "_view_module_version": "1.2.0",
            "grid_template_areas": null,
            "object_position": null,
            "object_fit": null,
            "grid_auto_columns": null,
            "margin": null,
            "display": null,
            "left": null
          }
        },
        "fb9ad0e616624ad2a8dc06b1c3c9f685": {
          "model_module": "@jupyter-widgets/controls",
          "model_name": "HBoxModel",
          "state": {
            "_view_name": "HBoxView",
            "_dom_classes": [],
            "_model_name": "HBoxModel",
            "_view_module": "@jupyter-widgets/controls",
            "_model_module_version": "1.5.0",
            "_view_count": null,
            "_view_module_version": "1.5.0",
            "box_style": "",
            "layout": "IPY_MODEL_b3fbe843e4904c9c971648836d260f0c",
            "_model_module": "@jupyter-widgets/controls",
            "children": [
              "IPY_MODEL_a02a3e17f023436a8530a3b114afb65f",
              "IPY_MODEL_4f9af1702dc446a6b96931605c8aa1ec"
            ]
          }
        },
        "b3fbe843e4904c9c971648836d260f0c": {
          "model_module": "@jupyter-widgets/base",
          "model_name": "LayoutModel",
          "state": {
            "_view_name": "LayoutView",
            "grid_template_rows": null,
            "right": null,
            "justify_content": null,
            "_view_module": "@jupyter-widgets/base",
            "overflow": null,
            "_model_module_version": "1.2.0",
            "_view_count": null,
            "flex_flow": null,
            "width": null,
            "min_width": null,
            "border": null,
            "align_items": null,
            "bottom": null,
            "_model_module": "@jupyter-widgets/base",
            "top": null,
            "grid_column": null,
            "overflow_y": null,
            "overflow_x": null,
            "grid_auto_flow": null,
            "grid_area": null,
            "grid_template_columns": null,
            "flex": null,
            "_model_name": "LayoutModel",
            "justify_items": null,
            "grid_row": null,
            "max_height": null,
            "align_content": null,
            "visibility": null,
            "align_self": null,
            "height": null,
            "min_height": null,
            "padding": null,
            "grid_auto_rows": null,
            "grid_gap": null,
            "max_width": null,
            "order": null,
            "_view_module_version": "1.2.0",
            "grid_template_areas": null,
            "object_position": null,
            "object_fit": null,
            "grid_auto_columns": null,
            "margin": null,
            "display": null,
            "left": null
          }
        },
        "a02a3e17f023436a8530a3b114afb65f": {
          "model_module": "@jupyter-widgets/controls",
          "model_name": "FloatProgressModel",
          "state": {
            "_view_name": "ProgressView",
            "style": "IPY_MODEL_fe5b5c2f152a4906a345f25696b17e9b",
            "_dom_classes": [],
            "description": "",
            "_model_name": "FloatProgressModel",
            "bar_style": "success",
            "max": 1,
            "_view_module": "@jupyter-widgets/controls",
            "_model_module_version": "1.5.0",
            "value": 1,
            "_view_count": null,
            "_view_module_version": "1.5.0",
            "orientation": "horizontal",
            "min": 0,
            "description_tooltip": null,
            "_model_module": "@jupyter-widgets/controls",
            "layout": "IPY_MODEL_3192835fd5a94e73bddf7ac9832bea4a"
          }
        },
        "4f9af1702dc446a6b96931605c8aa1ec": {
          "model_module": "@jupyter-widgets/controls",
          "model_name": "HTMLModel",
          "state": {
            "_view_name": "HTMLView",
            "style": "IPY_MODEL_531d87dd2f7a45e59ad0d0770464d915",
            "_dom_classes": [],
            "description": "",
            "_model_name": "HTMLModel",
            "placeholder": "​",
            "_view_module": "@jupyter-widgets/controls",
            "_model_module_version": "1.5.0",
            "value": " 59189/? [05:59&lt;00:00, 164.49it/s]",
            "_view_count": null,
            "_view_module_version": "1.5.0",
            "description_tooltip": null,
            "_model_module": "@jupyter-widgets/controls",
            "layout": "IPY_MODEL_51cf0047bb9b497b9d135a67798c967e"
          }
        },
        "fe5b5c2f152a4906a345f25696b17e9b": {
          "model_module": "@jupyter-widgets/controls",
          "model_name": "ProgressStyleModel",
          "state": {
            "_view_name": "StyleView",
            "_model_name": "ProgressStyleModel",
            "description_width": "initial",
            "_view_module": "@jupyter-widgets/base",
            "_model_module_version": "1.5.0",
            "_view_count": null,
            "_view_module_version": "1.2.0",
            "bar_color": null,
            "_model_module": "@jupyter-widgets/controls"
          }
        },
        "3192835fd5a94e73bddf7ac9832bea4a": {
          "model_module": "@jupyter-widgets/base",
          "model_name": "LayoutModel",
          "state": {
            "_view_name": "LayoutView",
            "grid_template_rows": null,
            "right": null,
            "justify_content": null,
            "_view_module": "@jupyter-widgets/base",
            "overflow": null,
            "_model_module_version": "1.2.0",
            "_view_count": null,
            "flex_flow": null,
            "width": null,
            "min_width": null,
            "border": null,
            "align_items": null,
            "bottom": null,
            "_model_module": "@jupyter-widgets/base",
            "top": null,
            "grid_column": null,
            "overflow_y": null,
            "overflow_x": null,
            "grid_auto_flow": null,
            "grid_area": null,
            "grid_template_columns": null,
            "flex": null,
            "_model_name": "LayoutModel",
            "justify_items": null,
            "grid_row": null,
            "max_height": null,
            "align_content": null,
            "visibility": null,
            "align_self": null,
            "height": null,
            "min_height": null,
            "padding": null,
            "grid_auto_rows": null,
            "grid_gap": null,
            "max_width": null,
            "order": null,
            "_view_module_version": "1.2.0",
            "grid_template_areas": null,
            "object_position": null,
            "object_fit": null,
            "grid_auto_columns": null,
            "margin": null,
            "display": null,
            "left": null
          }
        },
        "531d87dd2f7a45e59ad0d0770464d915": {
          "model_module": "@jupyter-widgets/controls",
          "model_name": "DescriptionStyleModel",
          "state": {
            "_view_name": "StyleView",
            "_model_name": "DescriptionStyleModel",
            "description_width": "",
            "_view_module": "@jupyter-widgets/base",
            "_model_module_version": "1.5.0",
            "_view_count": null,
            "_view_module_version": "1.2.0",
            "_model_module": "@jupyter-widgets/controls"
          }
        },
        "51cf0047bb9b497b9d135a67798c967e": {
          "model_module": "@jupyter-widgets/base",
          "model_name": "LayoutModel",
          "state": {
            "_view_name": "LayoutView",
            "grid_template_rows": null,
            "right": null,
            "justify_content": null,
            "_view_module": "@jupyter-widgets/base",
            "overflow": null,
            "_model_module_version": "1.2.0",
            "_view_count": null,
            "flex_flow": null,
            "width": null,
            "min_width": null,
            "border": null,
            "align_items": null,
            "bottom": null,
            "_model_module": "@jupyter-widgets/base",
            "top": null,
            "grid_column": null,
            "overflow_y": null,
            "overflow_x": null,
            "grid_auto_flow": null,
            "grid_area": null,
            "grid_template_columns": null,
            "flex": null,
            "_model_name": "LayoutModel",
            "justify_items": null,
            "grid_row": null,
            "max_height": null,
            "align_content": null,
            "visibility": null,
            "align_self": null,
            "height": null,
            "min_height": null,
            "padding": null,
            "grid_auto_rows": null,
            "grid_gap": null,
            "max_width": null,
            "order": null,
            "_view_module_version": "1.2.0",
            "grid_template_areas": null,
            "object_position": null,
            "object_fit": null,
            "grid_auto_columns": null,
            "margin": null,
            "display": null,
            "left": null
          }
        }
      }
    }
  },
  "cells": [
    {
      "cell_type": "code",
      "metadata": {
        "id": "DyoAS1iqty4G",
        "colab_type": "code",
        "colab": {}
      },
      "source": [
        "import pandas as pd # 데이터 전처리\n",
        "import numpy as np # 데이터 전처리\n",
        "import random #데이터 전처리\n",
        "from pandas import DataFrame #데이터 전처리\n",
        "from collections import Counter #데이터 전처리\n",
        "\n",
        "from tqdm import tqdm #시간 측정용\n",
        "\n",
        "from sklearn.feature_extraction.text import CountVectorizer # model setting\n",
        "from sklearn.model_selection import train_test_split  # model setting\n",
        "\n",
        "from sklearn.naive_bayes import MultinomialNB  # model 관련\n",
        "from sklearn.metrics import roc_auc_score  # model 성능 확인\n",
        "from sklearn.metrics import accuracy_score\n",
        "from sklearn.metrics import f1_score\n",
        "\n",
        "from sklearn.model_selection import train_test_split\n",
        "from sklearn.model_selection import KFold\n",
        "from sklearn.metrics import classification_report\n",
        "\n",
        "import pickle\n",
        "import joblib\n",
        "import re\n",
        "from tqdm import tqdm_notebook\n",
        "import os"
      ],
      "execution_count": null,
      "outputs": []
    },
    {
      "cell_type": "code",
      "metadata": {
        "id": "uZHVMEtv4Oy2",
        "colab_type": "code",
        "colab": {}
      },
      "source": [
        "# DTM 문서 단어 행렬\n",
        "from sklearn.feature_extraction.text import CountVectorizer\n",
        "vector = CountVectorizer()\n",
        "\n",
        "# TF-IDF\n",
        "from sklearn.feature_extraction.text import TfidfVectorizer\n",
        "from sklearn.feature_extraction.text import TfidfTransformer    \n",
        "tfvector = TfidfTransformer(smooth_idf=False)"
      ],
      "execution_count": null,
      "outputs": []
    },
    {
      "cell_type": "code",
      "metadata": {
        "id": "OOBksij_4O27",
        "colab_type": "code",
        "colab": {}
      },
      "source": [
        "vectorizer=TfidfVectorizer(ngram_range=(1, 3),\n",
        "    min_df=2,       \n",
        "    max_features=10000,\n",
        "    sublinear_tf=True,\n",
        "    lowercase=False,\n",
        "    use_idf=True)"
      ],
      "execution_count": null,
      "outputs": []
    },
    {
      "cell_type": "code",
      "metadata": {
        "id": "Flz6Tr-b4PEL",
        "colab_type": "code",
        "colab": {}
      },
      "source": [
        ""
      ],
      "execution_count": null,
      "outputs": []
    },
    {
      "cell_type": "code",
      "metadata": {
        "id": "iwxDRAvY4PDU",
        "colab_type": "code",
        "colab": {}
      },
      "source": [
        "#function ClickConnect() {var buttons = document.querySelectorAll(\"colab-dialog.yes-no-dialog paper-button#cancel\"); buttons.forEach(function(btn) { btn.click(); }); console.log(\"1분마다 자동 재연결\"); document.querySelector(\"colab-toolbar-button#connect\").click(); } setInterval(ClickConnect,1000*60);\n"
      ],
      "execution_count": null,
      "outputs": []
    },
    {
      "cell_type": "code",
      "metadata": {
        "id": "_kmoJ1ww4PCh",
        "colab_type": "code",
        "colab": {
          "base_uri": "https://localhost:8080/",
          "height": 125
        },
        "outputId": "dcd8c662-5462-4433-d018-54e8b0296317"
      },
      "source": [
        "from google.colab import drive\n",
        "\n",
        "drive.mount('/content/gdrive')"
      ],
      "execution_count": null,
      "outputs": [
        {
          "output_type": "stream",
          "text": [
            "Go to this URL in a browser: https://accounts.google.com/o/oauth2/auth?client_id=947318989803-6bn6qk8qdgf4n4g3pfee6491hc0brc4i.apps.googleusercontent.com&redirect_uri=urn%3aietf%3awg%3aoauth%3a2.0%3aoob&response_type=code&scope=email%20https%3a%2f%2fwww.googleapis.com%2fauth%2fdocs.test%20https%3a%2f%2fwww.googleapis.com%2fauth%2fdrive%20https%3a%2f%2fwww.googleapis.com%2fauth%2fdrive.photos.readonly%20https%3a%2f%2fwww.googleapis.com%2fauth%2fpeopleapi.readonly\n",
            "\n",
            "Enter your authorization code:\n",
            "··········\n",
            "Mounted at /content/gdrive\n"
          ],
          "name": "stdout"
        }
      ]
    },
    {
      "cell_type": "code",
      "metadata": {
        "id": "mVNCo84DzhnQ",
        "colab_type": "code",
        "colab": {
          "base_uri": "https://localhost:8080/",
          "height": 34
        },
        "outputId": "51a81cac-f72f-4c32-8ffb-40d433510616"
      },
      "source": [
        "ls"
      ],
      "execution_count": null,
      "outputs": [
        {
          "output_type": "stream",
          "text": [
            "\u001b[0m\u001b[01;34mgdrive\u001b[0m/  \u001b[01;34msample_data\u001b[0m/\n"
          ],
          "name": "stdout"
        }
      ]
    },
    {
      "cell_type": "code",
      "metadata": {
        "id": "a0sgw5MaArD-",
        "colab_type": "code",
        "colab": {
          "base_uri": "https://localhost:8080/",
          "height": 34
        },
        "outputId": "dc70f984-8ebb-4c30-e257-4652a39b0908"
      },
      "source": [
        "cd gdrive/My\\ Drive/kb_data"
      ],
      "execution_count": null,
      "outputs": [
        {
          "output_type": "stream",
          "text": [
            "/content/gdrive/My Drive/kb_data\n"
          ],
          "name": "stdout"
        }
      ]
    },
    {
      "cell_type": "code",
      "metadata": {
        "id": "MNOFGwE14PBV",
        "colab_type": "code",
        "colab": {}
      },
      "source": [
        ""
      ],
      "execution_count": null,
      "outputs": []
    },
    {
      "cell_type": "code",
      "metadata": {
        "id": "sRtbJglpHw-p",
        "colab_type": "code",
        "colab": {}
      },
      "source": [
        "prepared_train = pd.read_csv('prepared_train.csv', encoding='utf-8')"
      ],
      "execution_count": null,
      "outputs": []
    },
    {
      "cell_type": "code",
      "metadata": {
        "id": "PmldWIDJNYol",
        "colab_type": "code",
        "colab": {}
      },
      "source": [
        "del prepared_train['Unnamed: 0']"
      ],
      "execution_count": null,
      "outputs": []
    },
    {
      "cell_type": "code",
      "metadata": {
        "id": "WLRH5TKd4PAx",
        "colab_type": "code",
        "colab": {
          "base_uri": "https://localhost:8080/",
          "height": 52
        },
        "outputId": "77a6523f-22fa-48d7-93d4-0a412281ccfe"
      },
      "source": [
        "%%time\n",
        "vec_train = vectorizer.fit_transform(prepared_train['orgin'])"
      ],
      "execution_count": null,
      "outputs": [
        {
          "output_type": "stream",
          "text": [
            "CPU times: user 49.6 s, sys: 1.52 s, total: 51.1 s\n",
            "Wall time: 51.1 s\n"
          ],
          "name": "stdout"
        }
      ]
    },
    {
      "cell_type": "code",
      "metadata": {
        "id": "2gBdSV864O-r",
        "colab_type": "code",
        "colab": {}
      },
      "source": [
        "svm_model = joblib.load('final_model/svm_model.pkl')\n",
        "lgbm_model = joblib.load('final_model/lgbm_model.pkl')"
      ],
      "execution_count": null,
      "outputs": []
    },
    {
      "cell_type": "code",
      "metadata": {
        "id": "xDdqlp3U7-fy",
        "colab_type": "code",
        "colab": {}
      },
      "source": [
        ""
      ],
      "execution_count": null,
      "outputs": []
    },
    {
      "cell_type": "code",
      "metadata": {
        "id": "aTiayvdT7fj0",
        "colab_type": "code",
        "colab": {}
      },
      "source": [
        "X_origin = vec_train\n",
        "Y_label = prepared_train['smishing']"
      ],
      "execution_count": null,
      "outputs": []
    },
    {
      "cell_type": "code",
      "metadata": {
        "id": "Mg23yzTN7fnu",
        "colab_type": "code",
        "colab": {
          "base_uri": "https://localhost:8080/",
          "height": 52
        },
        "outputId": "6554f123-237b-4261-9e76-de9b33e8c901"
      },
      "source": [
        "# train - test 분류\n",
        "# 인덱싱 문제로 순서대로 train / test split\n",
        "%%time\n",
        "X_train, X_test, Y_train, Y_test = train_test_split(X_origin,\n",
        "                                                    Y_label,\n",
        "                                                    test_size = 0.2,\n",
        "                                                    shuffle = False)\n",
        "                                                    # random_state = 1825)"
      ],
      "execution_count": null,
      "outputs": [
        {
          "output_type": "stream",
          "text": [
            "CPU times: user 57.7 ms, sys: 0 ns, total: 57.7 ms\n",
            "Wall time: 58.8 ms\n"
          ],
          "name": "stdout"
        }
      ]
    },
    {
      "cell_type": "markdown",
      "metadata": {
        "id": "T2PGIe8n9lVL",
        "colab_type": "text"
      },
      "source": [
        "## 단일모델: SVM"
      ]
    },
    {
      "cell_type": "code",
      "metadata": {
        "id": "kKPooYi37fq6",
        "colab_type": "code",
        "colab": {}
      },
      "source": [
        "svm_submission = pd.DataFrame(data=np.zeros((X_test.shape[0],2)))\n",
        "svm_submission.index = Y_test.index \n",
        "svm_submission += svm_model.predict_proba(X_test)\n",
        "svm_submission.index.name = 'id'\n",
        "svm_submission.columns = ['normal', 'smishing']\n"
      ],
      "execution_count": null,
      "outputs": []
    },
    {
      "cell_type": "markdown",
      "metadata": {
        "id": "8pGDEbxh-h7H",
        "colab_type": "text"
      },
      "source": [
        "### 예측값 산정"
      ]
    },
    {
      "cell_type": "code",
      "metadata": {
        "id": "rNon5SIa67vB",
        "colab_type": "code",
        "colab": {}
      },
      "source": [
        "svm_submission['pred'] = 0\n",
        "for idx in svm_submission.index:\n",
        "    if (svm_submission['normal'][idx] < svm_submission['smishing'][idx]):\n",
        "        svm_submission['pred'][idx]= 1"
      ],
      "execution_count": null,
      "outputs": []
    },
    {
      "cell_type": "code",
      "metadata": {
        "id": "p5WldMkOKJ8d",
        "colab_type": "code",
        "colab": {}
      },
      "source": [
        "svm_submission.to_csv('final_model/submissions/svm_submission.csv')"
      ],
      "execution_count": null,
      "outputs": []
    },
    {
      "cell_type": "markdown",
      "metadata": {
        "id": "BxkcHKct67yN",
        "colab_type": "text"
      },
      "source": [
        "### classification report"
      ]
    },
    {
      "cell_type": "code",
      "metadata": {
        "id": "uukwOlqealpy",
        "colab_type": "code",
        "colab": {}
      },
      "source": [
        "from sklearn.metrics import classification_report"
      ],
      "execution_count": null,
      "outputs": []
    },
    {
      "cell_type": "code",
      "metadata": {
        "id": "9DhFNuO9alt_",
        "colab_type": "code",
        "colab": {}
      },
      "source": [
        "result = classification_report(Y_test, svm_submission['pred'], target_names=['normal','smishing'])"
      ],
      "execution_count": null,
      "outputs": []
    },
    {
      "cell_type": "code",
      "metadata": {
        "id": "qFGnI5ENamEi",
        "colab_type": "code",
        "colab": {}
      },
      "source": [
        "print(result)"
      ],
      "execution_count": null,
      "outputs": []
    },
    {
      "cell_type": "markdown",
      "metadata": {
        "id": "gXc6xODx6714",
        "colab_type": "text"
      },
      "source": [
        "## 직렬모델: SVM + LGBM \n",
        "(SVM의 예측확률이 90% 넘어가는 것 -> LGBM의 확률과 더한 후 확률로 판정)"
      ]
    },
    {
      "cell_type": "code",
      "metadata": {
        "id": "-npfjtCEeDIn",
        "colab_type": "code",
        "colab": {
          "base_uri": "https://localhost:8080/",
          "height": 1000,
          "referenced_widgets": [
            "8d5b00cdb20f4f20b4396531ed4636d4",
            "1c8bdf87b8eb4d7d865fad5bd3c023bf",
            "4204b6beada443e4aa68ad8a09882156",
            "095a4a0eff0e4ea58f75149630e0bf70",
            "f9492acfb2b94df39b9328a1c32f486e",
            "298a5fc2b428414299e3d676ceab4815",
            "99af95ec829445a6aab453ac907d86ee",
            "3906b229afeb414fa0aecfb794d71939",
            "2f05ade20e964c418b82da99db6ed974",
            "c97c6123440b4ebab3a3aa7731387858",
            "d43771c45cf54278b5409fe7baf82928",
            "21e88bac8da042168b7a8457e9107918",
            "69b2963f891f4617806d709d97a82e53",
            "6ff934ac18e948f3b809eccc824ebf89",
            "5457c9c7c83f4108a3aebc25035dbdd5",
            "b987866e3552400593a14e6c8f383fdb",
            "1a74e8f52e374b9488081f09f71da4ae",
            "98b24a7a661f4855a461b451dafc9f9f",
            "9f4b1ccfa12748cfb84c91979de4d860",
            "20cfea42730b415eb7613451e7cea96c",
            "440d84e43b9541448f083f5217e61340",
            "5c95bc94976a47aeb72a9cf20b4e2874",
            "dad75c24fa3c4f51aa2d15c705ea350f",
            "08207fa8c80245b98f043ae94dad8d8b",
            "fb9ad0e616624ad2a8dc06b1c3c9f685",
            "b3fbe843e4904c9c971648836d260f0c",
            "a02a3e17f023436a8530a3b114afb65f",
            "4f9af1702dc446a6b96931605c8aa1ec",
            "fe5b5c2f152a4906a345f25696b17e9b",
            "3192835fd5a94e73bddf7ac9832bea4a",
            "531d87dd2f7a45e59ad0d0770464d915",
            "51cf0047bb9b497b9d135a67798c967e"
          ]
        },
        "outputId": "d961073b-011d-4859-f461-7b2acf38a0c3"
      },
      "source": [
        "check_list = [0.1, 0.2, 0.3, 0.4]\n",
        "result_dict = dict()\n",
        "\n",
        "for prob in check_list:\n",
        "    svmNlgbm_submission = pd.DataFrame(data=np.zeros((X_test.shape[0],2)))\n",
        "    svmNlgbm_submission.index = Y_test.index\n",
        "    svmNlgbm_submission.columns = ['normal', 'smishing']\n",
        "    svmNlgbm_submission += svm_model.predict_proba(X_test)\n",
        "    svmNlgbm_submission.index.name = 'id'\n",
        "    svmNlgbm_submission['pred'] = 99\n",
        "\n",
        "    for test_idx, idx in tqdm_notebook(enumerate(svmNlgbm_submission.index)):\n",
        "        # 'smishing'에 대한 예측 확률 (svm 대부분 99.9 이상으로 갈림 -> 0.1 ~ 0.9 사이면 확신이 없는 것임)\n",
        "        if ( prob < svm_model.predict_proba(X_test[test_idx])[0][1] < 1 - prob):\n",
        "            smishing_prob = (svm_model.predict_proba(X_test[test_idx])[0][1] + lgbm_model.predict_proba(X_test[test_idx])[0][1]) / 2\n",
        "            svmNlgbm_submission['smishing'][idx] = smishing_prob\n",
        "            svmNlgbm_submission['normal'][idx] = 1 - smishing_prob\n",
        "            if (smishing_prob > 0.5):\n",
        "                svmNlgbm_submission['pred'][idx] = 1\n",
        "            else:\n",
        "                svmNlgbm_submission['pred'][idx] = 0\n",
        "        else:\n",
        "            svmNlgbm_submission['normal'][idx] = svm_model.predict_proba(X_test[test_idx])[0][0]\n",
        "            svmNlgbm_submission['smishing'][idx] = svm_model.predict_proba(X_test[test_idx])[0][1]\n",
        "            # smishing 확률 더 높음\n",
        "            if (svm_model.predict_proba(X_test[test_idx])[0][1] > svm_model.predict_proba(X_test[test_idx])[0][0]):\n",
        "                svmNlgbm_submission['pred'][idx] = 1\n",
        "            # normal 확률 더 높음\n",
        "            else:\n",
        "                svmNlgbm_submission['pred'][idx] = 0\n",
        "\n",
        "    svmNlgbm_submission.index = Y_test.index \n",
        "    svmNlgbm_submission.to_csv('final_model/submissions/svmNlgbm_submission' + str(prob) + 'N' + str(1-prob) + '.csv')\n",
        "    try:\n",
        "        result = classification_report(Y_test, svmNlgbm_submission['pred'], target_names=['normal','smishing'])\n",
        "        result_dict[idx] = result\n",
        "        print()\n",
        "        print(result)\n",
        "    except:\n",
        "        pass\n",
        "\n",
        "\n"
      ],
      "execution_count": null,
      "outputs": [
        {
          "output_type": "stream",
          "text": [
            "/usr/local/lib/python3.6/dist-packages/ipykernel_launcher.py:12: TqdmDeprecationWarning: This function will be removed in tqdm==5.0.0\n",
            "Please use `tqdm.notebook.tqdm` instead of `tqdm.tqdm_notebook`\n",
            "  if sys.path[0] == '':\n"
          ],
          "name": "stderr"
        },
        {
          "output_type": "display_data",
          "data": {
            "application/vnd.jupyter.widget-view+json": {
              "model_id": "8d5b00cdb20f4f20b4396531ed4636d4",
              "version_minor": 0,
              "version_major": 2
            },
            "text/plain": [
              "HBox(children=(FloatProgress(value=1.0, bar_style='info', max=1.0), HTML(value='')))"
            ]
          },
          "metadata": {
            "tags": []
          }
        },
        {
          "output_type": "stream",
          "text": [
            "/usr/local/lib/python3.6/dist-packages/ipykernel_launcher.py:23: SettingWithCopyWarning: \n",
            "A value is trying to be set on a copy of a slice from a DataFrame\n",
            "\n",
            "See the caveats in the documentation: https://pandas.pydata.org/pandas-docs/stable/user_guide/indexing.html#returning-a-view-versus-a-copy\n",
            "/usr/local/lib/python3.6/dist-packages/ipykernel_launcher.py:24: SettingWithCopyWarning: \n",
            "A value is trying to be set on a copy of a slice from a DataFrame\n",
            "\n",
            "See the caveats in the documentation: https://pandas.pydata.org/pandas-docs/stable/user_guide/indexing.html#returning-a-view-versus-a-copy\n",
            "/usr/local/lib/python3.6/dist-packages/ipykernel_launcher.py:30: SettingWithCopyWarning: \n",
            "A value is trying to be set on a copy of a slice from a DataFrame\n",
            "\n",
            "See the caveats in the documentation: https://pandas.pydata.org/pandas-docs/stable/user_guide/indexing.html#returning-a-view-versus-a-copy\n",
            "/usr/local/lib/python3.6/dist-packages/ipykernel_launcher.py:27: SettingWithCopyWarning: \n",
            "A value is trying to be set on a copy of a slice from a DataFrame\n",
            "\n",
            "See the caveats in the documentation: https://pandas.pydata.org/pandas-docs/stable/user_guide/indexing.html#returning-a-view-versus-a-copy\n",
            "/usr/local/lib/python3.6/dist-packages/ipykernel_launcher.py:16: SettingWithCopyWarning: \n",
            "A value is trying to be set on a copy of a slice from a DataFrame\n",
            "\n",
            "See the caveats in the documentation: https://pandas.pydata.org/pandas-docs/stable/user_guide/indexing.html#returning-a-view-versus-a-copy\n",
            "  app.launch_new_instance()\n",
            "/usr/local/lib/python3.6/dist-packages/ipykernel_launcher.py:17: SettingWithCopyWarning: \n",
            "A value is trying to be set on a copy of a slice from a DataFrame\n",
            "\n",
            "See the caveats in the documentation: https://pandas.pydata.org/pandas-docs/stable/user_guide/indexing.html#returning-a-view-versus-a-copy\n",
            "/usr/local/lib/python3.6/dist-packages/ipykernel_launcher.py:21: SettingWithCopyWarning: \n",
            "A value is trying to be set on a copy of a slice from a DataFrame\n",
            "\n",
            "See the caveats in the documentation: https://pandas.pydata.org/pandas-docs/stable/user_guide/indexing.html#returning-a-view-versus-a-copy\n",
            "/usr/local/lib/python3.6/dist-packages/ipykernel_launcher.py:19: SettingWithCopyWarning: \n",
            "A value is trying to be set on a copy of a slice from a DataFrame\n",
            "\n",
            "See the caveats in the documentation: https://pandas.pydata.org/pandas-docs/stable/user_guide/indexing.html#returning-a-view-versus-a-copy\n"
          ],
          "name": "stderr"
        },
        {
          "output_type": "stream",
          "text": [
            "\n",
            "\n",
            "              precision    recall  f1-score   support\n",
            "\n",
            "      normal       1.00      1.00      1.00     51205\n",
            "    smishing       1.00      0.99      0.99      7984\n",
            "\n",
            "    accuracy                           1.00     59189\n",
            "   macro avg       1.00      0.99      1.00     59189\n",
            "weighted avg       1.00      1.00      1.00     59189\n",
            "\n"
          ],
          "name": "stdout"
        },
        {
          "output_type": "display_data",
          "data": {
            "application/vnd.jupyter.widget-view+json": {
              "model_id": "2f05ade20e964c418b82da99db6ed974",
              "version_minor": 0,
              "version_major": 2
            },
            "text/plain": [
              "HBox(children=(FloatProgress(value=1.0, bar_style='info', max=1.0), HTML(value='')))"
            ]
          },
          "metadata": {
            "tags": []
          }
        },
        {
          "output_type": "stream",
          "text": [
            "\n",
            "\n",
            "              precision    recall  f1-score   support\n",
            "\n",
            "      normal       1.00      1.00      1.00     51205\n",
            "    smishing       1.00      0.99      1.00      7984\n",
            "\n",
            "    accuracy                           1.00     59189\n",
            "   macro avg       1.00      1.00      1.00     59189\n",
            "weighted avg       1.00      1.00      1.00     59189\n",
            "\n"
          ],
          "name": "stdout"
        },
        {
          "output_type": "display_data",
          "data": {
            "application/vnd.jupyter.widget-view+json": {
              "model_id": "1a74e8f52e374b9488081f09f71da4ae",
              "version_minor": 0,
              "version_major": 2
            },
            "text/plain": [
              "HBox(children=(FloatProgress(value=1.0, bar_style='info', max=1.0), HTML(value='')))"
            ]
          },
          "metadata": {
            "tags": []
          }
        },
        {
          "output_type": "stream",
          "text": [
            "\n",
            "\n",
            "              precision    recall  f1-score   support\n",
            "\n",
            "      normal       1.00      1.00      1.00     51205\n",
            "    smishing       1.00      0.99      0.99      7984\n",
            "\n",
            "    accuracy                           1.00     59189\n",
            "   macro avg       1.00      1.00      1.00     59189\n",
            "weighted avg       1.00      1.00      1.00     59189\n",
            "\n"
          ],
          "name": "stdout"
        },
        {
          "output_type": "display_data",
          "data": {
            "application/vnd.jupyter.widget-view+json": {
              "model_id": "fb9ad0e616624ad2a8dc06b1c3c9f685",
              "version_minor": 0,
              "version_major": 2
            },
            "text/plain": [
              "HBox(children=(FloatProgress(value=1.0, bar_style='info', max=1.0), HTML(value='')))"
            ]
          },
          "metadata": {
            "tags": []
          }
        },
        {
          "output_type": "stream",
          "text": [
            "\n",
            "\n",
            "              precision    recall  f1-score   support\n",
            "\n",
            "      normal       1.00      1.00      1.00     51205\n",
            "    smishing       1.00      0.99      0.99      7984\n",
            "\n",
            "    accuracy                           1.00     59189\n",
            "   macro avg       1.00      0.99      1.00     59189\n",
            "weighted avg       1.00      1.00      1.00     59189\n",
            "\n"
          ],
          "name": "stdout"
        }
      ]
    },
    {
      "cell_type": "code",
      "metadata": {
        "id": "6QY0gD-0RYsh",
        "colab_type": "code",
        "colab": {}
      },
      "source": [
        "## 보관용\n",
        "\n",
        "# svmNlgbm_submission = pd.DataFrame(data=np.zeros((X_test.shape[0],2)))\n",
        "# svmNlgbm_submission.index = Y_test.index \n",
        "# svmNlgbm_submission += svm_model.predict_proba(X_test)\n",
        "# svmNlgbm_submission.index.name = 'id'\n",
        "# svmNlgbm_submission.columns = ['normal', 'smishing']\n",
        "# svmNlgbm_submission['pred'] = 0\n",
        "\n",
        "# result_dict = dict()\n",
        "\n",
        "# for idx in tqdm(range(X_test.shape[0])):\n",
        "#     # 'smishing'에 대한 예측 확률 (svm 대부분 99.9 이상으로 갈림 -> 0.1 ~ 0.9 사이면 확신이 없는 것임)\n",
        "#     if (0.3 < svm_model.predict_proba(X_test[idx])[0][1] < 0.7):\n",
        "#         smishing_prob = (svm_model.predict_proba(X_test[idx])[0][1] + lgbm_model.predict_proba(X_test[idx])[0][1]) / 2\n",
        "#         svmNlgbm_submission['smishing'][idx] = smishing_prob\n",
        "#         svmNlgbm_submission['normal'][idx] = 1 - smishing_prob\n",
        "#         if (smishing_prob > 0.5):\n",
        "#             print(\"애매한 경우 확률: \", smishing_prob)\n",
        "#             svmNlgbm_submission['pred'][idx] = 1\n",
        "#         else:\n",
        "#             svmNlgbm_submission['pred'][idx] = 0\n",
        "#     else:\n",
        "#         svmNlgbm_submission['normal'][idx] = svm_model.predict_proba(X_test[idx])[0][0]\n",
        "#         svmNlgbm_submission['smishing'][idx] = svm_model.predict_proba(X_test[idx])[0][1]\n",
        "#         # smishing 확률 더 높음\n",
        "#         if (svm_model.predict_proba(X_test[idx])[0][1] > svm_model.predict_proba(X_test[idx])[0][0]):\n",
        "#             svmNlgbm_submission['pred'][idx] = 1\n",
        "#         # normal 확률 더 높음\n",
        "#         else:\n",
        "#             svmNlgbm_submission['pred'][idx] = 0\n",
        "\n",
        "# svmNlgbm_submission.index = Y_test.index \n",
        "# svmNlgbm_submission.to_csv('final_model/submissions/svmNlgbm_submission3070.csv')\n",
        "# result = classification_report(Y_test, svmNlgbm_submission['pred'], target_names=['normal','smishing'])\n",
        "\n",
        "# print(result)"
      ],
      "execution_count": null,
      "outputs": []
    },
    {
      "cell_type": "markdown",
      "metadata": {
        "id": "zt9dkA8jT7ja",
        "colab_type": "text"
      },
      "source": [
        "# 최종결과\n",
        ": 정확도 및 F1-score가 SVM의 분류 확률이 2:8로 나눠진 것부터 LGBM 보완하면 더 성능이 높아짐<br>\n",
        "(기존: 정확도 0.9983 / F1 socre: 0.9939)<br>\n",
        "(LGBM 직렬 처리 후 : 정확도 0.9987 / F1 score 0.9954)"
      ]
    },
    {
      "cell_type": "code",
      "metadata": {
        "id": "StYMGwxbRYpx",
        "colab_type": "code",
        "colab": {
          "base_uri": "https://localhost:8080/",
          "height": 1000
        },
        "outputId": "a736e6ed-6860-4df4-a4c6-fe8f73c5e8c5"
      },
      "source": [
        "check_list = [0.1, 0.2, 0.3, 0.4]\n",
        "Y_label = prepared_train['smishing']\n",
        "Y_train, Y_test = train_test_split(Y_label,test_size = 0.2,shuffle = False)\n",
        "\n",
        "svm = pd.read_csv('final_model/submissions/svm_submission.csv')\n",
        "print(\"svm 단독 모델: \", accuracy_score(Y_test, svm['pred']))\n",
        "print(f1_score(Y_test, svm['pred'], labels = ['normal','smishing'], pos_label = 1))\n",
        "print()\n",
        "print()\n",
        "\n",
        "result_dict = dict()\n",
        "for prob in check_list:\n",
        "    sub = pd.read_csv('final_model/submissions/svmNlgbm_submission' + str(prob) + 'N' + str(1-prob) + '.csv')\n",
        "    print(accuracy_score(Y_test, sub['pred']))\n",
        "    print(f1_score(Y_test, sub['pred'], labels = ['normal','smishing'], pos_label = 1))\n",
        "    result = classification_report(Y_test, sub['pred'], target_names=['normal','smishing'])\n",
        "    print(result)\n",
        "    result_dict[prob] = result\n",
        "    print()\n",
        "    print()\n",
        "   \n"
      ],
      "execution_count": null,
      "outputs": [
        {
          "output_type": "stream",
          "text": [
            "svm 단독 모델:  0.9983780770075521\n",
            "0.9939577039274924\n",
            "\n",
            "\n",
            "0.9986315024751221\n",
            "0.9949014917857367\n",
            "              precision    recall  f1-score   support\n",
            "\n",
            "      normal       1.00      1.00      1.00     51205\n",
            "    smishing       1.00      0.99      0.99      7984\n",
            "\n",
            "    accuracy                           1.00     59189\n",
            "   macro avg       1.00      0.99      1.00     59189\n",
            "weighted avg       1.00      1.00      1.00     59189\n",
            "\n",
            "\n",
            "\n",
            "0.9987835577556641\n",
            "0.9954711284438295\n",
            "              precision    recall  f1-score   support\n",
            "\n",
            "      normal       1.00      1.00      1.00     51205\n",
            "    smishing       1.00      0.99      1.00      7984\n",
            "\n",
            "    accuracy                           1.00     59189\n",
            "   macro avg       1.00      1.00      1.00     59189\n",
            "weighted avg       1.00      1.00      1.00     59189\n",
            "\n",
            "\n",
            "\n",
            "0.9986483975062934\n",
            "0.994966654083302\n",
            "              precision    recall  f1-score   support\n",
            "\n",
            "      normal       1.00      1.00      1.00     51205\n",
            "    smishing       1.00      0.99      0.99      7984\n",
            "\n",
            "    accuracy                           1.00     59189\n",
            "   macro avg       1.00      1.00      1.00     59189\n",
            "weighted avg       1.00      1.00      1.00     59189\n",
            "\n",
            "\n",
            "\n",
            "0.9984963422257515\n",
            "0.9943979354188959\n",
            "              precision    recall  f1-score   support\n",
            "\n",
            "      normal       1.00      1.00      1.00     51205\n",
            "    smishing       1.00      0.99      0.99      7984\n",
            "\n",
            "    accuracy                           1.00     59189\n",
            "   macro avg       1.00      0.99      1.00     59189\n",
            "weighted avg       1.00      1.00      1.00     59189\n",
            "\n",
            "\n",
            "\n"
          ],
          "name": "stdout"
        }
      ]
    },
    {
      "cell_type": "code",
      "metadata": {
        "id": "OKD3G_oiEhw-",
        "colab_type": "code",
        "colab": {
          "base_uri": "https://localhost:8080/",
          "height": 107
        },
        "outputId": "856ee389-9243-4eec-a6bf-3f638e493b4d"
      },
      "source": [
        "result_dict"
      ],
      "execution_count": null,
      "outputs": [
        {
          "output_type": "execute_result",
          "data": {
            "text/plain": [
              "{0.1: '              precision    recall  f1-score   support\\n\\n      normal       1.00      1.00      1.00     51205\\n    smishing       1.00      0.99      0.99      7984\\n\\n    accuracy                           1.00     59189\\n   macro avg       1.00      0.99      1.00     59189\\nweighted avg       1.00      1.00      1.00     59189\\n',\n",
              " 0.2: '              precision    recall  f1-score   support\\n\\n      normal       1.00      1.00      1.00     51205\\n    smishing       1.00      0.99      1.00      7984\\n\\n    accuracy                           1.00     59189\\n   macro avg       1.00      1.00      1.00     59189\\nweighted avg       1.00      1.00      1.00     59189\\n',\n",
              " 0.3: '              precision    recall  f1-score   support\\n\\n      normal       1.00      1.00      1.00     51205\\n    smishing       1.00      0.99      0.99      7984\\n\\n    accuracy                           1.00     59189\\n   macro avg       1.00      1.00      1.00     59189\\nweighted avg       1.00      1.00      1.00     59189\\n',\n",
              " 0.4: '              precision    recall  f1-score   support\\n\\n      normal       1.00      1.00      1.00     51205\\n    smishing       1.00      0.99      0.99      7984\\n\\n    accuracy                           1.00     59189\\n   macro avg       1.00      0.99      1.00     59189\\nweighted avg       1.00      1.00      1.00     59189\\n'}"
            ]
          },
          "metadata": {
            "tags": []
          },
          "execution_count": 24
        }
      ]
    },
    {
      "cell_type": "code",
      "metadata": {
        "id": "S_bQ4RHWSNiY",
        "colab_type": "code",
        "colab": {}
      },
      "source": [
        ""
      ],
      "execution_count": null,
      "outputs": []
    }
  ]
}